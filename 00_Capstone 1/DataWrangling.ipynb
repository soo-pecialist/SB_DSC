{
 "cells": [
  {
   "cell_type": "markdown",
   "metadata": {},
   "source": [
    "# 1. Data Importing"
   ]
  },
  {
   "cell_type": "code",
   "execution_count": 1,
   "metadata": {},
   "outputs": [],
   "source": [
    "%matplotlib inline\n",
    "import matplotlib.pyplot as plt\n",
    "import seaborn as sns\n",
    "sns.set(style=\"ticks\")"
   ]
  },
  {
   "cell_type": "code",
   "execution_count": 2,
   "metadata": {},
   "outputs": [],
   "source": [
    "# %load wrangling.py\n",
    "import pandas as pd\n",
    "import json\n",
    "from pandas.io.json import json_normalize\n",
    "import numpy as np\n",
    "import gzip\n",
    "\n",
    "# helper functions to read the data in loose json format into pandas DataFrame\n",
    "def parse(path):\n",
    "    g = gzip.open(path, 'rb')\n",
    "    for l in g:\n",
    "        yield eval(l)\n",
    "\n",
    "def getMeta(path):\n",
    "    i = 0\n",
    "    meta = {}\n",
    "    for d in parse(path):\n",
    "        meta[i] = d\n",
    "        i += 1\n",
    "    return pd.DataFrame.from_dict(meta, orient='index')\n",
    "\n",
    "def getDF(path, ind=0):\n",
    "    # each time get 1/10 of DF\n",
    "    chunksize = ((82456877 // 100)*10)+10 # 8245690 \n",
    "    i = 0\n",
    "    df = {}\n",
    "    for d in parse(path):\n",
    "        if (i >= ind*chunksize) and (i < (ind+1)*chunksize):\n",
    "            df[i] = d\n",
    "        i += 1\n",
    "        if i == (ind+1)*chunksize:\n",
    "            break\n",
    "    return pd.DataFrame.from_dict(df, orient='index')\n",
    "\n",
    "## to save large dataframe for later use - preventing waste of time loading json for every re-run\n",
    "# to meta.h5\n",
    "def meta_to_hdf(df, name='meta', number=10):\n",
    "    chunksize = int(np.ceil(df.shape[0]/number))\n",
    "    \n",
    "    for i in range(number):\n",
    "        df[chunksize*i:chunksize*(i+1)].to_hdf('./h5_data/'+name+'_'+str(i)+'.h5', key='df', mode='w')\n",
    "        if i == number-1: # last chunk\n",
    "            break\n",
    "    df[chunksize*i:].to_hdf('./h5_data/'+name+'_'+str(i)+'.h5', key='df', mode='w')\n",
    "\n",
    "# read meta.h5\n",
    "def read_hdf():\n",
    "    df = pd.DataFrame()\n",
    "    for i in range(10):\n",
    "        temp_df = pd.read_hdf(\"./h5_data/meta_\"+str(i)+\".h5\", 'df')\n",
    "        df = pd.concat([df, temp_df], axis=0)\n",
    "    return df\n",
    "\n",
    "# to df.h5\n",
    "def df_to_hdf_n(df, name='df', n = 0, chunk=10):\n",
    "    chunksize = int(np.ceil(df.shape[0]/chunk)) # split into 10 chunks\n",
    "    \n",
    "    for i in range(chunk): # 0~9, 10~19, ... , 90~99\n",
    "        df[chunksize*i:chunksize*(i+1)].to_hdf('./h5_data/'+name+'_'+str(i+n*chunk)+'.h5', key='df', mode='w')\n",
    "        if i == chunk-1: # last chunk\n",
    "            break\n",
    "    df[chunksize*i:].to_hdf('./h5_data/'+name+'_'+str(i+n*chunk)+'.h5', key='df', mode='w')\n",
    "\n",
    "# read df.h5\n",
    "def read_hdf_n(n=0, chunk=10):\n",
    "    df = pd.DataFrame()\n",
    "    for i in range(n*chunk, (n+1)*chunk): # 0~9, 10~19, ... , 90~99\n",
    "        temp_df = pd.read_hdf(\"./h5_data/df_\"+str(i)+\".h5\", 'df')\n",
    "        df = pd.concat([df, temp_df], axis=0)\n",
    "    return df\n",
    "\n",
    "\n",
    "# print(\"it opens fine\")"
   ]
  },
  {
   "cell_type": "markdown",
   "metadata": {},
   "source": [
    "## ** WARNING **\n",
    "### Following operation blocks may take very long time and your session can be disconnected inadvertently during the process . They are only for the very first time run!  (Do not uncomment unnecessarily)\n",
    "\n",
    "Since Data itself is too large to handle (Metadata 3.1GB & Data 18 GB), for easiness of use later, I go through a process of spliting and filtering data and then later combine filtered (targeted) data into one file.\n",
    "If it is not your first run of this notebook, you can skip step(s) to a, b, c, d, e, f or g\n",
    "\n",
    "**If you want original data used in these steps, please follow [this link](http://jmcauley.ucsd.edu/data/amazon/) and request permission to Dr. McAuley.**\n",
    "\n",
    "### a. spliting original data into 10 pieces and save in 100 seperate hdf files; metadata, 10 hdf files"
   ]
  },
  {
   "cell_type": "code",
   "execution_count": null,
   "metadata": {},
   "outputs": [],
   "source": [
    "# meta_df = getMeta('metadata.json.gz') # 30~'"
   ]
  },
  {
   "cell_type": "code",
   "execution_count": null,
   "metadata": {},
   "outputs": [],
   "source": [
    "# meta_to_hdf(meta_df, 'meta', 10) # meta_0~9.h5"
   ]
  },
  {
   "cell_type": "code",
   "execution_count": null,
   "metadata": {},
   "outputs": [],
   "source": [
    "# df_0 = getDF('aggressive_dedup.json.gz', ind=0) # 20~'"
   ]
  },
  {
   "cell_type": "code",
   "execution_count": null,
   "metadata": {},
   "outputs": [],
   "source": [
    "# df_to_hdf_n(df_0, name='df', n=0, chunk=10) # df_0~9.h5"
   ]
  },
  {
   "cell_type": "code",
   "execution_count": null,
   "metadata": {},
   "outputs": [],
   "source": [
    "# df_1 = getDF('aggressive_dedup.json.gz', ind=1) # 20~'"
   ]
  },
  {
   "cell_type": "code",
   "execution_count": null,
   "metadata": {},
   "outputs": [],
   "source": [
    "# df_to_hdf_n(df_1, name='df', n=1, chunk=10) # df_10~19.h5"
   ]
  },
  {
   "cell_type": "code",
   "execution_count": null,
   "metadata": {},
   "outputs": [],
   "source": [
    "# df_2 = getDF('aggressive_dedup.json.gz', ind=2) # 20~'"
   ]
  },
  {
   "cell_type": "code",
   "execution_count": null,
   "metadata": {},
   "outputs": [],
   "source": [
    "# df_to_hdf_n(df_2, name='df', n=2, chunk=10) # df_20~29.h5"
   ]
  },
  {
   "cell_type": "code",
   "execution_count": null,
   "metadata": {},
   "outputs": [],
   "source": [
    "# df_3 = getDF('aggressive_dedup.json.gz', ind=3) # 20~'"
   ]
  },
  {
   "cell_type": "code",
   "execution_count": null,
   "metadata": {},
   "outputs": [],
   "source": [
    "# df_to_hdf_n(df_3, name='df', n=3, chunk=10) # df_30~39.h5"
   ]
  },
  {
   "cell_type": "code",
   "execution_count": null,
   "metadata": {},
   "outputs": [],
   "source": [
    "# df_4 = getDF('aggressive_dedup.json.gz', ind=4) # 20~' "
   ]
  },
  {
   "cell_type": "code",
   "execution_count": null,
   "metadata": {},
   "outputs": [],
   "source": [
    "# df_to_hdf_n(df_4, name='df', n=4, chunk=10) # df_40~49.h5"
   ]
  },
  {
   "cell_type": "code",
   "execution_count": null,
   "metadata": {},
   "outputs": [],
   "source": [
    "# df_5 = getDF('aggressive_dedup.json.gz', ind=5) # 25~'"
   ]
  },
  {
   "cell_type": "code",
   "execution_count": null,
   "metadata": {},
   "outputs": [],
   "source": [
    "# df_to_hdf_n(df_5, name='df', n=5, chunk=10) # df_50~59.h5"
   ]
  },
  {
   "cell_type": "code",
   "execution_count": null,
   "metadata": {},
   "outputs": [],
   "source": [
    "# df_6 = getDF('aggressive_dedup.json.gz', ind=6) # 40~'"
   ]
  },
  {
   "cell_type": "code",
   "execution_count": null,
   "metadata": {},
   "outputs": [],
   "source": [
    "# df_to_hdf_n(df_6, name='df', n=6, chunk=10) # df_60~69.h5"
   ]
  },
  {
   "cell_type": "code",
   "execution_count": null,
   "metadata": {},
   "outputs": [],
   "source": [
    "# df_7 = getDF('aggressive_dedup.json.gz', ind=7) # 40~'"
   ]
  },
  {
   "cell_type": "code",
   "execution_count": null,
   "metadata": {},
   "outputs": [],
   "source": [
    "# df_to_hdf_n(df_7, name='df', n=7, chunk=10) # df_70~79.h5"
   ]
  },
  {
   "cell_type": "code",
   "execution_count": null,
   "metadata": {},
   "outputs": [],
   "source": [
    "# df_8 = getDF('aggressive_dedup.json.gz', ind=8) # 40~'"
   ]
  },
  {
   "cell_type": "code",
   "execution_count": null,
   "metadata": {},
   "outputs": [],
   "source": [
    "# df_to_hdf_n(df_8, name='df', n=8, chunk=10) # df_80~89.h5"
   ]
  },
  {
   "cell_type": "code",
   "execution_count": null,
   "metadata": {},
   "outputs": [],
   "source": [
    "# df_9 = getDF('aggressive_dedup.json.gz', ind=9) # 40~'"
   ]
  },
  {
   "cell_type": "code",
   "execution_count": null,
   "metadata": {},
   "outputs": [],
   "source": [
    "# df_to_hdf_n(df_9, name='df', n=9, chunk=10) # df_90~99.h5"
   ]
  },
  {
   "cell_type": "markdown",
   "metadata": {},
   "source": [
    "### b. Call pre-filtered data; original data\n",
    "If you are done the very previous step (a), you can go aheada and uncomment these code blocks. Each line reads 10 hdf files into pandas dataframe"
   ]
  },
  {
   "cell_type": "code",
   "execution_count": 38,
   "metadata": {},
   "outputs": [],
   "source": [
    "# meta_df = read_hdf() # 5~10'"
   ]
  },
  {
   "cell_type": "code",
   "execution_count": 3,
   "metadata": {},
   "outputs": [],
   "source": [
    "# df_0 = read_hdf_n(n=0, chunk=10) # 4'"
   ]
  },
  {
   "cell_type": "code",
   "execution_count": 7,
   "metadata": {},
   "outputs": [],
   "source": [
    "# df_1 = read_hdf_n(n=1, chunk=10) "
   ]
  },
  {
   "cell_type": "code",
   "execution_count": 10,
   "metadata": {},
   "outputs": [],
   "source": [
    "# df_2 = read_hdf_n(n=2, chunk=10) "
   ]
  },
  {
   "cell_type": "code",
   "execution_count": 13,
   "metadata": {},
   "outputs": [],
   "source": [
    "# df_3 = read_hdf_n(n=3, chunk=10)"
   ]
  },
  {
   "cell_type": "code",
   "execution_count": 16,
   "metadata": {},
   "outputs": [],
   "source": [
    "# df_4 = read_hdf_n(n=4, chunk=10)"
   ]
  },
  {
   "cell_type": "code",
   "execution_count": 19,
   "metadata": {},
   "outputs": [],
   "source": [
    "# df_5 = read_hdf_n(n=5, chunk=10) "
   ]
  },
  {
   "cell_type": "code",
   "execution_count": 23,
   "metadata": {},
   "outputs": [],
   "source": [
    "# df_6 = read_hdf_n(n=6, chunk=10) "
   ]
  },
  {
   "cell_type": "code",
   "execution_count": 26,
   "metadata": {},
   "outputs": [],
   "source": [
    "# df_7 = read_hdf_n(n=7, chunk=10) "
   ]
  },
  {
   "cell_type": "code",
   "execution_count": 29,
   "metadata": {},
   "outputs": [],
   "source": [
    "# df_8 = read_hdf_n(n=8, chunk=10) "
   ]
  },
  {
   "cell_type": "code",
   "execution_count": 32,
   "metadata": {},
   "outputs": [],
   "source": [
    "# df_9 = read_hdf_n(n=9, chunk=10) "
   ]
  },
  {
   "cell_type": "markdown",
   "metadata": {},
   "source": [
    "#### Check proportion"
   ]
  },
  {
   "cell_type": "code",
   "execution_count": null,
   "metadata": {
    "scrolled": true
   },
   "outputs": [],
   "source": [
    "# df_1['helpful'].map(lambda x: x[1]).value_counts().sort_index(ascending=False)"
   ]
  },
  {
   "cell_type": "code",
   "execution_count": null,
   "metadata": {},
   "outputs": [],
   "source": [
    "# dff_1 = df_1[(df_1.helpful.map(lambda x: x[1]) > 9) & (df_1.helpful.map(lambda x: x[1]) <= 10000) & (df_1.reviewTime.map(lambda x: x[-4:]).isin(['2011', '2012', '2013']))]"
   ]
  },
  {
   "cell_type": "code",
   "execution_count": null,
   "metadata": {},
   "outputs": [],
   "source": [
    "# dff_3 = df_3[(df_3.helpful.map(lambda x: x[1]) > 9) & (df_3.helpful.map(lambda x: x[1]) <= 10000) & (df_3.reviewTime.map(lambda x: x[-4:]).isin(['2011', '2012', '2013']))]"
   ]
  },
  {
   "cell_type": "code",
   "execution_count": null,
   "metadata": {},
   "outputs": [],
   "source": [
    "# dff_4 = df_4[(df_4.helpful.map(lambda x: x[1]) > 9) & (df_4.helpful.map(lambda x: x[1]) <= 10000) & (df_4.reviewTime.map(lambda x: x[-4:]).isin(['2011', '2012', '2013']))]"
   ]
  },
  {
   "cell_type": "code",
   "execution_count": null,
   "metadata": {},
   "outputs": [],
   "source": [
    "# dff_5 = df_5[(df_5.helpful.map(lambda x: x[1]) > 9) & (df_5.helpful.map(lambda x: x[1]) <= 10000) & (df_5.reviewTime.map(lambda x: x[-4:]).isin(['2011', '2012', '2013']))]"
   ]
  },
  {
   "cell_type": "code",
   "execution_count": null,
   "metadata": {},
   "outputs": [],
   "source": [
    "# dff_6 = df_6[(df_6.helpful.map(lambda x: x[1]) > 9) & (df_6.helpful.map(lambda x: x[1]) <= 10000) & (df_6.reviewTime.map(lambda x: x[-4:]).isin(['2011', '2012', '2013']))]"
   ]
  },
  {
   "cell_type": "code",
   "execution_count": null,
   "metadata": {},
   "outputs": [],
   "source": [
    "# dff_1.shape[0] / df_1.shape[0]"
   ]
  },
  {
   "cell_type": "code",
   "execution_count": null,
   "metadata": {},
   "outputs": [],
   "source": [
    "# dff_3.shape[0] / df_3.shape[0]"
   ]
  },
  {
   "cell_type": "code",
   "execution_count": null,
   "metadata": {},
   "outputs": [],
   "source": [
    "# dff_4.shape[0] / df_4.shape[0]"
   ]
  },
  {
   "cell_type": "code",
   "execution_count": null,
   "metadata": {},
   "outputs": [],
   "source": [
    "# dff_5.shape[0] / df_5.shape[0]"
   ]
  },
  {
   "cell_type": "code",
   "execution_count": null,
   "metadata": {},
   "outputs": [],
   "source": [
    "# dff_6.shape[0] / df_6.shape[0]"
   ]
  },
  {
   "cell_type": "markdown",
   "metadata": {},
   "source": [
    "Data with helpfulness that is more than 9 and less than 10,000 take up about 6% of data. If we go further and choose only 2011, 2012, 2013 data, it takes up about 1.5 %"
   ]
  },
  {
   "cell_type": "markdown",
   "metadata": {},
   "source": [
    "# 2. Data Manipulating / Filtering\n",
    "Now we have more manageable data size, and let's trim it down further"
   ]
  },
  {
   "cell_type": "code",
   "execution_count": 3,
   "metadata": {},
   "outputs": [],
   "source": [
    "# %load filtering.py\n",
    "import pandas as pd\n",
    "\n",
    "# filtering  - data with 1) more than 9 helpful review and 2) less than 10000 helpful review\n",
    "def df_filter(df):\n",
    "    # filter out for data with helpful score (9 ,  8000]\n",
    "    df = df[(df.helpful.map(lambda x: x[1]) > 9) & (df.helpful.map(lambda x: x[1]) < 10000)]\n",
    "    # convert reviewTime from str to datetime\n",
    "    df = df[df.reviewTime.map(lambda x: x[:2]).isin(['01', '02', '03', '04', '05', '06', '07', '08', '09', '10', '11', '12'])]\n",
    "    df['reviewTime'] = pd.to_datetime(df['reviewTime'])\n",
    "\n",
    "    return df\n",
    "\n",
    "# to df.h5; splited filtered dataframe\n",
    "def filtered_to_hdf_n(df, name='df_filtered', n = 0):\n",
    "    df.to_hdf('./h5_filtered/'+name+'_'+str(n)+'.h5', key='df', mode='w')\n",
    "    \n",
    "# read filtered.h5 and combine all filtered.h5's\n",
    "def read_combine_filtered_hdf():\n",
    "    df = pd.DataFrame()\n",
    "    for i in range(10):\n",
    "        temp_df = pd.read_hdf(\"./h5_filtered/df_filtered_\"+str(i)+\".h5\", 'df')\n",
    "        df = pd.concat([df, temp_df], axis=0)\n",
    "    return df"
   ]
  },
  {
   "cell_type": "code",
   "execution_count": null,
   "metadata": {
    "scrolled": false
   },
   "outputs": [],
   "source": [
    "# df_8['reviewTime'].map(lambda x: x[-4:]).value_counts().map(lambda x: (x/df_8.shape[0])*100)"
   ]
  },
  {
   "cell_type": "code",
   "execution_count": null,
   "metadata": {
    "scrolled": false
   },
   "outputs": [],
   "source": [
    "# df_9['reviewTime'].map(lambda x: x[-4:]).value_counts().map(lambda x: (x/df_9.shape[0])*100)"
   ]
  },
  {
   "cell_type": "markdown",
   "metadata": {},
   "source": [
    "Since our data is too large combined(~18GB). We focus on data with more than 9 helpful reviews and less than 10,000 helpful reviews. Also, applying Pandas to_datetime method in order to filter data to 'reviewTime' column first consumes longer time than filtering dataframe with map method. If you want to check yourself, uncomment above two lines together with the last two lines of b. Call pre-filtered data"
   ]
  },
  {
   "cell_type": "markdown",
   "metadata": {},
   "source": [
    "### c. Filter DataFrames\n",
    "we want data 1) of year 2012 and 2) with helpfulness score "
   ]
  },
  {
   "cell_type": "code",
   "execution_count": 39,
   "metadata": {},
   "outputs": [],
   "source": [
    "# #drop columns\n",
    "# meta_df = meta_df.drop(['related', 'imUrl'], axis=1) "
   ]
  },
  {
   "cell_type": "code",
   "execution_count": 5,
   "metadata": {},
   "outputs": [],
   "source": [
    "# df_0 = df_filter(df_0) "
   ]
  },
  {
   "cell_type": "code",
   "execution_count": 8,
   "metadata": {},
   "outputs": [],
   "source": [
    "# df_1 = df_filter(df_1) "
   ]
  },
  {
   "cell_type": "code",
   "execution_count": 11,
   "metadata": {},
   "outputs": [],
   "source": [
    "# df_2 = df_filter(df_2) "
   ]
  },
  {
   "cell_type": "code",
   "execution_count": 14,
   "metadata": {},
   "outputs": [],
   "source": [
    "# df_3 = df_filter(df_3) "
   ]
  },
  {
   "cell_type": "code",
   "execution_count": 17,
   "metadata": {},
   "outputs": [],
   "source": [
    "# df_4 = df_filter(df_4) "
   ]
  },
  {
   "cell_type": "code",
   "execution_count": 20,
   "metadata": {},
   "outputs": [],
   "source": [
    "# df_5 = df_filter(df_5) "
   ]
  },
  {
   "cell_type": "code",
   "execution_count": 24,
   "metadata": {},
   "outputs": [],
   "source": [
    "# df_6 = df_filter(df_6) "
   ]
  },
  {
   "cell_type": "code",
   "execution_count": 27,
   "metadata": {},
   "outputs": [],
   "source": [
    "# df_7 = df_filter(df_7) "
   ]
  },
  {
   "cell_type": "code",
   "execution_count": 30,
   "metadata": {},
   "outputs": [],
   "source": [
    "# df_8 = df_filter(df_8) "
   ]
  },
  {
   "cell_type": "code",
   "execution_count": 33,
   "metadata": {},
   "outputs": [],
   "source": [
    "# df_9 = df_filter(df_9) "
   ]
  },
  {
   "cell_type": "markdown",
   "metadata": {},
   "source": [
    "### d. Save as filtered hdf files\n",
    "Do this if you took a,b,c steps"
   ]
  },
  {
   "cell_type": "code",
   "execution_count": 110,
   "metadata": {},
   "outputs": [],
   "source": [
    "# filtered_to_hdf_n(df_0, n=0)"
   ]
  },
  {
   "cell_type": "code",
   "execution_count": 111,
   "metadata": {},
   "outputs": [],
   "source": [
    "# filtered_to_hdf_n(df_1, n=1)"
   ]
  },
  {
   "cell_type": "code",
   "execution_count": 112,
   "metadata": {},
   "outputs": [],
   "source": [
    "# filtered_to_hdf_n(df_2, n=2)"
   ]
  },
  {
   "cell_type": "code",
   "execution_count": 113,
   "metadata": {},
   "outputs": [],
   "source": [
    "# filtered_to_hdf_n(df_3, n=3)"
   ]
  },
  {
   "cell_type": "code",
   "execution_count": 114,
   "metadata": {},
   "outputs": [],
   "source": [
    "# filtered_to_hdf_n(df_4, n=4)"
   ]
  },
  {
   "cell_type": "code",
   "execution_count": 115,
   "metadata": {},
   "outputs": [],
   "source": [
    "# filtered_to_hdf_n(df_5, n=5)"
   ]
  },
  {
   "cell_type": "code",
   "execution_count": 116,
   "metadata": {},
   "outputs": [],
   "source": [
    "# filtered_to_hdf_n(df_6, n=6)"
   ]
  },
  {
   "cell_type": "code",
   "execution_count": 117,
   "metadata": {},
   "outputs": [],
   "source": [
    "# filtered_to_hdf_n(df_7, n=7)"
   ]
  },
  {
   "cell_type": "code",
   "execution_count": 118,
   "metadata": {},
   "outputs": [],
   "source": [
    "# filtered_to_hdf_n(df_8, n=8)"
   ]
  },
  {
   "cell_type": "code",
   "execution_count": 119,
   "metadata": {},
   "outputs": [],
   "source": [
    "# filtered_to_hdf_n(df_9, n=9)"
   ]
  },
  {
   "cell_type": "markdown",
   "metadata": {},
   "source": [
    "### e. Merge data and metadata"
   ]
  },
  {
   "cell_type": "code",
   "execution_count": 35,
   "metadata": {},
   "outputs": [],
   "source": [
    "# df = pd.concat([df_0, df_1, df_2, df_3, df_4, df_5, df_6, df_7, df_8, df_9], axis=0)"
   ]
  },
  {
   "cell_type": "code",
   "execution_count": 36,
   "metadata": {},
   "outputs": [
    {
     "name": "stdout",
     "output_type": "stream",
     "text": [
      "<class 'pandas.core.frame.DataFrame'>\n",
      "Int64Index: 4944438 entries, 86 to 82456875\n",
      "Data columns (total 9 columns):\n",
      "reviewerID        object\n",
      "asin              object\n",
      "reviewerName      object\n",
      "helpful           object\n",
      "reviewText        object\n",
      "overall           float64\n",
      "summary           object\n",
      "unixReviewTime    float64\n",
      "reviewTime        datetime64[ns]\n",
      "dtypes: datetime64[ns](1), float64(2), object(6)\n",
      "memory usage: 377.2+ MB\n"
     ]
    }
   ],
   "source": [
    "# df.info()"
   ]
  },
  {
   "cell_type": "code",
   "execution_count": 37,
   "metadata": {},
   "outputs": [],
   "source": [
    "# df.to_csv('./h5_filtered/df_all_filtered_without_meta.csv.gz', encoding='utf-8', index=False, compression='gzip')"
   ]
  },
  {
   "cell_type": "code",
   "execution_count": null,
   "metadata": {},
   "outputs": [],
   "source": [
    "# # read from splited hdf files\n",
    "# df = read_combine_filtered_hdf()"
   ]
  },
  {
   "cell_type": "code",
   "execution_count": 40,
   "metadata": {},
   "outputs": [
    {
     "name": "stdout",
     "output_type": "stream",
     "text": [
      "<class 'pandas.core.frame.DataFrame'>\n",
      "Int64Index: 9430088 entries, 0 to 9430087\n",
      "Data columns (total 7 columns):\n",
      "asin           object\n",
      "salesRank      object\n",
      "categories     object\n",
      "title          object\n",
      "description    object\n",
      "price          float64\n",
      "brand          object\n",
      "dtypes: float64(1), object(6)\n",
      "memory usage: 575.6+ MB\n",
      "<class 'pandas.core.frame.DataFrame'>\n",
      "Int64Index: 4944438 entries, 86 to 82456875\n",
      "Data columns (total 9 columns):\n",
      "reviewerID        object\n",
      "asin              object\n",
      "reviewerName      object\n",
      "helpful           object\n",
      "reviewText        object\n",
      "overall           float64\n",
      "summary           object\n",
      "unixReviewTime    float64\n",
      "reviewTime        datetime64[ns]\n",
      "dtypes: datetime64[ns](1), float64(2), object(6)\n",
      "memory usage: 377.2+ MB\n"
     ]
    }
   ],
   "source": [
    "# meta_df.info(), df.info();"
   ]
  },
  {
   "cell_type": "markdown",
   "metadata": {},
   "source": [
    "We can confirm that df and meta_df can be merged on 'asin' (Id of the product)"
   ]
  },
  {
   "cell_type": "code",
   "execution_count": null,
   "metadata": {
    "scrolled": true
   },
   "outputs": [],
   "source": [
    "# df.asin.value_counts().value_counts()"
   ]
  },
  {
   "cell_type": "code",
   "execution_count": null,
   "metadata": {},
   "outputs": [],
   "source": [
    "# meta_df.asin.value_counts().value_counts()"
   ]
  },
  {
   "cell_type": "markdown",
   "metadata": {},
   "source": [
    "As seen above, product ID (asin) is unique in meta_df unlike that of df's. Therefore, when merging, we should set 'validate' as 'many_to_one' or 'm:1'"
   ]
  },
  {
   "cell_type": "code",
   "execution_count": 41,
   "metadata": {},
   "outputs": [],
   "source": [
    "# dff = pd.merge(df, meta_df, how='inner', on='asin', validate='many_to_one')"
   ]
  },
  {
   "cell_type": "code",
   "execution_count": null,
   "metadata": {},
   "outputs": [],
   "source": [
    "# meta_df.shape, df.shape, dff.shape"
   ]
  },
  {
   "cell_type": "code",
   "execution_count": null,
   "metadata": {},
   "outputs": [],
   "source": [
    "# df.shape[0] - dff.shape[0]"
   ]
  },
  {
   "cell_type": "markdown",
   "metadata": {},
   "source": [
    "We notice herein that we have some loss of data merging"
   ]
  },
  {
   "cell_type": "code",
   "execution_count": null,
   "metadata": {},
   "outputs": [],
   "source": [
    "# dff.info()"
   ]
  },
  {
   "cell_type": "markdown",
   "metadata": {},
   "source": [
    "It seems all columns are joined well"
   ]
  },
  {
   "cell_type": "code",
   "execution_count": null,
   "metadata": {},
   "outputs": [],
   "source": [
    "# # combined data\n",
    "# dff.isnull().sum() "
   ]
  },
  {
   "cell_type": "code",
   "execution_count": null,
   "metadata": {
    "scrolled": true
   },
   "outputs": [],
   "source": [
    "# # data before merging\n",
    "# df.isnull().sum()"
   ]
  },
  {
   "cell_type": "code",
   "execution_count": null,
   "metadata": {},
   "outputs": [],
   "source": [
    "# df.isnull().sum()['reviewerName'] - dff.isnull().sum()['reviewerName']"
   ]
  },
  {
   "cell_type": "markdown",
   "metadata": {},
   "source": [
    "Fortunately, it seems merging brought positive effect in reducing missing values - that is, most of dropped rows had missing values in 'reviewerName'"
   ]
  },
  {
   "cell_type": "markdown",
   "metadata": {},
   "source": [
    "### f. save it to .csv for later use \n",
    "Finally, we save filtered & combined dataframe into .csv file (compressed) so that when we re-start session, we can start from here when it comes to calling in data"
   ]
  },
  {
   "cell_type": "code",
   "execution_count": 42,
   "metadata": {},
   "outputs": [],
   "source": [
    "# # # to df.csv.gz; all data combined & filtered dataframe\n",
    "# dff.to_csv('./h5_filtered/df_all_filtered.csv.gz', encoding='utf-8', index=False, compression='gzip')"
   ]
  },
  {
   "cell_type": "code",
   "execution_count": 44,
   "metadata": {},
   "outputs": [],
   "source": [
    "# df = dff.copy()"
   ]
  },
  {
   "cell_type": "markdown",
   "metadata": {},
   "source": [
    "### g. Calling data in (when re-run the session)"
   ]
  },
  {
   "cell_type": "code",
   "execution_count": 4,
   "metadata": {
    "scrolled": true
   },
   "outputs": [],
   "source": [
    "# # Read all combined and filtered data\n",
    "# # this may take approximately 10 minutes\n",
    "# df = pd.read_csv('./h5_filtered/df_all_filtered.csv.gz', compression='gzip', parse_dates=['reviewTime'], low_memory=False)"
   ]
  },
  {
   "cell_type": "markdown",
   "metadata": {},
   "source": [
    "# 3. Data Cleaning"
   ]
  },
  {
   "cell_type": "code",
   "execution_count": 5,
   "metadata": {},
   "outputs": [],
   "source": [
    "df = df[~df.reviewText.isnull()]"
   ]
  },
  {
   "cell_type": "code",
   "execution_count": 6,
   "metadata": {},
   "outputs": [
    {
     "data": {
      "text/plain": [
       "(4753978, 15)"
      ]
     },
     "execution_count": 6,
     "metadata": {},
     "output_type": "execute_result"
    }
   ],
   "source": [
    "df.shape"
   ]
  },
  {
   "cell_type": "code",
   "execution_count": 7,
   "metadata": {},
   "outputs": [
    {
     "data": {
      "text/plain": [
       "reviewerID              0\n",
       "asin                    0\n",
       "reviewerName        15346\n",
       "helpful                 0\n",
       "reviewText              0\n",
       "overall                 0\n",
       "summary                77\n",
       "unixReviewTime          0\n",
       "reviewTime              0\n",
       "salesRank          753125\n",
       "categories          27391\n",
       "title              693261\n",
       "description       1102017\n",
       "price              572524\n",
       "brand             3750008\n",
       "dtype: int64"
      ]
     },
     "execution_count": 7,
     "metadata": {},
     "output_type": "execute_result"
    }
   ],
   "source": [
    "df.isnull().sum()"
   ]
  },
  {
   "cell_type": "code",
   "execution_count": 8,
   "metadata": {},
   "outputs": [
    {
     "name": "stdout",
     "output_type": "stream",
     "text": [
      "<class 'pandas.core.frame.DataFrame'>\n",
      "Int64Index: 4753978 entries, 0 to 4753979\n",
      "Data columns (total 15 columns):\n",
      "reviewerID        object\n",
      "asin              object\n",
      "reviewerName      object\n",
      "helpful           object\n",
      "reviewText        object\n",
      "overall           float64\n",
      "summary           object\n",
      "unixReviewTime    object\n",
      "reviewTime        object\n",
      "salesRank         object\n",
      "categories        object\n",
      "title             object\n",
      "description       object\n",
      "price             float64\n",
      "brand             object\n",
      "dtypes: float64(2), object(13)\n",
      "memory usage: 580.3+ MB\n"
     ]
    }
   ],
   "source": [
    "df.info()"
   ]
  },
  {
   "cell_type": "code",
   "execution_count": 9,
   "metadata": {},
   "outputs": [
    {
     "data": {
      "text/html": [
       "<div>\n",
       "<style scoped>\n",
       "    .dataframe tbody tr th:only-of-type {\n",
       "        vertical-align: middle;\n",
       "    }\n",
       "\n",
       "    .dataframe tbody tr th {\n",
       "        vertical-align: top;\n",
       "    }\n",
       "\n",
       "    .dataframe thead th {\n",
       "        text-align: right;\n",
       "    }\n",
       "</style>\n",
       "<table border=\"1\" class=\"dataframe\">\n",
       "  <thead>\n",
       "    <tr style=\"text-align: right;\">\n",
       "      <th></th>\n",
       "      <th>reviewerID</th>\n",
       "      <th>asin</th>\n",
       "      <th>reviewerName</th>\n",
       "      <th>helpful</th>\n",
       "      <th>reviewText</th>\n",
       "      <th>overall</th>\n",
       "      <th>summary</th>\n",
       "      <th>unixReviewTime</th>\n",
       "      <th>reviewTime</th>\n",
       "      <th>salesRank</th>\n",
       "      <th>categories</th>\n",
       "      <th>title</th>\n",
       "      <th>description</th>\n",
       "      <th>price</th>\n",
       "      <th>brand</th>\n",
       "    </tr>\n",
       "  </thead>\n",
       "  <tbody>\n",
       "    <tr>\n",
       "      <th>0</th>\n",
       "      <td>A0001528BGUBOEVR6T5U</td>\n",
       "      <td>B008O5BIWW</td>\n",
       "      <td>igozingo</td>\n",
       "      <td>[4, 14]</td>\n",
       "      <td>The Foscam FI8919W is a great camera. I am a d...</td>\n",
       "      <td>5.0</td>\n",
       "      <td>Foscam FI8919W</td>\n",
       "      <td>1360713600.0</td>\n",
       "      <td>2013-02-13</td>\n",
       "      <td>{}</td>\n",
       "      <td>[['Electronics', 'Camera &amp; Photo', 'Video Surv...</td>\n",
       "      <td>Foscam FI8919W Outdoor Pan and Tilt Wireless I...</td>\n",
       "      <td>Foscam Fi8919W Outdoor Pan and Tilt Wireless I...</td>\n",
       "      <td>189.73</td>\n",
       "      <td>Foscam</td>\n",
       "    </tr>\n",
       "    <tr>\n",
       "      <th>1</th>\n",
       "      <td>A1S44FJFOKDV4Q</td>\n",
       "      <td>B008O5BIWW</td>\n",
       "      <td>David</td>\n",
       "      <td>[10, 13]</td>\n",
       "      <td>Purchased this camera direct from Foscam.  The...</td>\n",
       "      <td>1.0</td>\n",
       "      <td>Nothing but problems</td>\n",
       "      <td>1380758400.0</td>\n",
       "      <td>2013-10-03</td>\n",
       "      <td>{}</td>\n",
       "      <td>[['Electronics', 'Camera &amp; Photo', 'Video Surv...</td>\n",
       "      <td>Foscam FI8919W Outdoor Pan and Tilt Wireless I...</td>\n",
       "      <td>Foscam Fi8919W Outdoor Pan and Tilt Wireless I...</td>\n",
       "      <td>189.73</td>\n",
       "      <td>Foscam</td>\n",
       "    </tr>\n",
       "    <tr>\n",
       "      <th>2</th>\n",
       "      <td>A20WKTYKTJPRDW</td>\n",
       "      <td>B008O5BIWW</td>\n",
       "      <td>Chris \"CS\"</td>\n",
       "      <td>[10, 13]</td>\n",
       "      <td>This was my 8th or 9th Foscam and my first exp...</td>\n",
       "      <td>1.0</td>\n",
       "      <td>Good technology horrible support camera cannot...</td>\n",
       "      <td>1373932800.0</td>\n",
       "      <td>2013-07-16</td>\n",
       "      <td>{}</td>\n",
       "      <td>[['Electronics', 'Camera &amp; Photo', 'Video Surv...</td>\n",
       "      <td>Foscam FI8919W Outdoor Pan and Tilt Wireless I...</td>\n",
       "      <td>Foscam Fi8919W Outdoor Pan and Tilt Wireless I...</td>\n",
       "      <td>189.73</td>\n",
       "      <td>Foscam</td>\n",
       "    </tr>\n",
       "    <tr>\n",
       "      <th>3</th>\n",
       "      <td>A2ZFFSJ0VM6KSJ</td>\n",
       "      <td>B008O5BIWW</td>\n",
       "      <td>Sandy S \"Sandy S\"</td>\n",
       "      <td>[19, 20]</td>\n",
       "      <td>My Review &amp; IMPORTANT SECURITY INFOI have 11 F...</td>\n",
       "      <td>3.0</td>\n",
       "      <td>Foscam FI8919W review &amp; IMPORTANT SECURITY INFO</td>\n",
       "      <td>1393200000.0</td>\n",
       "      <td>2014-02-24</td>\n",
       "      <td>{}</td>\n",
       "      <td>[['Electronics', 'Camera &amp; Photo', 'Video Surv...</td>\n",
       "      <td>Foscam FI8919W Outdoor Pan and Tilt Wireless I...</td>\n",
       "      <td>Foscam Fi8919W Outdoor Pan and Tilt Wireless I...</td>\n",
       "      <td>189.73</td>\n",
       "      <td>Foscam</td>\n",
       "    </tr>\n",
       "    <tr>\n",
       "      <th>4</th>\n",
       "      <td>A33UF8PX4THCG3</td>\n",
       "      <td>B008O5BIWW</td>\n",
       "      <td>George Pinson</td>\n",
       "      <td>[14, 16]</td>\n",
       "      <td>1st, I have not tried this camera in wireless ...</td>\n",
       "      <td>5.0</td>\n",
       "      <td>Great picture, but mine is wired.</td>\n",
       "      <td>1365379200.0</td>\n",
       "      <td>2013-04-08</td>\n",
       "      <td>{}</td>\n",
       "      <td>[['Electronics', 'Camera &amp; Photo', 'Video Surv...</td>\n",
       "      <td>Foscam FI8919W Outdoor Pan and Tilt Wireless I...</td>\n",
       "      <td>Foscam Fi8919W Outdoor Pan and Tilt Wireless I...</td>\n",
       "      <td>189.73</td>\n",
       "      <td>Foscam</td>\n",
       "    </tr>\n",
       "  </tbody>\n",
       "</table>\n",
       "</div>"
      ],
      "text/plain": [
       "             reviewerID        asin       reviewerName   helpful  \\\n",
       "0  A0001528BGUBOEVR6T5U  B008O5BIWW           igozingo   [4, 14]   \n",
       "1        A1S44FJFOKDV4Q  B008O5BIWW              David  [10, 13]   \n",
       "2        A20WKTYKTJPRDW  B008O5BIWW         Chris \"CS\"  [10, 13]   \n",
       "3        A2ZFFSJ0VM6KSJ  B008O5BIWW  Sandy S \"Sandy S\"  [19, 20]   \n",
       "4        A33UF8PX4THCG3  B008O5BIWW      George Pinson  [14, 16]   \n",
       "\n",
       "                                          reviewText  overall  \\\n",
       "0  The Foscam FI8919W is a great camera. I am a d...      5.0   \n",
       "1  Purchased this camera direct from Foscam.  The...      1.0   \n",
       "2  This was my 8th or 9th Foscam and my first exp...      1.0   \n",
       "3  My Review & IMPORTANT SECURITY INFOI have 11 F...      3.0   \n",
       "4  1st, I have not tried this camera in wireless ...      5.0   \n",
       "\n",
       "                                             summary unixReviewTime  \\\n",
       "0                                     Foscam FI8919W   1360713600.0   \n",
       "1                               Nothing but problems   1380758400.0   \n",
       "2  Good technology horrible support camera cannot...   1373932800.0   \n",
       "3    Foscam FI8919W review & IMPORTANT SECURITY INFO   1393200000.0   \n",
       "4                  Great picture, but mine is wired.   1365379200.0   \n",
       "\n",
       "   reviewTime salesRank                                         categories  \\\n",
       "0  2013-02-13        {}  [['Electronics', 'Camera & Photo', 'Video Surv...   \n",
       "1  2013-10-03        {}  [['Electronics', 'Camera & Photo', 'Video Surv...   \n",
       "2  2013-07-16        {}  [['Electronics', 'Camera & Photo', 'Video Surv...   \n",
       "3  2014-02-24        {}  [['Electronics', 'Camera & Photo', 'Video Surv...   \n",
       "4  2013-04-08        {}  [['Electronics', 'Camera & Photo', 'Video Surv...   \n",
       "\n",
       "                                               title  \\\n",
       "0  Foscam FI8919W Outdoor Pan and Tilt Wireless I...   \n",
       "1  Foscam FI8919W Outdoor Pan and Tilt Wireless I...   \n",
       "2  Foscam FI8919W Outdoor Pan and Tilt Wireless I...   \n",
       "3  Foscam FI8919W Outdoor Pan and Tilt Wireless I...   \n",
       "4  Foscam FI8919W Outdoor Pan and Tilt Wireless I...   \n",
       "\n",
       "                                         description   price   brand  \n",
       "0  Foscam Fi8919W Outdoor Pan and Tilt Wireless I...  189.73  Foscam  \n",
       "1  Foscam Fi8919W Outdoor Pan and Tilt Wireless I...  189.73  Foscam  \n",
       "2  Foscam Fi8919W Outdoor Pan and Tilt Wireless I...  189.73  Foscam  \n",
       "3  Foscam Fi8919W Outdoor Pan and Tilt Wireless I...  189.73  Foscam  \n",
       "4  Foscam Fi8919W Outdoor Pan and Tilt Wireless I...  189.73  Foscam  "
      ]
     },
     "execution_count": 9,
     "metadata": {},
     "output_type": "execute_result"
    }
   ],
   "source": [
    "df.head()"
   ]
  },
  {
   "cell_type": "code",
   "execution_count": 9,
   "metadata": {},
   "outputs": [],
   "source": [
    "# # df['helpful_num'] = extracted[0].copy()\n",
    "# df['helpful_num'] = df['helpful'].map(lambda x: x[0])"
   ]
  },
  {
   "cell_type": "code",
   "execution_count": 10,
   "metadata": {},
   "outputs": [],
   "source": [
    "# # df['helpful_den'] = extracted[1].copy()\n",
    "# df['helpful_den'] = df['helpful'].map(lambda x: x[1])"
   ]
  },
  {
   "cell_type": "code",
   "execution_count": 11,
   "metadata": {},
   "outputs": [],
   "source": [
    "# df = df.drop(columns=['helpful'])"
   ]
  },
  {
   "cell_type": "code",
   "execution_count": 10,
   "metadata": {},
   "outputs": [
    {
     "data": {
      "text/plain": [
       "reviewerID         0.000000\n",
       "asin               0.000000\n",
       "reviewerName       0.322803\n",
       "helpful            0.000000\n",
       "reviewText         0.000000\n",
       "overall            0.000000\n",
       "summary            0.001620\n",
       "unixReviewTime     0.000000\n",
       "reviewTime         0.000000\n",
       "salesRank         15.841996\n",
       "categories         0.576170\n",
       "title             14.582756\n",
       "description       23.180944\n",
       "price             12.043051\n",
       "brand             78.881476\n",
       "dtype: float64"
      ]
     },
     "execution_count": 10,
     "metadata": {},
     "output_type": "execute_result"
    }
   ],
   "source": [
    "df.isnull().sum() / df.shape[0] * 100"
   ]
  },
  {
   "cell_type": "markdown",
   "metadata": {},
   "source": [
    "There are 5 features that suffer missing values (over 12 %) - 'salesRank', 'title', 'description', 'price', and 'brand'; and 2 features that suffers measly (under 0.6 %).  Especially, 'brand' has about 79% missing value rate. As of now, we can safely assume that brand is not very important feature and thus drop that column. Also, since we have both unixReviewTime and reviewTime which are basically same meaning, we can drop unixReviewTime column. Same as reviewerName with reviewerID (i.e., we can identify the person with reviewerID)"
   ]
  },
  {
   "cell_type": "code",
   "execution_count": 11,
   "metadata": {},
   "outputs": [],
   "source": [
    "df = df.drop(columns=['brand', 'unixReviewTime', 'reviewerName'])"
   ]
  },
  {
   "cell_type": "code",
   "execution_count": 12,
   "metadata": {},
   "outputs": [
    {
     "name": "stdout",
     "output_type": "stream",
     "text": [
      "<class 'pandas.core.frame.DataFrame'>\n",
      "Int64Index: 4753978 entries, 0 to 4753979\n",
      "Data columns (total 12 columns):\n",
      "reviewerID     object\n",
      "asin           object\n",
      "helpful        object\n",
      "reviewText     object\n",
      "overall        float64\n",
      "summary        object\n",
      "reviewTime     object\n",
      "salesRank      object\n",
      "categories     object\n",
      "title          object\n",
      "description    object\n",
      "price          float64\n",
      "dtypes: float64(2), object(10)\n",
      "memory usage: 471.5+ MB\n"
     ]
    }
   ],
   "source": [
    "df.info()"
   ]
  },
  {
   "cell_type": "code",
   "execution_count": 83,
   "metadata": {},
   "outputs": [],
   "source": [
    "# # save it\n",
    "# df.to_csv('./h5_filtered/df_all_filtered_v2.csv.gz', encoding='utf-8', index=False, compression='gzip')"
   ]
  },
  {
   "cell_type": "code",
   "execution_count": 13,
   "metadata": {},
   "outputs": [],
   "source": [
    "title_no = df[df.title.isnull()].index.values\n",
    "descr_no = df[df.description.isnull()].index.values\n",
    "price_no = df[df.price.isnull()].index.values"
   ]
  },
  {
   "cell_type": "code",
   "execution_count": 14,
   "metadata": {},
   "outputs": [
    {
     "data": {
      "text/plain": [
       "(177201, 693261, 1102017, 572524)"
      ]
     },
     "execution_count": 14,
     "metadata": {},
     "output_type": "execute_result"
    }
   ],
   "source": [
    "len(np.intersect1d(np.intersect1d(title_no, descr_no), price_no)), len(title_no), len(descr_no), len(price_no)"
   ]
  },
  {
   "cell_type": "code",
   "execution_count": 18,
   "metadata": {},
   "outputs": [],
   "source": [
    "# # Read all combined and filtered data\n",
    "# # this may take approximately 10 minutes\n",
    "# df = pd.read_csv('./h5_filtered/df_all_filtered_v2.csv.gz', compression='gzip', parse_dates=['reviewTime'], low_memory=False)"
   ]
  },
  {
   "cell_type": "code",
   "execution_count": 15,
   "metadata": {
    "scrolled": true
   },
   "outputs": [
    {
     "data": {
      "text/plain": [
       "reviewerID           0\n",
       "asin                 0\n",
       "helpful              0\n",
       "reviewText           0\n",
       "overall              0\n",
       "summary             77\n",
       "reviewTime           0\n",
       "salesRank       753125\n",
       "categories       27391\n",
       "title           693261\n",
       "description    1102017\n",
       "price           572524\n",
       "dtype: int64"
      ]
     },
     "execution_count": 15,
     "metadata": {},
     "output_type": "execute_result"
    }
   ],
   "source": [
    "df.isnull().sum()"
   ]
  },
  {
   "cell_type": "code",
   "execution_count": 16,
   "metadata": {},
   "outputs": [
    {
     "data": {
      "text/plain": [
       "(4753978, 12)"
      ]
     },
     "execution_count": 16,
     "metadata": {},
     "output_type": "execute_result"
    }
   ],
   "source": [
    "df.shape"
   ]
  },
  {
   "cell_type": "markdown",
   "metadata": {},
   "source": [
    "## Dealing with 'title', 'description', and 'price' columns"
   ]
  },
  {
   "cell_type": "code",
   "execution_count": 17,
   "metadata": {
    "scrolled": true
   },
   "outputs": [
    {
     "data": {
      "text/plain": [
       "reviewerID      0.000000\n",
       "asin            0.000000\n",
       "helpful         0.000000\n",
       "reviewText      0.000000\n",
       "overall         0.000000\n",
       "summary         0.001620\n",
       "reviewTime      0.000000\n",
       "salesRank      15.841996\n",
       "categories      0.576170\n",
       "title          14.582756\n",
       "description    23.180944\n",
       "price          12.043051\n",
       "dtype: float64"
      ]
     },
     "execution_count": 17,
     "metadata": {},
     "output_type": "execute_result"
    }
   ],
   "source": [
    "df.isnull().sum() / df.shape[0] * 100"
   ]
  },
  {
   "cell_type": "code",
   "execution_count": 18,
   "metadata": {},
   "outputs": [
    {
     "data": {
      "text/plain": [
       "reviewerID           0\n",
       "asin                 0\n",
       "helpful              0\n",
       "reviewText           0\n",
       "overall              0\n",
       "summary             77\n",
       "reviewTime           0\n",
       "salesRank       753125\n",
       "categories       27391\n",
       "title           693261\n",
       "description    1102017\n",
       "price           572524\n",
       "dtype: int64"
      ]
     },
     "execution_count": 18,
     "metadata": {},
     "output_type": "execute_result"
    }
   ],
   "source": [
    "df.isnull().sum()"
   ]
  },
  {
   "cell_type": "markdown",
   "metadata": {},
   "source": [
    "These 3 columns have rather big portion of missing vlaues. Let us see if we can filling the spot "
   ]
  },
  {
   "cell_type": "code",
   "execution_count": 19,
   "metadata": {},
   "outputs": [],
   "source": [
    "no_title_asin = df[df['title'].isnull()]['asin'].unique()"
   ]
  },
  {
   "cell_type": "code",
   "execution_count": 20,
   "metadata": {},
   "outputs": [],
   "source": [
    "no_description_asin = df[df['description'].isnull()]['asin'].unique()"
   ]
  },
  {
   "cell_type": "code",
   "execution_count": 21,
   "metadata": {},
   "outputs": [],
   "source": [
    "no_price_asin = df[df['price'].isnull()]['asin'].unique()"
   ]
  },
  {
   "cell_type": "code",
   "execution_count": 22,
   "metadata": {},
   "outputs": [
    {
     "data": {
      "text/plain": [
       "1.0"
      ]
     },
     "execution_count": 22,
     "metadata": {},
     "output_type": "execute_result"
    }
   ],
   "source": [
    "# hoping that some rows have title of the same product ID (asin)\n",
    "df[df['asin'].isin(no_title_asin)]['title'].isnull().sum()/df[df['asin'].isin(no_title_asin)]['title'].shape[0]"
   ]
  },
  {
   "cell_type": "markdown",
   "metadata": {},
   "source": [
    "It seems we can't save title missing values in 'title' column"
   ]
  },
  {
   "cell_type": "code",
   "execution_count": 23,
   "metadata": {},
   "outputs": [
    {
     "data": {
      "text/plain": [
       "1.0"
      ]
     },
     "execution_count": 23,
     "metadata": {},
     "output_type": "execute_result"
    }
   ],
   "source": [
    "# hoping that some rows have description of the same product ID (asin)\n",
    "df[df['asin'].isin(no_description_asin)]['description'].isnull().sum()/df[df['asin'].isin(no_description_asin)]['description'].shape[0]"
   ]
  },
  {
   "cell_type": "markdown",
   "metadata": {},
   "source": [
    "It seems we can't save title missing values in 'description' column"
   ]
  },
  {
   "cell_type": "code",
   "execution_count": 24,
   "metadata": {},
   "outputs": [
    {
     "data": {
      "text/plain": [
       "1.0"
      ]
     },
     "execution_count": 24,
     "metadata": {},
     "output_type": "execute_result"
    }
   ],
   "source": [
    "# hoping that some rows have price of the same product ID (asin)\n",
    "df[df['asin'].isin(no_price_asin)]['price'].isnull().sum()/df[df['asin'].isin(no_price_asin)]['price'].shape[0]"
   ]
  },
  {
   "cell_type": "markdown",
   "metadata": {},
   "source": [
    "It seems we can't save title missing values in 'description' column"
   ]
  },
  {
   "cell_type": "code",
   "execution_count": 93,
   "metadata": {},
   "outputs": [],
   "source": [
    "# df.to_csv('./h5_filtered/df_all_filtered_v4.csv.gz', encoding='utf-8', index=False, compression='gzip')"
   ]
  },
  {
   "cell_type": "code",
   "execution_count": 112,
   "metadata": {},
   "outputs": [],
   "source": [
    "# # this may take approximately 10 minutes\n",
    "# df = pd.read_csv('./h5_filtered/df_all_filtered_v4.csv.gz', compression='gzip', parse_dates=['reviewTime'], low_memory=False)"
   ]
  },
  {
   "cell_type": "code",
   "execution_count": 25,
   "metadata": {
    "scrolled": false
   },
   "outputs": [
    {
     "data": {
      "text/html": [
       "<div>\n",
       "<style scoped>\n",
       "    .dataframe tbody tr th:only-of-type {\n",
       "        vertical-align: middle;\n",
       "    }\n",
       "\n",
       "    .dataframe tbody tr th {\n",
       "        vertical-align: top;\n",
       "    }\n",
       "\n",
       "    .dataframe thead th {\n",
       "        text-align: right;\n",
       "    }\n",
       "</style>\n",
       "<table border=\"1\" class=\"dataframe\">\n",
       "  <thead>\n",
       "    <tr style=\"text-align: right;\">\n",
       "      <th></th>\n",
       "      <th>asin</th>\n",
       "      <th>helpful</th>\n",
       "      <th>title</th>\n",
       "      <th>description</th>\n",
       "    </tr>\n",
       "  </thead>\n",
       "  <tbody>\n",
       "    <tr>\n",
       "      <th>0</th>\n",
       "      <td>B008O5BIWW</td>\n",
       "      <td>[4, 14]</td>\n",
       "      <td>Foscam FI8919W Outdoor Pan and Tilt Wireless I...</td>\n",
       "      <td>Foscam Fi8919W Outdoor Pan and Tilt Wireless I...</td>\n",
       "    </tr>\n",
       "    <tr>\n",
       "      <th>1</th>\n",
       "      <td>B008O5BIWW</td>\n",
       "      <td>[10, 13]</td>\n",
       "      <td>Foscam FI8919W Outdoor Pan and Tilt Wireless I...</td>\n",
       "      <td>Foscam Fi8919W Outdoor Pan and Tilt Wireless I...</td>\n",
       "    </tr>\n",
       "    <tr>\n",
       "      <th>2</th>\n",
       "      <td>B008O5BIWW</td>\n",
       "      <td>[10, 13]</td>\n",
       "      <td>Foscam FI8919W Outdoor Pan and Tilt Wireless I...</td>\n",
       "      <td>Foscam Fi8919W Outdoor Pan and Tilt Wireless I...</td>\n",
       "    </tr>\n",
       "    <tr>\n",
       "      <th>3</th>\n",
       "      <td>B008O5BIWW</td>\n",
       "      <td>[19, 20]</td>\n",
       "      <td>Foscam FI8919W Outdoor Pan and Tilt Wireless I...</td>\n",
       "      <td>Foscam Fi8919W Outdoor Pan and Tilt Wireless I...</td>\n",
       "    </tr>\n",
       "    <tr>\n",
       "      <th>4</th>\n",
       "      <td>B008O5BIWW</td>\n",
       "      <td>[14, 16]</td>\n",
       "      <td>Foscam FI8919W Outdoor Pan and Tilt Wireless I...</td>\n",
       "      <td>Foscam Fi8919W Outdoor Pan and Tilt Wireless I...</td>\n",
       "    </tr>\n",
       "    <tr>\n",
       "      <th>5</th>\n",
       "      <td>B008O5BIWW</td>\n",
       "      <td>[13, 17]</td>\n",
       "      <td>Foscam FI8919W Outdoor Pan and Tilt Wireless I...</td>\n",
       "      <td>Foscam Fi8919W Outdoor Pan and Tilt Wireless I...</td>\n",
       "    </tr>\n",
       "    <tr>\n",
       "      <th>6</th>\n",
       "      <td>B008O5BIWW</td>\n",
       "      <td>[92, 102]</td>\n",
       "      <td>Foscam FI8919W Outdoor Pan and Tilt Wireless I...</td>\n",
       "      <td>Foscam Fi8919W Outdoor Pan and Tilt Wireless I...</td>\n",
       "    </tr>\n",
       "    <tr>\n",
       "      <th>7</th>\n",
       "      <td>B008O5BIWW</td>\n",
       "      <td>[5, 14]</td>\n",
       "      <td>Foscam FI8919W Outdoor Pan and Tilt Wireless I...</td>\n",
       "      <td>Foscam Fi8919W Outdoor Pan and Tilt Wireless I...</td>\n",
       "    </tr>\n",
       "    <tr>\n",
       "      <th>8</th>\n",
       "      <td>B008O5BIWW</td>\n",
       "      <td>[14, 15]</td>\n",
       "      <td>Foscam FI8919W Outdoor Pan and Tilt Wireless I...</td>\n",
       "      <td>Foscam Fi8919W Outdoor Pan and Tilt Wireless I...</td>\n",
       "    </tr>\n",
       "    <tr>\n",
       "      <th>9</th>\n",
       "      <td>B008O5BIWW</td>\n",
       "      <td>[9, 12]</td>\n",
       "      <td>Foscam FI8919W Outdoor Pan and Tilt Wireless I...</td>\n",
       "      <td>Foscam Fi8919W Outdoor Pan and Tilt Wireless I...</td>\n",
       "    </tr>\n",
       "  </tbody>\n",
       "</table>\n",
       "</div>"
      ],
      "text/plain": [
       "         asin    helpful                                              title  \\\n",
       "0  B008O5BIWW    [4, 14]  Foscam FI8919W Outdoor Pan and Tilt Wireless I...   \n",
       "1  B008O5BIWW   [10, 13]  Foscam FI8919W Outdoor Pan and Tilt Wireless I...   \n",
       "2  B008O5BIWW   [10, 13]  Foscam FI8919W Outdoor Pan and Tilt Wireless I...   \n",
       "3  B008O5BIWW   [19, 20]  Foscam FI8919W Outdoor Pan and Tilt Wireless I...   \n",
       "4  B008O5BIWW   [14, 16]  Foscam FI8919W Outdoor Pan and Tilt Wireless I...   \n",
       "5  B008O5BIWW   [13, 17]  Foscam FI8919W Outdoor Pan and Tilt Wireless I...   \n",
       "6  B008O5BIWW  [92, 102]  Foscam FI8919W Outdoor Pan and Tilt Wireless I...   \n",
       "7  B008O5BIWW    [5, 14]  Foscam FI8919W Outdoor Pan and Tilt Wireless I...   \n",
       "8  B008O5BIWW   [14, 15]  Foscam FI8919W Outdoor Pan and Tilt Wireless I...   \n",
       "9  B008O5BIWW    [9, 12]  Foscam FI8919W Outdoor Pan and Tilt Wireless I...   \n",
       "\n",
       "                                         description  \n",
       "0  Foscam Fi8919W Outdoor Pan and Tilt Wireless I...  \n",
       "1  Foscam Fi8919W Outdoor Pan and Tilt Wireless I...  \n",
       "2  Foscam Fi8919W Outdoor Pan and Tilt Wireless I...  \n",
       "3  Foscam Fi8919W Outdoor Pan and Tilt Wireless I...  \n",
       "4  Foscam Fi8919W Outdoor Pan and Tilt Wireless I...  \n",
       "5  Foscam Fi8919W Outdoor Pan and Tilt Wireless I...  \n",
       "6  Foscam Fi8919W Outdoor Pan and Tilt Wireless I...  \n",
       "7  Foscam Fi8919W Outdoor Pan and Tilt Wireless I...  \n",
       "8  Foscam Fi8919W Outdoor Pan and Tilt Wireless I...  \n",
       "9  Foscam Fi8919W Outdoor Pan and Tilt Wireless I...  "
      ]
     },
     "execution_count": 25,
     "metadata": {},
     "output_type": "execute_result"
    }
   ],
   "source": [
    "df[['asin', 'helpful', 'title', 'description']].head(10)"
   ]
  },
  {
   "cell_type": "markdown",
   "metadata": {},
   "source": [
    "I believe how expensive the product is can affect how in detail you leave review on products or how much pay attention to find useful review. Therefore, even though missing price rows takes about 12% of the row, we drop them. However, I don't believe title and description can influence helpfulness of score and furthermore, it's not unique per product. that is, same product has same title and description. Thus, I drop these two columns"
   ]
  },
  {
   "cell_type": "code",
   "execution_count": 26,
   "metadata": {},
   "outputs": [],
   "source": [
    "# drop rows wihtout price\n",
    "idx = df[df['price'].isnull()].index\n",
    "df = df.drop(idx)"
   ]
  },
  {
   "cell_type": "code",
   "execution_count": 27,
   "metadata": {},
   "outputs": [],
   "source": [
    "df = df.drop(columns=['description', 'title'])"
   ]
  },
  {
   "cell_type": "code",
   "execution_count": 28,
   "metadata": {},
   "outputs": [],
   "source": [
    "# drop rows without summary\n",
    "df = df[~df['summary'].isnull()]"
   ]
  },
  {
   "cell_type": "code",
   "execution_count": 29,
   "metadata": {},
   "outputs": [
    {
     "data": {
      "text/plain": [
       "reviewerID         0\n",
       "asin               0\n",
       "helpful            0\n",
       "reviewText         0\n",
       "overall            0\n",
       "summary            0\n",
       "reviewTime         0\n",
       "salesRank     502904\n",
       "categories     20398\n",
       "price              0\n",
       "dtype: int64"
      ]
     },
     "execution_count": 29,
     "metadata": {},
     "output_type": "execute_result"
    }
   ],
   "source": [
    "df.isnull().sum()"
   ]
  },
  {
   "cell_type": "code",
   "execution_count": 30,
   "metadata": {},
   "outputs": [
    {
     "data": {
      "text/plain": [
       "(4181390, 10)"
      ]
     },
     "execution_count": 30,
     "metadata": {},
     "output_type": "execute_result"
    }
   ],
   "source": [
    "df.shape"
   ]
  },
  {
   "cell_type": "markdown",
   "metadata": {},
   "source": [
    "## Simplifying Categories\n",
    "#### Now, we need to simplify categories with the help of salesRank. That is, referencing salesRank, we can make multiple categoreis one representative category and if missing value, we can extract the category from salesRank"
   ]
  },
  {
   "cell_type": "code",
   "execution_count": 31,
   "metadata": {},
   "outputs": [],
   "source": [
    "df.salesRank = df.salesRank.fillna('{}')"
   ]
  },
  {
   "cell_type": "code",
   "execution_count": 32,
   "metadata": {},
   "outputs": [],
   "source": [
    "df.categories = df.categories.fillna(\"[['']]\")"
   ]
  },
  {
   "cell_type": "code",
   "execution_count": 33,
   "metadata": {},
   "outputs": [
    {
     "data": {
      "text/plain": [
       "salesRank     0\n",
       "categories    0\n",
       "dtype: int64"
      ]
     },
     "execution_count": 33,
     "metadata": {},
     "output_type": "execute_result"
    }
   ],
   "source": [
    "df[['salesRank', 'categories']].isnull().sum()"
   ]
  },
  {
   "cell_type": "code",
   "execution_count": 34,
   "metadata": {
    "scrolled": true
   },
   "outputs": [
    {
     "data": {
      "text/html": [
       "<div>\n",
       "<style scoped>\n",
       "    .dataframe tbody tr th:only-of-type {\n",
       "        vertical-align: middle;\n",
       "    }\n",
       "\n",
       "    .dataframe tbody tr th {\n",
       "        vertical-align: top;\n",
       "    }\n",
       "\n",
       "    .dataframe thead th {\n",
       "        text-align: right;\n",
       "    }\n",
       "</style>\n",
       "<table border=\"1\" class=\"dataframe\">\n",
       "  <thead>\n",
       "    <tr style=\"text-align: right;\">\n",
       "      <th></th>\n",
       "      <th>salesRank</th>\n",
       "      <th>categories</th>\n",
       "    </tr>\n",
       "  </thead>\n",
       "  <tbody>\n",
       "    <tr>\n",
       "      <th>4753975</th>\n",
       "      <td>{}</td>\n",
       "      <td>[['Electronics', 'Camera &amp; Photo', 'Accessorie...</td>\n",
       "    </tr>\n",
       "    <tr>\n",
       "      <th>4753976</th>\n",
       "      <td>{'Music': 123986}</td>\n",
       "      <td>[['CDs &amp; Vinyl', 'Alternative Rock', 'Goth &amp; I...</td>\n",
       "    </tr>\n",
       "    <tr>\n",
       "      <th>4753977</th>\n",
       "      <td>{'Health &amp; Personal Care': 6766}</td>\n",
       "      <td>[['Health &amp; Personal Care', 'Vitamins &amp; Dietar...</td>\n",
       "    </tr>\n",
       "    <tr>\n",
       "      <th>4753978</th>\n",
       "      <td>{'Books': 2583280}</td>\n",
       "      <td>[['Books']]</td>\n",
       "    </tr>\n",
       "    <tr>\n",
       "      <th>4753979</th>\n",
       "      <td>{'Clothing': 5386}</td>\n",
       "      <td>[['Clothing, Shoes &amp; Jewelry', 'Men', 'Accesso...</td>\n",
       "    </tr>\n",
       "  </tbody>\n",
       "</table>\n",
       "</div>"
      ],
      "text/plain": [
       "                                salesRank  \\\n",
       "4753975                                {}   \n",
       "4753976                 {'Music': 123986}   \n",
       "4753977  {'Health & Personal Care': 6766}   \n",
       "4753978                {'Books': 2583280}   \n",
       "4753979                {'Clothing': 5386}   \n",
       "\n",
       "                                                categories  \n",
       "4753975  [['Electronics', 'Camera & Photo', 'Accessorie...  \n",
       "4753976  [['CDs & Vinyl', 'Alternative Rock', 'Goth & I...  \n",
       "4753977  [['Health & Personal Care', 'Vitamins & Dietar...  \n",
       "4753978                                        [['Books']]  \n",
       "4753979  [['Clothing, Shoes & Jewelry', 'Men', 'Accesso...  "
      ]
     },
     "execution_count": 34,
     "metadata": {},
     "output_type": "execute_result"
    }
   ],
   "source": [
    "df[['salesRank', 'categories']].tail()"
   ]
  },
  {
   "cell_type": "code",
   "execution_count": 35,
   "metadata": {
    "scrolled": false
   },
   "outputs": [
    {
     "data": {
      "text/plain": [
       "{}                                      568005\n",
       "{'Books': 434901}                         3973\n",
       "{'Books': 29903}                          3498\n",
       "{'Books': 810642}                         3320\n",
       "{'Electronics': 14209}                    3099\n",
       "{'Video Games': 1053}                     2975\n",
       "{'Movies & TV': 72846}                    2547\n",
       "{'Kitchen & Dining': 1151}                2544\n",
       "{'Books': 8540720}                        2422\n",
       "{'Books': 1212}                           2323\n",
       "{'Books': 813739}                         2215\n",
       "{'Video Games': 13}                       2194\n",
       "{'Movies & TV': 390}                      2032\n",
       "{'Books': 10}                             1942\n",
       "{'Movies & TV': 44430}                    1555\n",
       "{'Movies & TV': 127212}                   1516\n",
       "{'Books': 135}                            1501\n",
       "{'Books': 491443}                         1400\n",
       "{'Video Games': 368}                      1362\n",
       "{'Books': 207870}                         1360\n",
       "{'Books': 319640}                         1357\n",
       "{'Video Games': 868}                      1303\n",
       "{'Books': 218659}                         1299\n",
       "{'Books': 108835}                         1255\n",
       "{'Books': 12910}                          1255\n",
       "{'Books': 3537680}                        1209\n",
       "{'Books': 18766}                          1104\n",
       "{'Books': 1421595}                        1067\n",
       "{'Video Games': 432}                      1066\n",
       "{'Electronics': 770}                      1061\n",
       "                                         ...  \n",
       "{'Books': 1339313}                           1\n",
       "{'Books': 388119}                            1\n",
       "{'Toys & Games': 51137}                      1\n",
       "{'Movies & TV': 564851}                      1\n",
       "{'Books': 1337603}                           1\n",
       "{'Toys & Games': 14490}                      1\n",
       "{'Patio, Lawn & Garden': 19668}              1\n",
       "{'Movies & TV': 62527}                       1\n",
       "{'Cell Phones & Accessories': 50983}         1\n",
       "{'Music': 364386}                            1\n",
       "{'Shoes': 60664}                             1\n",
       "{'Music': 51967}                             1\n",
       "{'Music': 253718}                            1\n",
       "{'Musical Instruments': 43807}               1\n",
       "{'Books': 3786327}                           1\n",
       "{'Sports &amp; Outdoors': 26548}             1\n",
       "{'Books': 1029094}                           1\n",
       "{'Toys & Games': 346338}                     1\n",
       "{'Books': 2507650}                           1\n",
       "{'Toys & Games': 36186}                      1\n",
       "{'Books': 3966867}                           1\n",
       "{'Books': 882570}                            1\n",
       "{'Books': 2391874}                           1\n",
       "{'Sports &amp; Outdoors': 216025}            1\n",
       "{'Kitchen & Dining': 42017}                  1\n",
       "{'Toys & Games': 10828}                      1\n",
       "{'Books': 1781428}                           1\n",
       "{'Sports &amp; Outdoors': 83740}             1\n",
       "{'Electronics': 227162}                      1\n",
       "{'Toys & Games': 81335}                      1\n",
       "Name: salesRank, Length: 739062, dtype: int64"
      ]
     },
     "execution_count": 35,
     "metadata": {},
     "output_type": "execute_result"
    }
   ],
   "source": [
    "df['salesRank'].value_counts()"
   ]
  },
  {
   "cell_type": "code",
   "execution_count": 61,
   "metadata": {},
   "outputs": [],
   "source": [
    "# # this may take approximately 10 minutes\n",
    "# df = pd.read_csv('./h5_filtered/df_all_filtered_v3.csv.gz', compression='gzip', parse_dates=['reviewTime'], low_memory=False)"
   ]
  },
  {
   "cell_type": "code",
   "execution_count": 36,
   "metadata": {},
   "outputs": [],
   "source": [
    "sales_extracted = df['salesRank'].str.extractall(\"([A-Za-z\\s&]+)\")"
   ]
  },
  {
   "cell_type": "code",
   "execution_count": 37,
   "metadata": {},
   "outputs": [],
   "source": [
    "sales_extracted = sales_extracted.unstack()"
   ]
  },
  {
   "cell_type": "code",
   "execution_count": 38,
   "metadata": {},
   "outputs": [],
   "source": [
    "sales_extracted.columns = sales_extracted.columns.droplevel(0)"
   ]
  },
  {
   "cell_type": "code",
   "execution_count": 39,
   "metadata": {},
   "outputs": [],
   "source": [
    "sales_extracted = sales_extracted.drop(columns=[2])"
   ]
  },
  {
   "cell_type": "code",
   "execution_count": 40,
   "metadata": {},
   "outputs": [
    {
     "data": {
      "text/plain": [
       "array(['Movies & TV', 'Books', 'Video Games', 'Pet Supplies',\n",
       "       'Health & Personal Care', 'Kitchen & Dining', 'Toys & Games',\n",
       "       'Music', 'Sports &amp', 'Cell Phones & Accessories', 'Beauty',\n",
       "       'Musical Instruments', 'Jewelry', 'Clothing', 'Arts', 'Software',\n",
       "       'Electronics', 'Industrial & Scientific', 'Patio', 'Camera &amp',\n",
       "       'Grocery & Gourmet Food', 'Home &amp', 'Computers & Accessories',\n",
       "       'Watches', 'Magazines', 'Office Products', 'Shoes', 'Automotive',\n",
       "       'Home Improvement', 'Baby', 'Prime Pantry', 'Appliances',\n",
       "       'Gift Cards Store'], dtype=object)"
      ]
     },
     "execution_count": 40,
     "metadata": {},
     "output_type": "execute_result"
    }
   ],
   "source": [
    "sales_extracted[0].unique()"
   ]
  },
  {
   "cell_type": "code",
   "execution_count": 41,
   "metadata": {},
   "outputs": [
    {
     "data": {
      "text/plain": [
       "array([' ', ' Outdoors', ' Crafts & Sewing', ' Lawn & Garden', ' Photo',\n",
       "       ' Kitchen'], dtype=object)"
      ]
     },
     "execution_count": 41,
     "metadata": {},
     "output_type": "execute_result"
    }
   ],
   "source": [
    "sales_extracted[1].unique()"
   ]
  },
  {
   "cell_type": "code",
   "execution_count": 42,
   "metadata": {
    "scrolled": true
   },
   "outputs": [
    {
     "data": {
      "text/html": [
       "<div>\n",
       "<style scoped>\n",
       "    .dataframe tbody tr th:only-of-type {\n",
       "        vertical-align: middle;\n",
       "    }\n",
       "\n",
       "    .dataframe tbody tr th {\n",
       "        vertical-align: top;\n",
       "    }\n",
       "\n",
       "    .dataframe thead th {\n",
       "        text-align: right;\n",
       "    }\n",
       "</style>\n",
       "<table border=\"1\" class=\"dataframe\">\n",
       "  <thead>\n",
       "    <tr style=\"text-align: right;\">\n",
       "      <th>match</th>\n",
       "      <th>0</th>\n",
       "      <th>1</th>\n",
       "    </tr>\n",
       "  </thead>\n",
       "  <tbody>\n",
       "    <tr>\n",
       "      <th>2305</th>\n",
       "      <td>Sports &amp;amp</td>\n",
       "      <td>Outdoors</td>\n",
       "    </tr>\n",
       "    <tr>\n",
       "      <th>2306</th>\n",
       "      <td>Sports &amp;amp</td>\n",
       "      <td>Outdoors</td>\n",
       "    </tr>\n",
       "    <tr>\n",
       "      <th>2307</th>\n",
       "      <td>Sports &amp;amp</td>\n",
       "      <td>Outdoors</td>\n",
       "    </tr>\n",
       "    <tr>\n",
       "      <th>3799</th>\n",
       "      <td>Sports &amp;amp</td>\n",
       "      <td>Outdoors</td>\n",
       "    </tr>\n",
       "    <tr>\n",
       "      <th>3800</th>\n",
       "      <td>Sports &amp;amp</td>\n",
       "      <td>Outdoors</td>\n",
       "    </tr>\n",
       "    <tr>\n",
       "      <th>3801</th>\n",
       "      <td>Sports &amp;amp</td>\n",
       "      <td>Outdoors</td>\n",
       "    </tr>\n",
       "    <tr>\n",
       "      <th>3802</th>\n",
       "      <td>Sports &amp;amp</td>\n",
       "      <td>Outdoors</td>\n",
       "    </tr>\n",
       "    <tr>\n",
       "      <th>4660</th>\n",
       "      <td>Arts</td>\n",
       "      <td>Crafts &amp; Sewing</td>\n",
       "    </tr>\n",
       "    <tr>\n",
       "      <th>4661</th>\n",
       "      <td>Arts</td>\n",
       "      <td>Crafts &amp; Sewing</td>\n",
       "    </tr>\n",
       "    <tr>\n",
       "      <th>4662</th>\n",
       "      <td>Arts</td>\n",
       "      <td>Crafts &amp; Sewing</td>\n",
       "    </tr>\n",
       "    <tr>\n",
       "      <th>4663</th>\n",
       "      <td>Arts</td>\n",
       "      <td>Crafts &amp; Sewing</td>\n",
       "    </tr>\n",
       "    <tr>\n",
       "      <th>4664</th>\n",
       "      <td>Arts</td>\n",
       "      <td>Crafts &amp; Sewing</td>\n",
       "    </tr>\n",
       "    <tr>\n",
       "      <th>4665</th>\n",
       "      <td>Arts</td>\n",
       "      <td>Crafts &amp; Sewing</td>\n",
       "    </tr>\n",
       "    <tr>\n",
       "      <th>4666</th>\n",
       "      <td>Arts</td>\n",
       "      <td>Crafts &amp; Sewing</td>\n",
       "    </tr>\n",
       "    <tr>\n",
       "      <th>4667</th>\n",
       "      <td>Arts</td>\n",
       "      <td>Crafts &amp; Sewing</td>\n",
       "    </tr>\n",
       "    <tr>\n",
       "      <th>4668</th>\n",
       "      <td>Arts</td>\n",
       "      <td>Crafts &amp; Sewing</td>\n",
       "    </tr>\n",
       "    <tr>\n",
       "      <th>4669</th>\n",
       "      <td>Arts</td>\n",
       "      <td>Crafts &amp; Sewing</td>\n",
       "    </tr>\n",
       "    <tr>\n",
       "      <th>4670</th>\n",
       "      <td>Arts</td>\n",
       "      <td>Crafts &amp; Sewing</td>\n",
       "    </tr>\n",
       "    <tr>\n",
       "      <th>4671</th>\n",
       "      <td>Arts</td>\n",
       "      <td>Crafts &amp; Sewing</td>\n",
       "    </tr>\n",
       "    <tr>\n",
       "      <th>4672</th>\n",
       "      <td>Arts</td>\n",
       "      <td>Crafts &amp; Sewing</td>\n",
       "    </tr>\n",
       "    <tr>\n",
       "      <th>4673</th>\n",
       "      <td>Arts</td>\n",
       "      <td>Crafts &amp; Sewing</td>\n",
       "    </tr>\n",
       "    <tr>\n",
       "      <th>4674</th>\n",
       "      <td>Arts</td>\n",
       "      <td>Crafts &amp; Sewing</td>\n",
       "    </tr>\n",
       "    <tr>\n",
       "      <th>4675</th>\n",
       "      <td>Arts</td>\n",
       "      <td>Crafts &amp; Sewing</td>\n",
       "    </tr>\n",
       "    <tr>\n",
       "      <th>4676</th>\n",
       "      <td>Arts</td>\n",
       "      <td>Crafts &amp; Sewing</td>\n",
       "    </tr>\n",
       "    <tr>\n",
       "      <th>4677</th>\n",
       "      <td>Arts</td>\n",
       "      <td>Crafts &amp; Sewing</td>\n",
       "    </tr>\n",
       "    <tr>\n",
       "      <th>4678</th>\n",
       "      <td>Arts</td>\n",
       "      <td>Crafts &amp; Sewing</td>\n",
       "    </tr>\n",
       "    <tr>\n",
       "      <th>4679</th>\n",
       "      <td>Arts</td>\n",
       "      <td>Crafts &amp; Sewing</td>\n",
       "    </tr>\n",
       "    <tr>\n",
       "      <th>4680</th>\n",
       "      <td>Arts</td>\n",
       "      <td>Crafts &amp; Sewing</td>\n",
       "    </tr>\n",
       "    <tr>\n",
       "      <th>4681</th>\n",
       "      <td>Arts</td>\n",
       "      <td>Crafts &amp; Sewing</td>\n",
       "    </tr>\n",
       "    <tr>\n",
       "      <th>4682</th>\n",
       "      <td>Arts</td>\n",
       "      <td>Crafts &amp; Sewing</td>\n",
       "    </tr>\n",
       "    <tr>\n",
       "      <th>...</th>\n",
       "      <td>...</td>\n",
       "      <td>...</td>\n",
       "    </tr>\n",
       "    <tr>\n",
       "      <th>4753518</th>\n",
       "      <td>Home &amp;amp</td>\n",
       "      <td>Kitchen</td>\n",
       "    </tr>\n",
       "    <tr>\n",
       "      <th>4753532</th>\n",
       "      <td>Camera &amp;amp</td>\n",
       "      <td>Photo</td>\n",
       "    </tr>\n",
       "    <tr>\n",
       "      <th>4753536</th>\n",
       "      <td>Sports &amp;amp</td>\n",
       "      <td>Outdoors</td>\n",
       "    </tr>\n",
       "    <tr>\n",
       "      <th>4753550</th>\n",
       "      <td>Patio</td>\n",
       "      <td>Lawn &amp; Garden</td>\n",
       "    </tr>\n",
       "    <tr>\n",
       "      <th>4753555</th>\n",
       "      <td>Home &amp;amp</td>\n",
       "      <td>Kitchen</td>\n",
       "    </tr>\n",
       "    <tr>\n",
       "      <th>4753556</th>\n",
       "      <td>Patio</td>\n",
       "      <td>Lawn &amp; Garden</td>\n",
       "    </tr>\n",
       "    <tr>\n",
       "      <th>4753577</th>\n",
       "      <td>Home &amp;amp</td>\n",
       "      <td>Kitchen</td>\n",
       "    </tr>\n",
       "    <tr>\n",
       "      <th>4753614</th>\n",
       "      <td>Arts</td>\n",
       "      <td>Crafts &amp; Sewing</td>\n",
       "    </tr>\n",
       "    <tr>\n",
       "      <th>4753617</th>\n",
       "      <td>Home &amp;amp</td>\n",
       "      <td>Kitchen</td>\n",
       "    </tr>\n",
       "    <tr>\n",
       "      <th>4753635</th>\n",
       "      <td>Home &amp;amp</td>\n",
       "      <td>Kitchen</td>\n",
       "    </tr>\n",
       "    <tr>\n",
       "      <th>4753665</th>\n",
       "      <td>Home &amp;amp</td>\n",
       "      <td>Kitchen</td>\n",
       "    </tr>\n",
       "    <tr>\n",
       "      <th>4753670</th>\n",
       "      <td>Home &amp;amp</td>\n",
       "      <td>Kitchen</td>\n",
       "    </tr>\n",
       "    <tr>\n",
       "      <th>4753671</th>\n",
       "      <td>Sports &amp;amp</td>\n",
       "      <td>Outdoors</td>\n",
       "    </tr>\n",
       "    <tr>\n",
       "      <th>4753673</th>\n",
       "      <td>Home &amp;amp</td>\n",
       "      <td>Kitchen</td>\n",
       "    </tr>\n",
       "    <tr>\n",
       "      <th>4753675</th>\n",
       "      <td>Sports &amp;amp</td>\n",
       "      <td>Outdoors</td>\n",
       "    </tr>\n",
       "    <tr>\n",
       "      <th>4753688</th>\n",
       "      <td>Patio</td>\n",
       "      <td>Lawn &amp; Garden</td>\n",
       "    </tr>\n",
       "    <tr>\n",
       "      <th>4753701</th>\n",
       "      <td>Camera &amp;amp</td>\n",
       "      <td>Photo</td>\n",
       "    </tr>\n",
       "    <tr>\n",
       "      <th>4753702</th>\n",
       "      <td>Home &amp;amp</td>\n",
       "      <td>Kitchen</td>\n",
       "    </tr>\n",
       "    <tr>\n",
       "      <th>4753744</th>\n",
       "      <td>Sports &amp;amp</td>\n",
       "      <td>Outdoors</td>\n",
       "    </tr>\n",
       "    <tr>\n",
       "      <th>4753745</th>\n",
       "      <td>Home &amp;amp</td>\n",
       "      <td>Kitchen</td>\n",
       "    </tr>\n",
       "    <tr>\n",
       "      <th>4753753</th>\n",
       "      <td>Patio</td>\n",
       "      <td>Lawn &amp; Garden</td>\n",
       "    </tr>\n",
       "    <tr>\n",
       "      <th>4753771</th>\n",
       "      <td>Patio</td>\n",
       "      <td>Lawn &amp; Garden</td>\n",
       "    </tr>\n",
       "    <tr>\n",
       "      <th>4753785</th>\n",
       "      <td>Home &amp;amp</td>\n",
       "      <td>Kitchen</td>\n",
       "    </tr>\n",
       "    <tr>\n",
       "      <th>4753803</th>\n",
       "      <td>Sports &amp;amp</td>\n",
       "      <td>Outdoors</td>\n",
       "    </tr>\n",
       "    <tr>\n",
       "      <th>4753805</th>\n",
       "      <td>Arts</td>\n",
       "      <td>Crafts &amp; Sewing</td>\n",
       "    </tr>\n",
       "    <tr>\n",
       "      <th>4753806</th>\n",
       "      <td>Arts</td>\n",
       "      <td>Crafts &amp; Sewing</td>\n",
       "    </tr>\n",
       "    <tr>\n",
       "      <th>4753815</th>\n",
       "      <td>Patio</td>\n",
       "      <td>Lawn &amp; Garden</td>\n",
       "    </tr>\n",
       "    <tr>\n",
       "      <th>4753854</th>\n",
       "      <td>Patio</td>\n",
       "      <td>Lawn &amp; Garden</td>\n",
       "    </tr>\n",
       "    <tr>\n",
       "      <th>4753907</th>\n",
       "      <td>Sports &amp;amp</td>\n",
       "      <td>Outdoors</td>\n",
       "    </tr>\n",
       "    <tr>\n",
       "      <th>4753957</th>\n",
       "      <td>Arts</td>\n",
       "      <td>Crafts &amp; Sewing</td>\n",
       "    </tr>\n",
       "  </tbody>\n",
       "</table>\n",
       "<p>238885 rows × 2 columns</p>\n",
       "</div>"
      ],
      "text/plain": [
       "match              0                 1\n",
       "2305     Sports &amp          Outdoors\n",
       "2306     Sports &amp          Outdoors\n",
       "2307     Sports &amp          Outdoors\n",
       "3799     Sports &amp          Outdoors\n",
       "3800     Sports &amp          Outdoors\n",
       "3801     Sports &amp          Outdoors\n",
       "3802     Sports &amp          Outdoors\n",
       "4660            Arts   Crafts & Sewing\n",
       "4661            Arts   Crafts & Sewing\n",
       "4662            Arts   Crafts & Sewing\n",
       "4663            Arts   Crafts & Sewing\n",
       "4664            Arts   Crafts & Sewing\n",
       "4665            Arts   Crafts & Sewing\n",
       "4666            Arts   Crafts & Sewing\n",
       "4667            Arts   Crafts & Sewing\n",
       "4668            Arts   Crafts & Sewing\n",
       "4669            Arts   Crafts & Sewing\n",
       "4670            Arts   Crafts & Sewing\n",
       "4671            Arts   Crafts & Sewing\n",
       "4672            Arts   Crafts & Sewing\n",
       "4673            Arts   Crafts & Sewing\n",
       "4674            Arts   Crafts & Sewing\n",
       "4675            Arts   Crafts & Sewing\n",
       "4676            Arts   Crafts & Sewing\n",
       "4677            Arts   Crafts & Sewing\n",
       "4678            Arts   Crafts & Sewing\n",
       "4679            Arts   Crafts & Sewing\n",
       "4680            Arts   Crafts & Sewing\n",
       "4681            Arts   Crafts & Sewing\n",
       "4682            Arts   Crafts & Sewing\n",
       "...              ...               ...\n",
       "4753518    Home &amp           Kitchen\n",
       "4753532  Camera &amp             Photo\n",
       "4753536  Sports &amp          Outdoors\n",
       "4753550        Patio     Lawn & Garden\n",
       "4753555    Home &amp           Kitchen\n",
       "4753556        Patio     Lawn & Garden\n",
       "4753577    Home &amp           Kitchen\n",
       "4753614         Arts   Crafts & Sewing\n",
       "4753617    Home &amp           Kitchen\n",
       "4753635    Home &amp           Kitchen\n",
       "4753665    Home &amp           Kitchen\n",
       "4753670    Home &amp           Kitchen\n",
       "4753671  Sports &amp          Outdoors\n",
       "4753673    Home &amp           Kitchen\n",
       "4753675  Sports &amp          Outdoors\n",
       "4753688        Patio     Lawn & Garden\n",
       "4753701  Camera &amp             Photo\n",
       "4753702    Home &amp           Kitchen\n",
       "4753744  Sports &amp          Outdoors\n",
       "4753745    Home &amp           Kitchen\n",
       "4753753        Patio     Lawn & Garden\n",
       "4753771        Patio     Lawn & Garden\n",
       "4753785    Home &amp           Kitchen\n",
       "4753803  Sports &amp          Outdoors\n",
       "4753805         Arts   Crafts & Sewing\n",
       "4753806         Arts   Crafts & Sewing\n",
       "4753815        Patio     Lawn & Garden\n",
       "4753854        Patio     Lawn & Garden\n",
       "4753907  Sports &amp          Outdoors\n",
       "4753957         Arts   Crafts & Sewing\n",
       "\n",
       "[238885 rows x 2 columns]"
      ]
     },
     "execution_count": 42,
     "metadata": {},
     "output_type": "execute_result"
    }
   ],
   "source": [
    "sales_extracted[sales_extracted[1] != ' ']"
   ]
  },
  {
   "cell_type": "markdown",
   "metadata": {},
   "source": [
    "categories column has too many items or duplicated ones. Therefore we focus on first category in the list because we assume categories in order of importance"
   ]
  },
  {
   "cell_type": "code",
   "execution_count": 43,
   "metadata": {},
   "outputs": [],
   "source": [
    "cat_extracted = df['categories'].str.extract(\"([A-Za-z\\s&]+)\")"
   ]
  },
  {
   "cell_type": "code",
   "execution_count": 44,
   "metadata": {
    "scrolled": true
   },
   "outputs": [
    {
     "data": {
      "text/html": [
       "<div>\n",
       "<style scoped>\n",
       "    .dataframe tbody tr th:only-of-type {\n",
       "        vertical-align: middle;\n",
       "    }\n",
       "\n",
       "    .dataframe tbody tr th {\n",
       "        vertical-align: top;\n",
       "    }\n",
       "\n",
       "    .dataframe thead th {\n",
       "        text-align: right;\n",
       "    }\n",
       "</style>\n",
       "<table border=\"1\" class=\"dataframe\">\n",
       "  <thead>\n",
       "    <tr style=\"text-align: right;\">\n",
       "      <th>match</th>\n",
       "      <th>0</th>\n",
       "      <th>1</th>\n",
       "    </tr>\n",
       "  </thead>\n",
       "  <tbody>\n",
       "    <tr>\n",
       "      <th>15</th>\n",
       "      <td>Movies &amp; TV</td>\n",
       "      <td></td>\n",
       "    </tr>\n",
       "    <tr>\n",
       "      <th>16</th>\n",
       "      <td>Movies &amp; TV</td>\n",
       "      <td></td>\n",
       "    </tr>\n",
       "    <tr>\n",
       "      <th>17</th>\n",
       "      <td>Movies &amp; TV</td>\n",
       "      <td></td>\n",
       "    </tr>\n",
       "    <tr>\n",
       "      <th>18</th>\n",
       "      <td>Movies &amp; TV</td>\n",
       "      <td></td>\n",
       "    </tr>\n",
       "    <tr>\n",
       "      <th>19</th>\n",
       "      <td>Movies &amp; TV</td>\n",
       "      <td></td>\n",
       "    </tr>\n",
       "    <tr>\n",
       "      <th>20</th>\n",
       "      <td>Movies &amp; TV</td>\n",
       "      <td></td>\n",
       "    </tr>\n",
       "    <tr>\n",
       "      <th>21</th>\n",
       "      <td>Movies &amp; TV</td>\n",
       "      <td></td>\n",
       "    </tr>\n",
       "    <tr>\n",
       "      <th>22</th>\n",
       "      <td>Movies &amp; TV</td>\n",
       "      <td></td>\n",
       "    </tr>\n",
       "    <tr>\n",
       "      <th>23</th>\n",
       "      <td>Movies &amp; TV</td>\n",
       "      <td></td>\n",
       "    </tr>\n",
       "    <tr>\n",
       "      <th>24</th>\n",
       "      <td>Movies &amp; TV</td>\n",
       "      <td></td>\n",
       "    </tr>\n",
       "    <tr>\n",
       "      <th>25</th>\n",
       "      <td>Movies &amp; TV</td>\n",
       "      <td></td>\n",
       "    </tr>\n",
       "    <tr>\n",
       "      <th>26</th>\n",
       "      <td>Movies &amp; TV</td>\n",
       "      <td></td>\n",
       "    </tr>\n",
       "    <tr>\n",
       "      <th>27</th>\n",
       "      <td>Movies &amp; TV</td>\n",
       "      <td></td>\n",
       "    </tr>\n",
       "    <tr>\n",
       "      <th>28</th>\n",
       "      <td>Movies &amp; TV</td>\n",
       "      <td></td>\n",
       "    </tr>\n",
       "    <tr>\n",
       "      <th>29</th>\n",
       "      <td>Movies &amp; TV</td>\n",
       "      <td></td>\n",
       "    </tr>\n",
       "    <tr>\n",
       "      <th>30</th>\n",
       "      <td>Movies &amp; TV</td>\n",
       "      <td></td>\n",
       "    </tr>\n",
       "    <tr>\n",
       "      <th>31</th>\n",
       "      <td>Movies &amp; TV</td>\n",
       "      <td></td>\n",
       "    </tr>\n",
       "    <tr>\n",
       "      <th>32</th>\n",
       "      <td>Movies &amp; TV</td>\n",
       "      <td></td>\n",
       "    </tr>\n",
       "    <tr>\n",
       "      <th>33</th>\n",
       "      <td>Movies &amp; TV</td>\n",
       "      <td></td>\n",
       "    </tr>\n",
       "    <tr>\n",
       "      <th>34</th>\n",
       "      <td>Movies &amp; TV</td>\n",
       "      <td></td>\n",
       "    </tr>\n",
       "    <tr>\n",
       "      <th>35</th>\n",
       "      <td>Movies &amp; TV</td>\n",
       "      <td></td>\n",
       "    </tr>\n",
       "    <tr>\n",
       "      <th>36</th>\n",
       "      <td>Movies &amp; TV</td>\n",
       "      <td></td>\n",
       "    </tr>\n",
       "    <tr>\n",
       "      <th>37</th>\n",
       "      <td>Movies &amp; TV</td>\n",
       "      <td></td>\n",
       "    </tr>\n",
       "    <tr>\n",
       "      <th>38</th>\n",
       "      <td>Movies &amp; TV</td>\n",
       "      <td></td>\n",
       "    </tr>\n",
       "    <tr>\n",
       "      <th>39</th>\n",
       "      <td>Movies &amp; TV</td>\n",
       "      <td></td>\n",
       "    </tr>\n",
       "    <tr>\n",
       "      <th>40</th>\n",
       "      <td>Movies &amp; TV</td>\n",
       "      <td></td>\n",
       "    </tr>\n",
       "    <tr>\n",
       "      <th>41</th>\n",
       "      <td>Movies &amp; TV</td>\n",
       "      <td></td>\n",
       "    </tr>\n",
       "    <tr>\n",
       "      <th>42</th>\n",
       "      <td>Movies &amp; TV</td>\n",
       "      <td></td>\n",
       "    </tr>\n",
       "    <tr>\n",
       "      <th>43</th>\n",
       "      <td>Movies &amp; TV</td>\n",
       "      <td></td>\n",
       "    </tr>\n",
       "    <tr>\n",
       "      <th>44</th>\n",
       "      <td>Movies &amp; TV</td>\n",
       "      <td></td>\n",
       "    </tr>\n",
       "    <tr>\n",
       "      <th>...</th>\n",
       "      <td>...</td>\n",
       "      <td>...</td>\n",
       "    </tr>\n",
       "    <tr>\n",
       "      <th>4753937</th>\n",
       "      <td>Books</td>\n",
       "      <td></td>\n",
       "    </tr>\n",
       "    <tr>\n",
       "      <th>4753938</th>\n",
       "      <td>Clothing</td>\n",
       "      <td></td>\n",
       "    </tr>\n",
       "    <tr>\n",
       "      <th>4753940</th>\n",
       "      <td>Books</td>\n",
       "      <td></td>\n",
       "    </tr>\n",
       "    <tr>\n",
       "      <th>4753941</th>\n",
       "      <td>Books</td>\n",
       "      <td></td>\n",
       "    </tr>\n",
       "    <tr>\n",
       "      <th>4753943</th>\n",
       "      <td>Books</td>\n",
       "      <td></td>\n",
       "    </tr>\n",
       "    <tr>\n",
       "      <th>4753944</th>\n",
       "      <td>Musical Instruments</td>\n",
       "      <td></td>\n",
       "    </tr>\n",
       "    <tr>\n",
       "      <th>4753946</th>\n",
       "      <td>Health &amp; Personal Care</td>\n",
       "      <td></td>\n",
       "    </tr>\n",
       "    <tr>\n",
       "      <th>4753947</th>\n",
       "      <td>Books</td>\n",
       "      <td></td>\n",
       "    </tr>\n",
       "    <tr>\n",
       "      <th>4753949</th>\n",
       "      <td>Books</td>\n",
       "      <td></td>\n",
       "    </tr>\n",
       "    <tr>\n",
       "      <th>4753950</th>\n",
       "      <td>Kitchen &amp; Dining</td>\n",
       "      <td></td>\n",
       "    </tr>\n",
       "    <tr>\n",
       "      <th>4753951</th>\n",
       "      <td>Grocery &amp; Gourmet Food</td>\n",
       "      <td></td>\n",
       "    </tr>\n",
       "    <tr>\n",
       "      <th>4753953</th>\n",
       "      <td>Books</td>\n",
       "      <td></td>\n",
       "    </tr>\n",
       "    <tr>\n",
       "      <th>4753954</th>\n",
       "      <td>Books</td>\n",
       "      <td></td>\n",
       "    </tr>\n",
       "    <tr>\n",
       "      <th>4753955</th>\n",
       "      <td>Pet Supplies</td>\n",
       "      <td></td>\n",
       "    </tr>\n",
       "    <tr>\n",
       "      <th>4753956</th>\n",
       "      <td>Kitchen &amp; Dining</td>\n",
       "      <td></td>\n",
       "    </tr>\n",
       "    <tr>\n",
       "      <th>4753957</th>\n",
       "      <td>Arts</td>\n",
       "      <td>Crafts &amp; Sewing</td>\n",
       "    </tr>\n",
       "    <tr>\n",
       "      <th>4753958</th>\n",
       "      <td>Music</td>\n",
       "      <td></td>\n",
       "    </tr>\n",
       "    <tr>\n",
       "      <th>4753960</th>\n",
       "      <td>Books</td>\n",
       "      <td></td>\n",
       "    </tr>\n",
       "    <tr>\n",
       "      <th>4753961</th>\n",
       "      <td>Clothing</td>\n",
       "      <td></td>\n",
       "    </tr>\n",
       "    <tr>\n",
       "      <th>4753964</th>\n",
       "      <td>Movies &amp; TV</td>\n",
       "      <td></td>\n",
       "    </tr>\n",
       "    <tr>\n",
       "      <th>4753965</th>\n",
       "      <td>Health &amp; Personal Care</td>\n",
       "      <td></td>\n",
       "    </tr>\n",
       "    <tr>\n",
       "      <th>4753968</th>\n",
       "      <td>Music</td>\n",
       "      <td></td>\n",
       "    </tr>\n",
       "    <tr>\n",
       "      <th>4753969</th>\n",
       "      <td>Music</td>\n",
       "      <td></td>\n",
       "    </tr>\n",
       "    <tr>\n",
       "      <th>4753970</th>\n",
       "      <td>Music</td>\n",
       "      <td></td>\n",
       "    </tr>\n",
       "    <tr>\n",
       "      <th>4753972</th>\n",
       "      <td>Music</td>\n",
       "      <td></td>\n",
       "    </tr>\n",
       "    <tr>\n",
       "      <th>4753973</th>\n",
       "      <td>Books</td>\n",
       "      <td></td>\n",
       "    </tr>\n",
       "    <tr>\n",
       "      <th>4753976</th>\n",
       "      <td>Music</td>\n",
       "      <td></td>\n",
       "    </tr>\n",
       "    <tr>\n",
       "      <th>4753977</th>\n",
       "      <td>Health &amp; Personal Care</td>\n",
       "      <td></td>\n",
       "    </tr>\n",
       "    <tr>\n",
       "      <th>4753978</th>\n",
       "      <td>Books</td>\n",
       "      <td></td>\n",
       "    </tr>\n",
       "    <tr>\n",
       "      <th>4753979</th>\n",
       "      <td>Clothing</td>\n",
       "      <td></td>\n",
       "    </tr>\n",
       "  </tbody>\n",
       "</table>\n",
       "<p>3613385 rows × 2 columns</p>\n",
       "</div>"
      ],
      "text/plain": [
       "match                         0                 1\n",
       "15                  Movies & TV                  \n",
       "16                  Movies & TV                  \n",
       "17                  Movies & TV                  \n",
       "18                  Movies & TV                  \n",
       "19                  Movies & TV                  \n",
       "20                  Movies & TV                  \n",
       "21                  Movies & TV                  \n",
       "22                  Movies & TV                  \n",
       "23                  Movies & TV                  \n",
       "24                  Movies & TV                  \n",
       "25                  Movies & TV                  \n",
       "26                  Movies & TV                  \n",
       "27                  Movies & TV                  \n",
       "28                  Movies & TV                  \n",
       "29                  Movies & TV                  \n",
       "30                  Movies & TV                  \n",
       "31                  Movies & TV                  \n",
       "32                  Movies & TV                  \n",
       "33                  Movies & TV                  \n",
       "34                  Movies & TV                  \n",
       "35                  Movies & TV                  \n",
       "36                  Movies & TV                  \n",
       "37                  Movies & TV                  \n",
       "38                  Movies & TV                  \n",
       "39                  Movies & TV                  \n",
       "40                  Movies & TV                  \n",
       "41                  Movies & TV                  \n",
       "42                  Movies & TV                  \n",
       "43                  Movies & TV                  \n",
       "44                  Movies & TV                  \n",
       "...                         ...               ...\n",
       "4753937                   Books                  \n",
       "4753938                Clothing                  \n",
       "4753940                   Books                  \n",
       "4753941                   Books                  \n",
       "4753943                   Books                  \n",
       "4753944     Musical Instruments                  \n",
       "4753946  Health & Personal Care                  \n",
       "4753947                   Books                  \n",
       "4753949                   Books                  \n",
       "4753950        Kitchen & Dining                  \n",
       "4753951  Grocery & Gourmet Food                  \n",
       "4753953                   Books                  \n",
       "4753954                   Books                  \n",
       "4753955            Pet Supplies                  \n",
       "4753956        Kitchen & Dining                  \n",
       "4753957                    Arts   Crafts & Sewing\n",
       "4753958                   Music                  \n",
       "4753960                   Books                  \n",
       "4753961                Clothing                  \n",
       "4753964             Movies & TV                  \n",
       "4753965  Health & Personal Care                  \n",
       "4753968                   Music                  \n",
       "4753969                   Music                  \n",
       "4753970                   Music                  \n",
       "4753972                   Music                  \n",
       "4753973                   Books                  \n",
       "4753976                   Music                  \n",
       "4753977  Health & Personal Care                  \n",
       "4753978                   Books                  \n",
       "4753979                Clothing                  \n",
       "\n",
       "[3613385 rows x 2 columns]"
      ]
     },
     "execution_count": 44,
     "metadata": {},
     "output_type": "execute_result"
    }
   ],
   "source": [
    "sales_extracted"
   ]
  },
  {
   "cell_type": "code",
   "execution_count": 45,
   "metadata": {
    "scrolled": true
   },
   "outputs": [
    {
     "data": {
      "text/plain": [
       "0                       Electronics\n",
       "1                       Electronics\n",
       "2                       Electronics\n",
       "3                       Electronics\n",
       "4                       Electronics\n",
       "5                       Electronics\n",
       "6                       Electronics\n",
       "7                       Electronics\n",
       "8                       Electronics\n",
       "9                       Electronics\n",
       "10                      Electronics\n",
       "11         Tools & Home Improvement\n",
       "12         Tools & Home Improvement\n",
       "13         Tools & Home Improvement\n",
       "14         Tools & Home Improvement\n",
       "15                      Movies & TV\n",
       "16                      Movies & TV\n",
       "17                      Movies & TV\n",
       "18                      Movies & TV\n",
       "19                      Movies & TV\n",
       "20                      Movies & TV\n",
       "21                      Movies & TV\n",
       "22                      Movies & TV\n",
       "23                      Movies & TV\n",
       "24                      Movies & TV\n",
       "25                      Movies & TV\n",
       "26                      Movies & TV\n",
       "27                      Movies & TV\n",
       "28                      Movies & TV\n",
       "29                      Movies & TV\n",
       "                     ...           \n",
       "4753941                       Books\n",
       "4753943                       Books\n",
       "4753944         Musical Instruments\n",
       "4753946      Health & Personal Care\n",
       "4753947                       Books\n",
       "4753949                       Books\n",
       "4753950              Home & Kitchen\n",
       "4753951      Grocery & Gourmet Food\n",
       "4753953                       Books\n",
       "4753954                       Books\n",
       "4753955                Pet Supplies\n",
       "4753956              Home & Kitchen\n",
       "4753957                        Arts\n",
       "4753958                 CDs & Vinyl\n",
       "4753959                       Books\n",
       "4753960                       Books\n",
       "4753961                    Clothing\n",
       "4753962    Tools & Home Improvement\n",
       "4753964                 Movies & TV\n",
       "4753965      Health & Personal Care\n",
       "4753968                 CDs & Vinyl\n",
       "4753969                 CDs & Vinyl\n",
       "4753970                 CDs & Vinyl\n",
       "4753972                 CDs & Vinyl\n",
       "4753973                       Books\n",
       "4753975                 Electronics\n",
       "4753976                 CDs & Vinyl\n",
       "4753977      Health & Personal Care\n",
       "4753978                       Books\n",
       "4753979                    Clothing\n",
       "Name: 0, Length: 4181390, dtype: object"
      ]
     },
     "execution_count": 45,
     "metadata": {},
     "output_type": "execute_result"
    }
   ],
   "source": [
    "cat_extracted[0]"
   ]
  },
  {
   "cell_type": "code",
   "execution_count": 46,
   "metadata": {},
   "outputs": [
    {
     "data": {
      "text/plain": [
       "(array(['Electronics', 'Tools & Home Improvement', 'Movies & TV', 'Books',\n",
       "        'Video Games', 'Automotive', 'Pet Supplies',\n",
       "        'Health & Personal Care', 'Home & Kitchen', 'Toys & Games', 'Arts',\n",
       "        'CDs & Vinyl', 'Baby', 'Sports & Outdoors', 'Gift Cards',\n",
       "        'Office Products', 'Cell Phones & Accessories', 'Beauty',\n",
       "        'Clothing', 'Software', 'Industrial & Scientific', nan, 'Patio',\n",
       "        'Grocery & Gourmet Food', 'Musical Instruments', 'Amazon Fashion',\n",
       "        'Appliances', 'MP', 'All Electronics', 'Kindle Store',\n",
       "        'Digital Music', 'Apps for Android', 'Buy a Kindle',\n",
       "        'Amazon Instant Video', 'Magazine Subscriptions', 'All Beauty',\n",
       "        'Baby Products', 'Purchase Circles', 'Classical', 'Computers',\n",
       "        'Luxury Beauty', 'Rap & Hip', 'Rock', 'Kitchen & Dining',\n",
       "        'Celebrate your Birthday with Nickelodeon', 'Classic Rock',\n",
       "        'Home Improvement', 'Office & School Supplies', 'Christian',\n",
       "        'International', 'Alternative Rock', 'GPS & Navigation',\n",
       "        'Dance & Electronic', 'Gift Cards Store', 'Camera & Photo',\n",
       "        'Miscellaneous', 'Collectibles & Fine Art', 'Country', ' ',\n",
       "        'Davis', 'R&B', 'Hard Rock & Metal', 'Furniture & D&',\n",
       "        'Car Electronics', 'Pop', 'Broadway & Vocalists', 'Folk', 'Gospel',\n",
       "        'Jazz', 'Amazon Coins', 'New Age', 'Children', 'Wine', 'Blues'],\n",
       "       dtype=object), 74)"
      ]
     },
     "execution_count": 46,
     "metadata": {},
     "output_type": "execute_result"
    }
   ],
   "source": [
    "cat_extracted[0].unique(), len(cat_extracted[0].unique())"
   ]
  },
  {
   "cell_type": "code",
   "execution_count": 47,
   "metadata": {},
   "outputs": [
    {
     "data": {
      "text/plain": [
       "0.6803000915963352"
      ]
     },
     "execution_count": 47,
     "metadata": {},
     "output_type": "execute_result"
    }
   ],
   "source": [
    "cat_extracted[0].isnull().sum() / df.shape[0] * 100"
   ]
  },
  {
   "cell_type": "markdown",
   "metadata": {},
   "source": [
    "Basically, sales rank does not fill NaN value in categories, and categories missing value rate is very small (0.68 %). Therefore, we remove those missing value rows. Also, drop salesRank"
   ]
  },
  {
   "cell_type": "code",
   "execution_count": 48,
   "metadata": {},
   "outputs": [],
   "source": [
    "# update 'categories'\n",
    "df['categories'] = cat_extracted[0]"
   ]
  },
  {
   "cell_type": "code",
   "execution_count": 49,
   "metadata": {},
   "outputs": [],
   "source": [
    "# remove null rows with 'categories'\n",
    "df = df[~df['categories'].isnull()]"
   ]
  },
  {
   "cell_type": "code",
   "execution_count": 50,
   "metadata": {},
   "outputs": [],
   "source": [
    "df = df[df['categories'] != ' ']"
   ]
  },
  {
   "cell_type": "code",
   "execution_count": 51,
   "metadata": {},
   "outputs": [
    {
     "data": {
      "text/plain": [
       "(4152940, 10)"
      ]
     },
     "execution_count": 51,
     "metadata": {},
     "output_type": "execute_result"
    }
   ],
   "source": [
    "df.shape"
   ]
  },
  {
   "cell_type": "code",
   "execution_count": 52,
   "metadata": {},
   "outputs": [
    {
     "data": {
      "text/plain": [
       "(array(['Electronics', 'Tools & Home Improvement', 'Movies & TV', 'Books',\n",
       "        'Video Games', 'Automotive', 'Pet Supplies',\n",
       "        'Health & Personal Care', 'Home & Kitchen', 'Toys & Games', 'Arts',\n",
       "        'CDs & Vinyl', 'Baby', 'Sports & Outdoors', 'Gift Cards',\n",
       "        'Office Products', 'Cell Phones & Accessories', 'Beauty',\n",
       "        'Clothing', 'Software', 'Industrial & Scientific', 'Patio',\n",
       "        'Grocery & Gourmet Food', 'Musical Instruments', 'Amazon Fashion',\n",
       "        'Appliances', 'MP', 'All Electronics', 'Kindle Store',\n",
       "        'Digital Music', 'Apps for Android', 'Buy a Kindle',\n",
       "        'Amazon Instant Video', 'Magazine Subscriptions', 'All Beauty',\n",
       "        'Baby Products', 'Purchase Circles', 'Classical', 'Computers',\n",
       "        'Luxury Beauty', 'Rap & Hip', 'Rock', 'Kitchen & Dining',\n",
       "        'Celebrate your Birthday with Nickelodeon', 'Classic Rock',\n",
       "        'Home Improvement', 'Office & School Supplies', 'Christian',\n",
       "        'International', 'Alternative Rock', 'GPS & Navigation',\n",
       "        'Dance & Electronic', 'Gift Cards Store', 'Camera & Photo',\n",
       "        'Miscellaneous', 'Collectibles & Fine Art', 'Country', 'Davis',\n",
       "        'R&B', 'Hard Rock & Metal', 'Furniture & D&', 'Car Electronics',\n",
       "        'Pop', 'Broadway & Vocalists', 'Folk', 'Gospel', 'Jazz',\n",
       "        'Amazon Coins', 'New Age', 'Children', 'Wine', 'Blues'],\n",
       "       dtype=object), 72)"
      ]
     },
     "execution_count": 52,
     "metadata": {},
     "output_type": "execute_result"
    }
   ],
   "source": [
    "df.categories.unique(), len(df.categories.unique())"
   ]
  },
  {
   "cell_type": "code",
   "execution_count": 53,
   "metadata": {},
   "outputs": [],
   "source": [
    "# drop \n",
    "df = df.drop(['salesRank'], axis=1)"
   ]
  },
  {
   "cell_type": "code",
   "execution_count": 54,
   "metadata": {},
   "outputs": [
    {
     "data": {
      "text/html": [
       "<div>\n",
       "<style scoped>\n",
       "    .dataframe tbody tr th:only-of-type {\n",
       "        vertical-align: middle;\n",
       "    }\n",
       "\n",
       "    .dataframe tbody tr th {\n",
       "        vertical-align: top;\n",
       "    }\n",
       "\n",
       "    .dataframe thead th {\n",
       "        text-align: right;\n",
       "    }\n",
       "</style>\n",
       "<table border=\"1\" class=\"dataframe\">\n",
       "  <thead>\n",
       "    <tr style=\"text-align: right;\">\n",
       "      <th></th>\n",
       "      <th>reviewerID</th>\n",
       "      <th>asin</th>\n",
       "      <th>helpful</th>\n",
       "      <th>reviewText</th>\n",
       "      <th>overall</th>\n",
       "      <th>summary</th>\n",
       "      <th>reviewTime</th>\n",
       "      <th>categories</th>\n",
       "      <th>price</th>\n",
       "    </tr>\n",
       "  </thead>\n",
       "  <tbody>\n",
       "    <tr>\n",
       "      <th>0</th>\n",
       "      <td>A0001528BGUBOEVR6T5U</td>\n",
       "      <td>B008O5BIWW</td>\n",
       "      <td>[4, 14]</td>\n",
       "      <td>The Foscam FI8919W is a great camera. I am a d...</td>\n",
       "      <td>5.0</td>\n",
       "      <td>Foscam FI8919W</td>\n",
       "      <td>2013-02-13</td>\n",
       "      <td>Electronics</td>\n",
       "      <td>189.73</td>\n",
       "    </tr>\n",
       "    <tr>\n",
       "      <th>1</th>\n",
       "      <td>A1S44FJFOKDV4Q</td>\n",
       "      <td>B008O5BIWW</td>\n",
       "      <td>[10, 13]</td>\n",
       "      <td>Purchased this camera direct from Foscam.  The...</td>\n",
       "      <td>1.0</td>\n",
       "      <td>Nothing but problems</td>\n",
       "      <td>2013-10-03</td>\n",
       "      <td>Electronics</td>\n",
       "      <td>189.73</td>\n",
       "    </tr>\n",
       "    <tr>\n",
       "      <th>2</th>\n",
       "      <td>A20WKTYKTJPRDW</td>\n",
       "      <td>B008O5BIWW</td>\n",
       "      <td>[10, 13]</td>\n",
       "      <td>This was my 8th or 9th Foscam and my first exp...</td>\n",
       "      <td>1.0</td>\n",
       "      <td>Good technology horrible support camera cannot...</td>\n",
       "      <td>2013-07-16</td>\n",
       "      <td>Electronics</td>\n",
       "      <td>189.73</td>\n",
       "    </tr>\n",
       "    <tr>\n",
       "      <th>3</th>\n",
       "      <td>A2ZFFSJ0VM6KSJ</td>\n",
       "      <td>B008O5BIWW</td>\n",
       "      <td>[19, 20]</td>\n",
       "      <td>My Review &amp; IMPORTANT SECURITY INFOI have 11 F...</td>\n",
       "      <td>3.0</td>\n",
       "      <td>Foscam FI8919W review &amp; IMPORTANT SECURITY INFO</td>\n",
       "      <td>2014-02-24</td>\n",
       "      <td>Electronics</td>\n",
       "      <td>189.73</td>\n",
       "    </tr>\n",
       "    <tr>\n",
       "      <th>4</th>\n",
       "      <td>A33UF8PX4THCG3</td>\n",
       "      <td>B008O5BIWW</td>\n",
       "      <td>[14, 16]</td>\n",
       "      <td>1st, I have not tried this camera in wireless ...</td>\n",
       "      <td>5.0</td>\n",
       "      <td>Great picture, but mine is wired.</td>\n",
       "      <td>2013-04-08</td>\n",
       "      <td>Electronics</td>\n",
       "      <td>189.73</td>\n",
       "    </tr>\n",
       "  </tbody>\n",
       "</table>\n",
       "</div>"
      ],
      "text/plain": [
       "             reviewerID        asin   helpful  \\\n",
       "0  A0001528BGUBOEVR6T5U  B008O5BIWW   [4, 14]   \n",
       "1        A1S44FJFOKDV4Q  B008O5BIWW  [10, 13]   \n",
       "2        A20WKTYKTJPRDW  B008O5BIWW  [10, 13]   \n",
       "3        A2ZFFSJ0VM6KSJ  B008O5BIWW  [19, 20]   \n",
       "4        A33UF8PX4THCG3  B008O5BIWW  [14, 16]   \n",
       "\n",
       "                                          reviewText  overall  \\\n",
       "0  The Foscam FI8919W is a great camera. I am a d...      5.0   \n",
       "1  Purchased this camera direct from Foscam.  The...      1.0   \n",
       "2  This was my 8th or 9th Foscam and my first exp...      1.0   \n",
       "3  My Review & IMPORTANT SECURITY INFOI have 11 F...      3.0   \n",
       "4  1st, I have not tried this camera in wireless ...      5.0   \n",
       "\n",
       "                                             summary  reviewTime   categories  \\\n",
       "0                                     Foscam FI8919W  2013-02-13  Electronics   \n",
       "1                               Nothing but problems  2013-10-03  Electronics   \n",
       "2  Good technology horrible support camera cannot...  2013-07-16  Electronics   \n",
       "3    Foscam FI8919W review & IMPORTANT SECURITY INFO  2014-02-24  Electronics   \n",
       "4                  Great picture, but mine is wired.  2013-04-08  Electronics   \n",
       "\n",
       "    price  \n",
       "0  189.73  \n",
       "1  189.73  \n",
       "2  189.73  \n",
       "3  189.73  \n",
       "4  189.73  "
      ]
     },
     "execution_count": 54,
     "metadata": {},
     "output_type": "execute_result"
    }
   ],
   "source": [
    "df.head()"
   ]
  },
  {
   "cell_type": "code",
   "execution_count": 55,
   "metadata": {},
   "outputs": [
    {
     "data": {
      "text/plain": [
       "(4152940, 9)"
      ]
     },
     "execution_count": 55,
     "metadata": {},
     "output_type": "execute_result"
    }
   ],
   "source": [
    "df.shape"
   ]
  },
  {
   "cell_type": "code",
   "execution_count": 56,
   "metadata": {},
   "outputs": [
    {
     "data": {
      "text/plain": [
       "reviewerID    0\n",
       "asin          0\n",
       "helpful       0\n",
       "reviewText    0\n",
       "overall       0\n",
       "summary       0\n",
       "reviewTime    0\n",
       "categories    0\n",
       "price         0\n",
       "dtype: int64"
      ]
     },
     "execution_count": 56,
     "metadata": {},
     "output_type": "execute_result"
    }
   ],
   "source": [
    "df.isnull().sum()"
   ]
  },
  {
   "cell_type": "code",
   "execution_count": null,
   "metadata": {},
   "outputs": [],
   "source": [
    "# # this may take approximately 10 minutes\n",
    "# df = pd.read_csv('./h5_filtered/df_all_filtered_v4.csv.gz', compression='gzip', parse_dates=['reviewTime'], low_memory=False)"
   ]
  },
  {
   "cell_type": "markdown",
   "metadata": {},
   "source": [
    "# 4. Converting Certain Columns"
   ]
  },
  {
   "cell_type": "markdown",
   "metadata": {},
   "source": [
    "## Transforming and scaling helpfulness\n",
    "#### Let's convert helpfulness score to 0-5 scale rating as is overall rating <br>\n",
    "$$\n",
    "helpful\\_num : helpful\\_den = rating : 5 \\\\\n",
    "\\therefore rating = 5 \\times \\frac{helpful\\_num}{helpful\\_den}\n",
    "$$"
   ]
  },
  {
   "cell_type": "code",
   "execution_count": 64,
   "metadata": {},
   "outputs": [
    {
     "data": {
      "text/plain": [
       "'[4, 14]'"
      ]
     },
     "execution_count": 64,
     "metadata": {},
     "output_type": "execute_result"
    }
   ],
   "source": [
    "df['helpful'][0]"
   ]
  },
  {
   "cell_type": "code",
   "execution_count": 66,
   "metadata": {},
   "outputs": [],
   "source": [
    "helpful = df['helpful'].str.extractall(\"(\\d+)\")"
   ]
  },
  {
   "cell_type": "code",
   "execution_count": 68,
   "metadata": {},
   "outputs": [],
   "source": [
    "helpful = helpful.unstack()"
   ]
  },
  {
   "cell_type": "code",
   "execution_count": 69,
   "metadata": {},
   "outputs": [],
   "source": [
    "helpful.columns = helpful.columns.droplevel(0)"
   ]
  },
  {
   "cell_type": "code",
   "execution_count": 71,
   "metadata": {},
   "outputs": [
    {
     "data": {
      "text/html": [
       "<div>\n",
       "<style scoped>\n",
       "    .dataframe tbody tr th:only-of-type {\n",
       "        vertical-align: middle;\n",
       "    }\n",
       "\n",
       "    .dataframe tbody tr th {\n",
       "        vertical-align: top;\n",
       "    }\n",
       "\n",
       "    .dataframe thead th {\n",
       "        text-align: right;\n",
       "    }\n",
       "</style>\n",
       "<table border=\"1\" class=\"dataframe\">\n",
       "  <thead>\n",
       "    <tr style=\"text-align: right;\">\n",
       "      <th>match</th>\n",
       "      <th>0</th>\n",
       "      <th>1</th>\n",
       "    </tr>\n",
       "  </thead>\n",
       "  <tbody>\n",
       "    <tr>\n",
       "      <th>0</th>\n",
       "      <td>4</td>\n",
       "      <td>14</td>\n",
       "    </tr>\n",
       "    <tr>\n",
       "      <th>1</th>\n",
       "      <td>10</td>\n",
       "      <td>13</td>\n",
       "    </tr>\n",
       "    <tr>\n",
       "      <th>2</th>\n",
       "      <td>10</td>\n",
       "      <td>13</td>\n",
       "    </tr>\n",
       "    <tr>\n",
       "      <th>3</th>\n",
       "      <td>19</td>\n",
       "      <td>20</td>\n",
       "    </tr>\n",
       "    <tr>\n",
       "      <th>4</th>\n",
       "      <td>14</td>\n",
       "      <td>16</td>\n",
       "    </tr>\n",
       "  </tbody>\n",
       "</table>\n",
       "</div>"
      ],
      "text/plain": [
       "match   0   1\n",
       "0       4  14\n",
       "1      10  13\n",
       "2      10  13\n",
       "3      19  20\n",
       "4      14  16"
      ]
     },
     "execution_count": 71,
     "metadata": {},
     "output_type": "execute_result"
    }
   ],
   "source": [
    "helpful.head()"
   ]
  },
  {
   "cell_type": "code",
   "execution_count": 75,
   "metadata": {},
   "outputs": [],
   "source": [
    "# number of people who voted for this review as helpful\n",
    "df['helpful_num'] = helpful[0]"
   ]
  },
  {
   "cell_type": "code",
   "execution_count": 77,
   "metadata": {},
   "outputs": [],
   "source": [
    "# number of all participants for voting helpfulness on this product\n",
    "df['helpful_den'] = helpful[1]"
   ]
  },
  {
   "cell_type": "code",
   "execution_count": 78,
   "metadata": {},
   "outputs": [],
   "source": [
    "df = df.drop(columns=['helpful'])"
   ]
  },
  {
   "cell_type": "code",
   "execution_count": 81,
   "metadata": {},
   "outputs": [
    {
     "data": {
      "text/html": [
       "<div>\n",
       "<style scoped>\n",
       "    .dataframe tbody tr th:only-of-type {\n",
       "        vertical-align: middle;\n",
       "    }\n",
       "\n",
       "    .dataframe tbody tr th {\n",
       "        vertical-align: top;\n",
       "    }\n",
       "\n",
       "    .dataframe thead th {\n",
       "        text-align: right;\n",
       "    }\n",
       "</style>\n",
       "<table border=\"1\" class=\"dataframe\">\n",
       "  <thead>\n",
       "    <tr style=\"text-align: right;\">\n",
       "      <th></th>\n",
       "      <th>reviewerID</th>\n",
       "      <th>asin</th>\n",
       "      <th>reviewText</th>\n",
       "      <th>overall</th>\n",
       "      <th>summary</th>\n",
       "      <th>reviewTime</th>\n",
       "      <th>categories</th>\n",
       "      <th>price</th>\n",
       "      <th>helpful_num</th>\n",
       "      <th>helpful_den</th>\n",
       "    </tr>\n",
       "  </thead>\n",
       "  <tbody>\n",
       "    <tr>\n",
       "      <th>0</th>\n",
       "      <td>A0001528BGUBOEVR6T5U</td>\n",
       "      <td>B008O5BIWW</td>\n",
       "      <td>The Foscam FI8919W is a great camera. I am a d...</td>\n",
       "      <td>5.0</td>\n",
       "      <td>Foscam FI8919W</td>\n",
       "      <td>2013-02-13</td>\n",
       "      <td>Electronics</td>\n",
       "      <td>189.73</td>\n",
       "      <td>4</td>\n",
       "      <td>14</td>\n",
       "    </tr>\n",
       "    <tr>\n",
       "      <th>1</th>\n",
       "      <td>A1S44FJFOKDV4Q</td>\n",
       "      <td>B008O5BIWW</td>\n",
       "      <td>Purchased this camera direct from Foscam.  The...</td>\n",
       "      <td>1.0</td>\n",
       "      <td>Nothing but problems</td>\n",
       "      <td>2013-10-03</td>\n",
       "      <td>Electronics</td>\n",
       "      <td>189.73</td>\n",
       "      <td>10</td>\n",
       "      <td>13</td>\n",
       "    </tr>\n",
       "    <tr>\n",
       "      <th>2</th>\n",
       "      <td>A20WKTYKTJPRDW</td>\n",
       "      <td>B008O5BIWW</td>\n",
       "      <td>This was my 8th or 9th Foscam and my first exp...</td>\n",
       "      <td>1.0</td>\n",
       "      <td>Good technology horrible support camera cannot...</td>\n",
       "      <td>2013-07-16</td>\n",
       "      <td>Electronics</td>\n",
       "      <td>189.73</td>\n",
       "      <td>10</td>\n",
       "      <td>13</td>\n",
       "    </tr>\n",
       "  </tbody>\n",
       "</table>\n",
       "</div>"
      ],
      "text/plain": [
       "             reviewerID        asin  \\\n",
       "0  A0001528BGUBOEVR6T5U  B008O5BIWW   \n",
       "1        A1S44FJFOKDV4Q  B008O5BIWW   \n",
       "2        A20WKTYKTJPRDW  B008O5BIWW   \n",
       "\n",
       "                                          reviewText  overall  \\\n",
       "0  The Foscam FI8919W is a great camera. I am a d...      5.0   \n",
       "1  Purchased this camera direct from Foscam.  The...      1.0   \n",
       "2  This was my 8th or 9th Foscam and my first exp...      1.0   \n",
       "\n",
       "                                             summary  reviewTime   categories  \\\n",
       "0                                     Foscam FI8919W  2013-02-13  Electronics   \n",
       "1                               Nothing but problems  2013-10-03  Electronics   \n",
       "2  Good technology horrible support camera cannot...  2013-07-16  Electronics   \n",
       "\n",
       "    price helpful_num helpful_den  \n",
       "0  189.73           4          14  \n",
       "1  189.73          10          13  \n",
       "2  189.73          10          13  "
      ]
     },
     "execution_count": 81,
     "metadata": {},
     "output_type": "execute_result"
    }
   ],
   "source": [
    "df.head(3)"
   ]
  },
  {
   "cell_type": "code",
   "execution_count": 87,
   "metadata": {},
   "outputs": [
    {
     "data": {
      "text/plain": [
       "helpful_num    object\n",
       "helpful_den    object\n",
       "dtype: object"
      ]
     },
     "execution_count": 87,
     "metadata": {},
     "output_type": "execute_result"
    }
   ],
   "source": [
    "df[['helpful_num', 'helpful_den']].dtypes"
   ]
  },
  {
   "cell_type": "code",
   "execution_count": 88,
   "metadata": {},
   "outputs": [],
   "source": [
    "df[['helpful_num', 'helpful_den']] = df[['helpful_num', 'helpful_den']].astype(int)"
   ]
  },
  {
   "cell_type": "code",
   "execution_count": 89,
   "metadata": {},
   "outputs": [
    {
     "data": {
      "text/plain": [
       "helpful_num    int64\n",
       "helpful_den    int64\n",
       "dtype: object"
      ]
     },
     "execution_count": 89,
     "metadata": {},
     "output_type": "execute_result"
    }
   ],
   "source": [
    "df[['helpful_num', 'helpful_den']].dtypes"
   ]
  },
  {
   "cell_type": "code",
   "execution_count": 90,
   "metadata": {},
   "outputs": [],
   "source": [
    "df['helpfulness'] = df[['helpful_num', 'helpful_den']].apply(lambda x: 5*x['helpful_num']/x['helpful_den'], axis=1)"
   ]
  },
  {
   "cell_type": "code",
   "execution_count": 91,
   "metadata": {},
   "outputs": [
    {
     "data": {
      "text/plain": [
       "5.0    1860570\n",
       "1.0     943324\n",
       "4.0     559800\n",
       "3.0     403729\n",
       "2.0     385517\n",
       "Name: overall, dtype: int64"
      ]
     },
     "execution_count": 91,
     "metadata": {},
     "output_type": "execute_result"
    }
   ],
   "source": [
    "df['overall'].value_counts()"
   ]
  },
  {
   "cell_type": "code",
   "execution_count": 93,
   "metadata": {},
   "outputs": [
    {
     "data": {
      "text/plain": [
       "(4152940, 11)"
      ]
     },
     "execution_count": 93,
     "metadata": {},
     "output_type": "execute_result"
    }
   ],
   "source": [
    "df.shape"
   ]
  },
  {
   "cell_type": "markdown",
   "metadata": {},
   "source": [
    "As seen above, overall rating is descrete numbers from 0 to 5. Let's take a further step to transform helpfulness rating by rounding."
   ]
  },
  {
   "cell_type": "code",
   "execution_count": 94,
   "metadata": {},
   "outputs": [],
   "source": [
    "df['helpfulness'] = df['helpfulness'].map(np.round)"
   ]
  },
  {
   "cell_type": "code",
   "execution_count": 95,
   "metadata": {
    "scrolled": true
   },
   "outputs": [
    {
     "data": {
      "text/plain": [
       "5.0    1547969\n",
       "4.0    1211207\n",
       "3.0     461121\n",
       "2.0     408161\n",
       "1.0     318596\n",
       "0.0     205886\n",
       "Name: helpfulness, dtype: int64"
      ]
     },
     "execution_count": 95,
     "metadata": {},
     "output_type": "execute_result"
    }
   ],
   "source": [
    "df['helpfulness'].value_counts()"
   ]
  },
  {
   "cell_type": "code",
   "execution_count": null,
   "metadata": {},
   "outputs": [],
   "source": [
    "# # this may take approximately 10 minutes\n",
    "# df = pd.read_csv('./h5_filtered/df_all_filtered_v5.csv.gz', compression='gzip', parse_dates=['reviewTime'], low_memory=False)"
   ]
  },
  {
   "cell_type": "markdown",
   "metadata": {},
   "source": [
    "## Combining summary and reviewText"
   ]
  },
  {
   "cell_type": "code",
   "execution_count": 102,
   "metadata": {
    "scrolled": true
   },
   "outputs": [
    {
     "data": {
      "text/plain": [
       "summary                            Sorry to see her story ended\n",
       "reviewText    Read a lot of reviews. Some not so good. I enj...\n",
       "Name: 28702, dtype: object"
      ]
     },
     "execution_count": 102,
     "metadata": {},
     "output_type": "execute_result"
    }
   ],
   "source": [
    "df[['summary', 'reviewText']].iloc[20000]"
   ]
  },
  {
   "cell_type": "code",
   "execution_count": 103,
   "metadata": {
    "scrolled": false
   },
   "outputs": [
    {
     "data": {
      "text/plain": [
       "'Read a lot of reviews. Some not so good. I enjoyed the last Sookie Stackhouse. Sorry it is the last. I wish we could learn how Pam does as Sheriff. How Bill deals with watching Sookie from afar. Eric and his new position...does he stay.a loyal consort or does his queen meet a timely end. I cannot see Eric as a consort in waiting. I think he man oeuvres into Kingship and kidnaps Sookie from Sam'"
      ]
     },
     "execution_count": 103,
     "metadata": {},
     "output_type": "execute_result"
    }
   ],
   "source": [
    "df.reviewText.iloc[20000]"
   ]
  },
  {
   "cell_type": "markdown",
   "metadata": {},
   "source": [
    "As checked at Amazon, and from this data, summary and reviewText are written up in seperate box. Therefore, we can consider putting them together as one column."
   ]
  },
  {
   "cell_type": "code",
   "execution_count": 104,
   "metadata": {},
   "outputs": [
    {
     "data": {
      "text/plain": [
       "reviewerID     0\n",
       "asin           0\n",
       "reviewText     0\n",
       "overall        0\n",
       "summary        0\n",
       "reviewTime     0\n",
       "categories     0\n",
       "price          0\n",
       "helpful_num    0\n",
       "helpful_den    0\n",
       "helpfulness    0\n",
       "dtype: int64"
      ]
     },
     "execution_count": 104,
     "metadata": {},
     "output_type": "execute_result"
    }
   ],
   "source": [
    "df.isnull().sum()"
   ]
  },
  {
   "cell_type": "code",
   "execution_count": 149,
   "metadata": {},
   "outputs": [],
   "source": [
    "# df = df.drop(df[df.reviewText.isnull()].index)"
   ]
  },
  {
   "cell_type": "code",
   "execution_count": 151,
   "metadata": {},
   "outputs": [],
   "source": [
    "# df['summary'] = df['summary'].fillna('')"
   ]
  },
  {
   "cell_type": "code",
   "execution_count": 105,
   "metadata": {},
   "outputs": [
    {
     "data": {
      "text/html": [
       "<div>\n",
       "<style scoped>\n",
       "    .dataframe tbody tr th:only-of-type {\n",
       "        vertical-align: middle;\n",
       "    }\n",
       "\n",
       "    .dataframe tbody tr th {\n",
       "        vertical-align: top;\n",
       "    }\n",
       "\n",
       "    .dataframe thead th {\n",
       "        text-align: right;\n",
       "    }\n",
       "</style>\n",
       "<table border=\"1\" class=\"dataframe\">\n",
       "  <thead>\n",
       "    <tr style=\"text-align: right;\">\n",
       "      <th></th>\n",
       "      <th>summary</th>\n",
       "      <th>reviewText</th>\n",
       "    </tr>\n",
       "  </thead>\n",
       "  <tbody>\n",
       "    <tr>\n",
       "      <th>0</th>\n",
       "      <td>Foscam FI8919W</td>\n",
       "      <td>The Foscam FI8919W is a great camera. I am a d...</td>\n",
       "    </tr>\n",
       "    <tr>\n",
       "      <th>1</th>\n",
       "      <td>Nothing but problems</td>\n",
       "      <td>Purchased this camera direct from Foscam.  The...</td>\n",
       "    </tr>\n",
       "    <tr>\n",
       "      <th>2</th>\n",
       "      <td>Good technology horrible support camera cannot...</td>\n",
       "      <td>This was my 8th or 9th Foscam and my first exp...</td>\n",
       "    </tr>\n",
       "    <tr>\n",
       "      <th>3</th>\n",
       "      <td>Foscam FI8919W review &amp; IMPORTANT SECURITY INFO</td>\n",
       "      <td>My Review &amp; IMPORTANT SECURITY INFOI have 11 F...</td>\n",
       "    </tr>\n",
       "    <tr>\n",
       "      <th>4</th>\n",
       "      <td>Great picture, but mine is wired.</td>\n",
       "      <td>1st, I have not tried this camera in wireless ...</td>\n",
       "    </tr>\n",
       "  </tbody>\n",
       "</table>\n",
       "</div>"
      ],
      "text/plain": [
       "                                             summary  \\\n",
       "0                                     Foscam FI8919W   \n",
       "1                               Nothing but problems   \n",
       "2  Good technology horrible support camera cannot...   \n",
       "3    Foscam FI8919W review & IMPORTANT SECURITY INFO   \n",
       "4                  Great picture, but mine is wired.   \n",
       "\n",
       "                                          reviewText  \n",
       "0  The Foscam FI8919W is a great camera. I am a d...  \n",
       "1  Purchased this camera direct from Foscam.  The...  \n",
       "2  This was my 8th or 9th Foscam and my first exp...  \n",
       "3  My Review & IMPORTANT SECURITY INFOI have 11 F...  \n",
       "4  1st, I have not tried this camera in wireless ...  "
      ]
     },
     "execution_count": 105,
     "metadata": {},
     "output_type": "execute_result"
    }
   ],
   "source": [
    "df[['summary', 'reviewText']].head()"
   ]
  },
  {
   "cell_type": "code",
   "execution_count": 107,
   "metadata": {},
   "outputs": [],
   "source": [
    "df['review'] = df[['summary', 'reviewText']].apply(lambda x: '. '.join(x), axis=1)"
   ]
  },
  {
   "cell_type": "code",
   "execution_count": 108,
   "metadata": {},
   "outputs": [
    {
     "data": {
      "text/html": [
       "<div>\n",
       "<style scoped>\n",
       "    .dataframe tbody tr th:only-of-type {\n",
       "        vertical-align: middle;\n",
       "    }\n",
       "\n",
       "    .dataframe tbody tr th {\n",
       "        vertical-align: top;\n",
       "    }\n",
       "\n",
       "    .dataframe thead th {\n",
       "        text-align: right;\n",
       "    }\n",
       "</style>\n",
       "<table border=\"1\" class=\"dataframe\">\n",
       "  <thead>\n",
       "    <tr style=\"text-align: right;\">\n",
       "      <th></th>\n",
       "      <th>reviewerID</th>\n",
       "      <th>asin</th>\n",
       "      <th>reviewText</th>\n",
       "      <th>overall</th>\n",
       "      <th>summary</th>\n",
       "      <th>reviewTime</th>\n",
       "      <th>categories</th>\n",
       "      <th>price</th>\n",
       "      <th>helpful_num</th>\n",
       "      <th>helpful_den</th>\n",
       "      <th>helpfulness</th>\n",
       "      <th>review</th>\n",
       "    </tr>\n",
       "  </thead>\n",
       "  <tbody>\n",
       "    <tr>\n",
       "      <th>0</th>\n",
       "      <td>A0001528BGUBOEVR6T5U</td>\n",
       "      <td>B008O5BIWW</td>\n",
       "      <td>The Foscam FI8919W is a great camera. I am a d...</td>\n",
       "      <td>5.0</td>\n",
       "      <td>Foscam FI8919W</td>\n",
       "      <td>2013-02-13</td>\n",
       "      <td>Electronics</td>\n",
       "      <td>189.73</td>\n",
       "      <td>4</td>\n",
       "      <td>14</td>\n",
       "      <td>1.0</td>\n",
       "      <td>Foscam FI8919W. The Foscam FI8919W is a great ...</td>\n",
       "    </tr>\n",
       "    <tr>\n",
       "      <th>1</th>\n",
       "      <td>A1S44FJFOKDV4Q</td>\n",
       "      <td>B008O5BIWW</td>\n",
       "      <td>Purchased this camera direct from Foscam.  The...</td>\n",
       "      <td>1.0</td>\n",
       "      <td>Nothing but problems</td>\n",
       "      <td>2013-10-03</td>\n",
       "      <td>Electronics</td>\n",
       "      <td>189.73</td>\n",
       "      <td>10</td>\n",
       "      <td>13</td>\n",
       "      <td>4.0</td>\n",
       "      <td>Nothing but problems. Purchased this camera di...</td>\n",
       "    </tr>\n",
       "    <tr>\n",
       "      <th>2</th>\n",
       "      <td>A20WKTYKTJPRDW</td>\n",
       "      <td>B008O5BIWW</td>\n",
       "      <td>This was my 8th or 9th Foscam and my first exp...</td>\n",
       "      <td>1.0</td>\n",
       "      <td>Good technology horrible support camera cannot...</td>\n",
       "      <td>2013-07-16</td>\n",
       "      <td>Electronics</td>\n",
       "      <td>189.73</td>\n",
       "      <td>10</td>\n",
       "      <td>13</td>\n",
       "      <td>4.0</td>\n",
       "      <td>Good technology horrible support camera cannot...</td>\n",
       "    </tr>\n",
       "  </tbody>\n",
       "</table>\n",
       "</div>"
      ],
      "text/plain": [
       "             reviewerID        asin  \\\n",
       "0  A0001528BGUBOEVR6T5U  B008O5BIWW   \n",
       "1        A1S44FJFOKDV4Q  B008O5BIWW   \n",
       "2        A20WKTYKTJPRDW  B008O5BIWW   \n",
       "\n",
       "                                          reviewText  overall  \\\n",
       "0  The Foscam FI8919W is a great camera. I am a d...      5.0   \n",
       "1  Purchased this camera direct from Foscam.  The...      1.0   \n",
       "2  This was my 8th or 9th Foscam and my first exp...      1.0   \n",
       "\n",
       "                                             summary  reviewTime   categories  \\\n",
       "0                                     Foscam FI8919W  2013-02-13  Electronics   \n",
       "1                               Nothing but problems  2013-10-03  Electronics   \n",
       "2  Good technology horrible support camera cannot...  2013-07-16  Electronics   \n",
       "\n",
       "    price  helpful_num  helpful_den  helpfulness  \\\n",
       "0  189.73            4           14          1.0   \n",
       "1  189.73           10           13          4.0   \n",
       "2  189.73           10           13          4.0   \n",
       "\n",
       "                                              review  \n",
       "0  Foscam FI8919W. The Foscam FI8919W is a great ...  \n",
       "1  Nothing but problems. Purchased this camera di...  \n",
       "2  Good technology horrible support camera cannot...  "
      ]
     },
     "execution_count": 108,
     "metadata": {},
     "output_type": "execute_result"
    }
   ],
   "source": [
    "df.head(3)"
   ]
  },
  {
   "cell_type": "code",
   "execution_count": 109,
   "metadata": {},
   "outputs": [],
   "source": [
    "df = df.drop(columns=['summary', 'reviewText'])"
   ]
  },
  {
   "cell_type": "markdown",
   "metadata": {},
   "source": [
    "# 5. Appeasing Data Skewness"
   ]
  },
  {
   "cell_type": "code",
   "execution_count": 110,
   "metadata": {
    "scrolled": true
   },
   "outputs": [],
   "source": [
    "df = df.sort_values(by='asin')"
   ]
  },
  {
   "cell_type": "code",
   "execution_count": 111,
   "metadata": {},
   "outputs": [
    {
     "data": {
      "text/html": [
       "<div>\n",
       "<style scoped>\n",
       "    .dataframe tbody tr th:only-of-type {\n",
       "        vertical-align: middle;\n",
       "    }\n",
       "\n",
       "    .dataframe tbody tr th {\n",
       "        vertical-align: top;\n",
       "    }\n",
       "\n",
       "    .dataframe thead th {\n",
       "        text-align: right;\n",
       "    }\n",
       "</style>\n",
       "<table border=\"1\" class=\"dataframe\">\n",
       "  <thead>\n",
       "    <tr style=\"text-align: right;\">\n",
       "      <th></th>\n",
       "      <th>reviewerID</th>\n",
       "      <th>asin</th>\n",
       "      <th>overall</th>\n",
       "      <th>reviewTime</th>\n",
       "      <th>categories</th>\n",
       "      <th>price</th>\n",
       "      <th>helpful_num</th>\n",
       "      <th>helpful_den</th>\n",
       "      <th>helpfulness</th>\n",
       "      <th>review</th>\n",
       "    </tr>\n",
       "  </thead>\n",
       "  <tbody>\n",
       "    <tr>\n",
       "      <th>3628987</th>\n",
       "      <td>A1TADCM7YWPQ8M</td>\n",
       "      <td>0000000868</td>\n",
       "      <td>4.0</td>\n",
       "      <td>2002-09-11</td>\n",
       "      <td>Books</td>\n",
       "      <td>21.85</td>\n",
       "      <td>10</td>\n",
       "      <td>10</td>\n",
       "      <td>5.0</td>\n",
       "      <td>Not a Bad Translation. I'll be honest. I work ...</td>\n",
       "    </tr>\n",
       "    <tr>\n",
       "      <th>1343711</th>\n",
       "      <td>A12OFS8WQP86O5</td>\n",
       "      <td>0000031887</td>\n",
       "      <td>5.0</td>\n",
       "      <td>2011-02-08</td>\n",
       "      <td>Clothing</td>\n",
       "      <td>6.79</td>\n",
       "      <td>20</td>\n",
       "      <td>23</td>\n",
       "      <td>4.0</td>\n",
       "      <td>Better than i expected. I looked all over amaz...</td>\n",
       "    </tr>\n",
       "    <tr>\n",
       "      <th>1343715</th>\n",
       "      <td>AQ2NZ5X891VX1</td>\n",
       "      <td>0000031887</td>\n",
       "      <td>5.0</td>\n",
       "      <td>2011-01-18</td>\n",
       "      <td>Clothing</td>\n",
       "      <td>6.79</td>\n",
       "      <td>14</td>\n",
       "      <td>14</td>\n",
       "      <td>5.0</td>\n",
       "      <td>Tutu Cute!. I ordered this tutu for my three y...</td>\n",
       "    </tr>\n",
       "    <tr>\n",
       "      <th>1343714</th>\n",
       "      <td>A3H1W0DWLW5DLH</td>\n",
       "      <td>0000031887</td>\n",
       "      <td>5.0</td>\n",
       "      <td>2010-10-10</td>\n",
       "      <td>Clothing</td>\n",
       "      <td>6.79</td>\n",
       "      <td>26</td>\n",
       "      <td>28</td>\n",
       "      <td>5.0</td>\n",
       "      <td>Very happy customer. I bought this as part of ...</td>\n",
       "    </tr>\n",
       "    <tr>\n",
       "      <th>1343713</th>\n",
       "      <td>A1M7MWBQJEJWLY</td>\n",
       "      <td>0000031887</td>\n",
       "      <td>5.0</td>\n",
       "      <td>2009-12-13</td>\n",
       "      <td>Clothing</td>\n",
       "      <td>6.79</td>\n",
       "      <td>9</td>\n",
       "      <td>12</td>\n",
       "      <td>4.0</td>\n",
       "      <td>Great Tutu for a Great Price. I'm really happy...</td>\n",
       "    </tr>\n",
       "  </tbody>\n",
       "</table>\n",
       "</div>"
      ],
      "text/plain": [
       "             reviewerID        asin  overall  reviewTime categories  price  \\\n",
       "3628987  A1TADCM7YWPQ8M  0000000868      4.0  2002-09-11      Books  21.85   \n",
       "1343711  A12OFS8WQP86O5  0000031887      5.0  2011-02-08   Clothing   6.79   \n",
       "1343715   AQ2NZ5X891VX1  0000031887      5.0  2011-01-18   Clothing   6.79   \n",
       "1343714  A3H1W0DWLW5DLH  0000031887      5.0  2010-10-10   Clothing   6.79   \n",
       "1343713  A1M7MWBQJEJWLY  0000031887      5.0  2009-12-13   Clothing   6.79   \n",
       "\n",
       "         helpful_num  helpful_den  helpfulness  \\\n",
       "3628987           10           10          5.0   \n",
       "1343711           20           23          4.0   \n",
       "1343715           14           14          5.0   \n",
       "1343714           26           28          5.0   \n",
       "1343713            9           12          4.0   \n",
       "\n",
       "                                                    review  \n",
       "3628987  Not a Bad Translation. I'll be honest. I work ...  \n",
       "1343711  Better than i expected. I looked all over amaz...  \n",
       "1343715  Tutu Cute!. I ordered this tutu for my three y...  \n",
       "1343714  Very happy customer. I bought this as part of ...  \n",
       "1343713  Great Tutu for a Great Price. I'm really happy...  "
      ]
     },
     "execution_count": 111,
     "metadata": {},
     "output_type": "execute_result"
    }
   ],
   "source": [
    "df.head()"
   ]
  },
  {
   "cell_type": "code",
   "execution_count": 112,
   "metadata": {},
   "outputs": [],
   "source": [
    "hp = df['helpfulness'].value_counts().reset_index()\n",
    "hp = hp.rename(columns={'index': 'Helpfulness', 'helpfulness': 'Count'})"
   ]
  },
  {
   "cell_type": "code",
   "execution_count": 113,
   "metadata": {
    "scrolled": false
   },
   "outputs": [
    {
     "data": {
      "image/png": "[encoded data removed]",
      "text/plain": [
       "<Figure size 576x432 with 1 Axes>"
      ]
     },
     "metadata": {
      "needs_background": "light"
     },
     "output_type": "display_data"
    }
   ],
   "source": [
    "plt.figure(figsize=(8,6))\n",
    "sns.barplot(x='Helpfulness', y='Count', data=hp);"
   ]
  },
  {
   "cell_type": "markdown",
   "metadata": {},
   "source": [
    "We can tell helpfulness is left-skewed. Let's transform to uniform distribution using stratified sampling"
   ]
  },
  {
   "cell_type": "code",
   "execution_count": 114,
   "metadata": {},
   "outputs": [
    {
     "data": {
      "text/html": [
       "<div>\n",
       "<style scoped>\n",
       "    .dataframe tbody tr th:only-of-type {\n",
       "        vertical-align: middle;\n",
       "    }\n",
       "\n",
       "    .dataframe tbody tr th {\n",
       "        vertical-align: top;\n",
       "    }\n",
       "\n",
       "    .dataframe thead th {\n",
       "        text-align: right;\n",
       "    }\n",
       "</style>\n",
       "<table border=\"1\" class=\"dataframe\">\n",
       "  <thead>\n",
       "    <tr style=\"text-align: right;\">\n",
       "      <th></th>\n",
       "      <th>Helpfulness</th>\n",
       "      <th>Count</th>\n",
       "    </tr>\n",
       "  </thead>\n",
       "  <tbody>\n",
       "    <tr>\n",
       "      <th>0</th>\n",
       "      <td>5.0</td>\n",
       "      <td>1547969</td>\n",
       "    </tr>\n",
       "    <tr>\n",
       "      <th>1</th>\n",
       "      <td>4.0</td>\n",
       "      <td>1211207</td>\n",
       "    </tr>\n",
       "    <tr>\n",
       "      <th>2</th>\n",
       "      <td>3.0</td>\n",
       "      <td>461121</td>\n",
       "    </tr>\n",
       "    <tr>\n",
       "      <th>3</th>\n",
       "      <td>2.0</td>\n",
       "      <td>408161</td>\n",
       "    </tr>\n",
       "    <tr>\n",
       "      <th>4</th>\n",
       "      <td>1.0</td>\n",
       "      <td>318596</td>\n",
       "    </tr>\n",
       "    <tr>\n",
       "      <th>5</th>\n",
       "      <td>0.0</td>\n",
       "      <td>205886</td>\n",
       "    </tr>\n",
       "  </tbody>\n",
       "</table>\n",
       "</div>"
      ],
      "text/plain": [
       "   Helpfulness    Count\n",
       "0          5.0  1547969\n",
       "1          4.0  1211207\n",
       "2          3.0   461121\n",
       "3          2.0   408161\n",
       "4          1.0   318596\n",
       "5          0.0   205886"
      ]
     },
     "execution_count": 114,
     "metadata": {},
     "output_type": "execute_result"
    }
   ],
   "source": [
    "hp"
   ]
  },
  {
   "cell_type": "code",
   "execution_count": 115,
   "metadata": {},
   "outputs": [],
   "source": [
    "# in each helpfulness class, randomly sample 206000 rows\n",
    "hp0 = df[df['helpfulness']==0]\n",
    "hp1 = df[df['helpfulness']==1].sample(n=206000, random_state=1108)\n",
    "hp2 = df[df['helpfulness']==2].sample(n=206000, random_state=1108)\n",
    "hp3 = df[df['helpfulness']==3].sample(n=206000, random_state=1108)\n",
    "hp4 = df[df['helpfulness']==4].sample(n=206000, random_state=1108)\n",
    "hp5 = df[df['helpfulness']==5].sample(n=206000, random_state=1108)"
   ]
  },
  {
   "cell_type": "code",
   "execution_count": 122,
   "metadata": {},
   "outputs": [],
   "source": [
    "# concatenate dataframes\n",
    "df = pd.concat([hp0, hp1, hp2, hp3, hp4, hp5], axis=0)"
   ]
  },
  {
   "cell_type": "code",
   "execution_count": 123,
   "metadata": {},
   "outputs": [],
   "source": [
    "# sort rows by product id \n",
    "df = df.sort_values(by='asin')"
   ]
  },
  {
   "cell_type": "code",
   "execution_count": 124,
   "metadata": {},
   "outputs": [],
   "source": [
    "# reset index\n",
    "df = df.reset_index(drop=True)"
   ]
  },
  {
   "cell_type": "code",
   "execution_count": 125,
   "metadata": {},
   "outputs": [
    {
     "data": {
      "text/html": [
       "<div>\n",
       "<style scoped>\n",
       "    .dataframe tbody tr th:only-of-type {\n",
       "        vertical-align: middle;\n",
       "    }\n",
       "\n",
       "    .dataframe tbody tr th {\n",
       "        vertical-align: top;\n",
       "    }\n",
       "\n",
       "    .dataframe thead th {\n",
       "        text-align: right;\n",
       "    }\n",
       "</style>\n",
       "<table border=\"1\" class=\"dataframe\">\n",
       "  <thead>\n",
       "    <tr style=\"text-align: right;\">\n",
       "      <th></th>\n",
       "      <th>reviewerID</th>\n",
       "      <th>asin</th>\n",
       "      <th>overall</th>\n",
       "      <th>reviewTime</th>\n",
       "      <th>categories</th>\n",
       "      <th>price</th>\n",
       "      <th>helpful_num</th>\n",
       "      <th>helpful_den</th>\n",
       "      <th>helpfulness</th>\n",
       "      <th>review</th>\n",
       "    </tr>\n",
       "  </thead>\n",
       "  <tbody>\n",
       "    <tr>\n",
       "      <th>0</th>\n",
       "      <td>A12OFS8WQP86O5</td>\n",
       "      <td>0000031887</td>\n",
       "      <td>5.0</td>\n",
       "      <td>2011-02-08</td>\n",
       "      <td>Clothing</td>\n",
       "      <td>6.79</td>\n",
       "      <td>20</td>\n",
       "      <td>23</td>\n",
       "      <td>4.0</td>\n",
       "      <td>Better than i expected. I looked all over amaz...</td>\n",
       "    </tr>\n",
       "    <tr>\n",
       "      <th>1</th>\n",
       "      <td>A1M7MWBQJEJWLY</td>\n",
       "      <td>0000031887</td>\n",
       "      <td>5.0</td>\n",
       "      <td>2009-12-13</td>\n",
       "      <td>Clothing</td>\n",
       "      <td>6.79</td>\n",
       "      <td>9</td>\n",
       "      <td>12</td>\n",
       "      <td>4.0</td>\n",
       "      <td>Great Tutu for a Great Price. I'm really happy...</td>\n",
       "    </tr>\n",
       "    <tr>\n",
       "      <th>2</th>\n",
       "      <td>AQ2NZ5X891VX1</td>\n",
       "      <td>0000031887</td>\n",
       "      <td>5.0</td>\n",
       "      <td>2011-01-18</td>\n",
       "      <td>Clothing</td>\n",
       "      <td>6.79</td>\n",
       "      <td>14</td>\n",
       "      <td>14</td>\n",
       "      <td>5.0</td>\n",
       "      <td>Tutu Cute!. I ordered this tutu for my three y...</td>\n",
       "    </tr>\n",
       "    <tr>\n",
       "      <th>3</th>\n",
       "      <td>A30WLYNJA3B17H</td>\n",
       "      <td>0000589012</td>\n",
       "      <td>5.0</td>\n",
       "      <td>2008-10-23</td>\n",
       "      <td>Movies &amp; TV</td>\n",
       "      <td>15.95</td>\n",
       "      <td>8</td>\n",
       "      <td>11</td>\n",
       "      <td>4.0</td>\n",
       "      <td>Human Connection and Compassion. There is a tu...</td>\n",
       "    </tr>\n",
       "    <tr>\n",
       "      <th>4</th>\n",
       "      <td>A39VF226GBM1JH</td>\n",
       "      <td>0000589012</td>\n",
       "      <td>1.0</td>\n",
       "      <td>2008-08-11</td>\n",
       "      <td>Movies &amp; TV</td>\n",
       "      <td>15.95</td>\n",
       "      <td>8</td>\n",
       "      <td>19</td>\n",
       "      <td>2.0</td>\n",
       "      <td>If you are a professional, don't bother!. I pu...</td>\n",
       "    </tr>\n",
       "  </tbody>\n",
       "</table>\n",
       "</div>"
      ],
      "text/plain": [
       "       reviewerID        asin  overall  reviewTime   categories  price  \\\n",
       "0  A12OFS8WQP86O5  0000031887      5.0  2011-02-08     Clothing   6.79   \n",
       "1  A1M7MWBQJEJWLY  0000031887      5.0  2009-12-13     Clothing   6.79   \n",
       "2   AQ2NZ5X891VX1  0000031887      5.0  2011-01-18     Clothing   6.79   \n",
       "3  A30WLYNJA3B17H  0000589012      5.0  2008-10-23  Movies & TV  15.95   \n",
       "4  A39VF226GBM1JH  0000589012      1.0  2008-08-11  Movies & TV  15.95   \n",
       "\n",
       "   helpful_num  helpful_den  helpfulness  \\\n",
       "0           20           23          4.0   \n",
       "1            9           12          4.0   \n",
       "2           14           14          5.0   \n",
       "3            8           11          4.0   \n",
       "4            8           19          2.0   \n",
       "\n",
       "                                              review  \n",
       "0  Better than i expected. I looked all over amaz...  \n",
       "1  Great Tutu for a Great Price. I'm really happy...  \n",
       "2  Tutu Cute!. I ordered this tutu for my three y...  \n",
       "3  Human Connection and Compassion. There is a tu...  \n",
       "4  If you are a professional, don't bother!. I pu...  "
      ]
     },
     "execution_count": 125,
     "metadata": {},
     "output_type": "execute_result"
    }
   ],
   "source": [
    "df.head()"
   ]
  },
  {
   "cell_type": "code",
   "execution_count": 126,
   "metadata": {},
   "outputs": [],
   "source": [
    "hp = df['helpfulness'].value_counts().reset_index()\n",
    "hp = hp.rename(columns={'index': 'Helpfulness', 'helpfulness': 'Count'})"
   ]
  },
  {
   "cell_type": "code",
   "execution_count": 127,
   "metadata": {},
   "outputs": [
    {
     "data": {
      "image/png": "[encoded data removed]",
      "text/plain": [
       "<Figure size 576x432 with 1 Axes>"
      ]
     },
     "metadata": {
      "needs_background": "light"
     },
     "output_type": "display_data"
    }
   ],
   "source": [
    "plt.figure(figsize=(8,6))\n",
    "sns.barplot(x='Helpfulness', y='Count', data=hp);"
   ]
  },
  {
   "cell_type": "code",
   "execution_count": 128,
   "metadata": {},
   "outputs": [
    {
     "data": {
      "text/plain": [
       "(1235886, 10)"
      ]
     },
     "execution_count": 128,
     "metadata": {},
     "output_type": "execute_result"
    }
   ],
   "source": [
    "df.shape"
   ]
  },
  {
   "cell_type": "markdown",
   "metadata": {},
   "source": [
    "Now, data is uniformly distributed when it comes to helpfulness rating, and our data size is reduced from 4.15M rows to about 1.24M rows"
   ]
  },
  {
   "cell_type": "markdown",
   "metadata": {},
   "source": [
    "Need to think about what to do with categories... leave it there or cut off below 400"
   ]
  },
  {
   "cell_type": "code",
   "execution_count": 129,
   "metadata": {},
   "outputs": [
    {
     "data": {
      "text/plain": [
       "count    1.235886e+06\n",
       "mean     4.004408e+01\n",
       "std      8.798311e+01\n",
       "min      0.000000e+00\n",
       "25%      8.990000e+00\n",
       "50%      1.388000e+01\n",
       "75%      2.998000e+01\n",
       "max      9.999900e+02\n",
       "Name: price, dtype: float64"
      ]
     },
     "execution_count": 129,
     "metadata": {},
     "output_type": "execute_result"
    }
   ],
   "source": [
    "df.price.describe()"
   ]
  },
  {
   "cell_type": "code",
   "execution_count": 130,
   "metadata": {},
   "outputs": [
    {
     "data": {
      "image/png": "[encoded data removed]",
      "text/plain": [
       "<Figure size 576x432 with 1 Axes>"
      ]
     },
     "metadata": {
      "needs_background": "light"
     },
     "output_type": "display_data"
    }
   ],
   "source": [
    "ax = df.price.plot(kind='hist', bins=25, figsize=(8, 6))\n",
    "ax.set_title(\"price distribution before transoformation\", fontsize=14)\n",
    "ax.set_ylim((0, 150000))\n",
    "ax.set_yticks([0, 50000, 100000, 150000])\n",
    "ax.set_yticklabels([0, 50000, 100000, \"> 150000\"]);"
   ]
  },
  {
   "cell_type": "markdown",
   "metadata": {},
   "source": [
    "We can tell price is highly right skewed. According to [wikipedia](https://en.wikipedia.org/wiki/Data_transformation_(statistics)), when there is evidence of substantial skew in the data, it is common to transform the data to a symmetric distribution. Using logarithmic transformations will help the data spread more evenly and the very large and very small values do not negatively affect the performance of a learning algorithm. Using a logarithmic transformation significantly reduces the range of values caused by outliers. Care must be taken when applying this transformation however: The logarithm of 0 is undefined, so we must translate the values by a small amount above 0 to apply the the logarithm successfully."
   ]
  },
  {
   "cell_type": "code",
   "execution_count": 131,
   "metadata": {},
   "outputs": [],
   "source": [
    "ser = df.price.copy()"
   ]
  },
  {
   "cell_type": "code",
   "execution_count": 132,
   "metadata": {},
   "outputs": [],
   "source": [
    "ser = ser.apply(lambda x: np.log(x + 1))"
   ]
  },
  {
   "cell_type": "code",
   "execution_count": 133,
   "metadata": {},
   "outputs": [
    {
     "data": {
      "image/png": "[encoded data removed]",
      "text/plain": [
       "<Figure size 576x432 with 1 Axes>"
      ]
     },
     "metadata": {
      "needs_background": "light"
     },
     "output_type": "display_data"
    }
   ],
   "source": [
    "ax = ser.plot(kind='hist', bins=25, figsize=(8, 6))\n",
    "ax.set_title(\"price distribution after logarithmic transformation\", fontsize=14)\n",
    "ax.set_ylim((0, 150000))\n",
    "ax.set_yticks([0, 50000, 100000, 150000])\n",
    "ax.set_yticklabels([0, 50000, 100000, \"> 150000\"]);"
   ]
  },
  {
   "cell_type": "code",
   "execution_count": 134,
   "metadata": {},
   "outputs": [
    {
     "data": {
      "text/plain": [
       "count    1.235886e+06\n",
       "mean     2.926955e+00\n",
       "std      1.075341e+00\n",
       "min      0.000000e+00\n",
       "25%      2.301585e+00\n",
       "50%      2.700018e+00\n",
       "75%      3.433342e+00\n",
       "max      6.908745e+00\n",
       "Name: price, dtype: float64"
      ]
     },
     "execution_count": 134,
     "metadata": {},
     "output_type": "execute_result"
    }
   ],
   "source": [
    "ser.describe()"
   ]
  },
  {
   "cell_type": "code",
   "execution_count": 135,
   "metadata": {},
   "outputs": [],
   "source": [
    "df['price'] = ser"
   ]
  },
  {
   "cell_type": "code",
   "execution_count": 136,
   "metadata": {
    "scrolled": true
   },
   "outputs": [
    {
     "data": {
      "text/html": [
       "<div>\n",
       "<style scoped>\n",
       "    .dataframe tbody tr th:only-of-type {\n",
       "        vertical-align: middle;\n",
       "    }\n",
       "\n",
       "    .dataframe tbody tr th {\n",
       "        vertical-align: top;\n",
       "    }\n",
       "\n",
       "    .dataframe thead th {\n",
       "        text-align: right;\n",
       "    }\n",
       "</style>\n",
       "<table border=\"1\" class=\"dataframe\">\n",
       "  <thead>\n",
       "    <tr style=\"text-align: right;\">\n",
       "      <th></th>\n",
       "      <th>reviewerID</th>\n",
       "      <th>asin</th>\n",
       "      <th>overall</th>\n",
       "      <th>reviewTime</th>\n",
       "      <th>categories</th>\n",
       "      <th>price</th>\n",
       "      <th>helpful_num</th>\n",
       "      <th>helpful_den</th>\n",
       "      <th>helpfulness</th>\n",
       "      <th>review</th>\n",
       "    </tr>\n",
       "  </thead>\n",
       "  <tbody>\n",
       "    <tr>\n",
       "      <th>0</th>\n",
       "      <td>A12OFS8WQP86O5</td>\n",
       "      <td>0000031887</td>\n",
       "      <td>5.0</td>\n",
       "      <td>2011-02-08</td>\n",
       "      <td>Clothing</td>\n",
       "      <td>2.052841</td>\n",
       "      <td>20</td>\n",
       "      <td>23</td>\n",
       "      <td>4.0</td>\n",
       "      <td>Better than i expected. I looked all over amaz...</td>\n",
       "    </tr>\n",
       "    <tr>\n",
       "      <th>1</th>\n",
       "      <td>A1M7MWBQJEJWLY</td>\n",
       "      <td>0000031887</td>\n",
       "      <td>5.0</td>\n",
       "      <td>2009-12-13</td>\n",
       "      <td>Clothing</td>\n",
       "      <td>2.052841</td>\n",
       "      <td>9</td>\n",
       "      <td>12</td>\n",
       "      <td>4.0</td>\n",
       "      <td>Great Tutu for a Great Price. I'm really happy...</td>\n",
       "    </tr>\n",
       "    <tr>\n",
       "      <th>2</th>\n",
       "      <td>AQ2NZ5X891VX1</td>\n",
       "      <td>0000031887</td>\n",
       "      <td>5.0</td>\n",
       "      <td>2011-01-18</td>\n",
       "      <td>Clothing</td>\n",
       "      <td>2.052841</td>\n",
       "      <td>14</td>\n",
       "      <td>14</td>\n",
       "      <td>5.0</td>\n",
       "      <td>Tutu Cute!. I ordered this tutu for my three y...</td>\n",
       "    </tr>\n",
       "    <tr>\n",
       "      <th>3</th>\n",
       "      <td>A30WLYNJA3B17H</td>\n",
       "      <td>0000589012</td>\n",
       "      <td>5.0</td>\n",
       "      <td>2008-10-23</td>\n",
       "      <td>Movies &amp; TV</td>\n",
       "      <td>2.830268</td>\n",
       "      <td>8</td>\n",
       "      <td>11</td>\n",
       "      <td>4.0</td>\n",
       "      <td>Human Connection and Compassion. There is a tu...</td>\n",
       "    </tr>\n",
       "    <tr>\n",
       "      <th>4</th>\n",
       "      <td>A39VF226GBM1JH</td>\n",
       "      <td>0000589012</td>\n",
       "      <td>1.0</td>\n",
       "      <td>2008-08-11</td>\n",
       "      <td>Movies &amp; TV</td>\n",
       "      <td>2.830268</td>\n",
       "      <td>8</td>\n",
       "      <td>19</td>\n",
       "      <td>2.0</td>\n",
       "      <td>If you are a professional, don't bother!. I pu...</td>\n",
       "    </tr>\n",
       "  </tbody>\n",
       "</table>\n",
       "</div>"
      ],
      "text/plain": [
       "       reviewerID        asin  overall  reviewTime   categories     price  \\\n",
       "0  A12OFS8WQP86O5  0000031887      5.0  2011-02-08     Clothing  2.052841   \n",
       "1  A1M7MWBQJEJWLY  0000031887      5.0  2009-12-13     Clothing  2.052841   \n",
       "2   AQ2NZ5X891VX1  0000031887      5.0  2011-01-18     Clothing  2.052841   \n",
       "3  A30WLYNJA3B17H  0000589012      5.0  2008-10-23  Movies & TV  2.830268   \n",
       "4  A39VF226GBM1JH  0000589012      1.0  2008-08-11  Movies & TV  2.830268   \n",
       "\n",
       "   helpful_num  helpful_den  helpfulness  \\\n",
       "0           20           23          4.0   \n",
       "1            9           12          4.0   \n",
       "2           14           14          5.0   \n",
       "3            8           11          4.0   \n",
       "4            8           19          2.0   \n",
       "\n",
       "                                              review  \n",
       "0  Better than i expected. I looked all over amaz...  \n",
       "1  Great Tutu for a Great Price. I'm really happy...  \n",
       "2  Tutu Cute!. I ordered this tutu for my three y...  \n",
       "3  Human Connection and Compassion. There is a tu...  \n",
       "4  If you are a professional, don't bother!. I pu...  "
      ]
     },
     "execution_count": 136,
     "metadata": {},
     "output_type": "execute_result"
    }
   ],
   "source": [
    "df.head()"
   ]
  },
  {
   "cell_type": "code",
   "execution_count": 137,
   "metadata": {},
   "outputs": [],
   "source": [
    "df.to_csv('./h5_filtered/df_all_filtered_v6.csv.gz', encoding='utf-8', index=False, compression='gzip')"
   ]
  },
  {
   "cell_type": "code",
   "execution_count": 70,
   "metadata": {},
   "outputs": [],
   "source": [
    "# # this may take approximately 10 minutes\n",
    "# df = pd.read_csv('./h5_filtered/df_all_filtered_v6.csv.gz', compression='gzip', parse_dates=['reviewTime'], low_memory=False)"
   ]
  },
  {
   "cell_type": "markdown",
   "metadata": {},
   "source": [
    "## Normalizing Numerical Features"
   ]
  },
  {
   "cell_type": "code",
   "execution_count": 138,
   "metadata": {},
   "outputs": [],
   "source": [
    "ser = df[['price']].copy()"
   ]
  },
  {
   "cell_type": "code",
   "execution_count": 139,
   "metadata": {},
   "outputs": [],
   "source": [
    "from sklearn.preprocessing import MinMaxScaler\n",
    "from IPython.display import display # Allows the use of display() for DataFrames\n",
    "\n",
    "# scale to [0, 1]\n",
    "scaler = MinMaxScaler()\n",
    "ser = scaler.fit_transform(ser)"
   ]
  },
  {
   "cell_type": "code",
   "execution_count": 141,
   "metadata": {
    "scrolled": true
   },
   "outputs": [
    {
     "data": {
      "text/plain": [
       "array([[0.29713659],\n",
       "       [0.29713659],\n",
       "       [0.29713659],\n",
       "       ...,\n",
       "       [0.09960342],\n",
       "       [0.09960342],\n",
       "       [0.09960342]])"
      ]
     },
     "metadata": {},
     "output_type": "display_data"
    }
   ],
   "source": [
    "display(ser)"
   ]
  },
  {
   "cell_type": "code",
   "execution_count": 142,
   "metadata": {},
   "outputs": [],
   "source": [
    "df['price'] = ser"
   ]
  },
  {
   "cell_type": "code",
   "execution_count": 144,
   "metadata": {},
   "outputs": [
    {
     "data": {
      "text/plain": [
       "count    1.235886e+06\n",
       "mean     4.236594e-01\n",
       "std      1.556493e-01\n",
       "min      0.000000e+00\n",
       "25%      3.331408e-01\n",
       "50%      3.908117e-01\n",
       "75%      4.969560e-01\n",
       "max      1.000000e+00\n",
       "Name: price, dtype: float64"
      ]
     },
     "execution_count": 144,
     "metadata": {},
     "output_type": "execute_result"
    }
   ],
   "source": [
    "df.price.describe()"
   ]
  },
  {
   "cell_type": "code",
   "execution_count": 145,
   "metadata": {
    "scrolled": false
   },
   "outputs": [
    {
     "data": {
      "image/png": "[encoded data removed]",
      "text/plain": [
       "<Figure size 576x432 with 1 Axes>"
      ]
     },
     "metadata": {
      "needs_background": "light"
     },
     "output_type": "display_data"
    }
   ],
   "source": [
    "ax = df.price.plot(kind='hist', bins=25, figsize=(8, 6))\n",
    "ax.set_title(\"price distribution after normalization\", fontsize=14)\n",
    "ax.set_ylim((0, 150000))\n",
    "ax.set_yticks([0, 50000, 100000, 150000])\n",
    "ax.set_yticklabels([0, 50000, 100000, \"> 150000\"]);"
   ]
  },
  {
   "cell_type": "code",
   "execution_count": 143,
   "metadata": {
    "scrolled": true
   },
   "outputs": [
    {
     "data": {
      "text/html": [
       "<div>\n",
       "<style scoped>\n",
       "    .dataframe tbody tr th:only-of-type {\n",
       "        vertical-align: middle;\n",
       "    }\n",
       "\n",
       "    .dataframe tbody tr th {\n",
       "        vertical-align: top;\n",
       "    }\n",
       "\n",
       "    .dataframe thead th {\n",
       "        text-align: right;\n",
       "    }\n",
       "</style>\n",
       "<table border=\"1\" class=\"dataframe\">\n",
       "  <thead>\n",
       "    <tr style=\"text-align: right;\">\n",
       "      <th></th>\n",
       "      <th>reviewerID</th>\n",
       "      <th>asin</th>\n",
       "      <th>overall</th>\n",
       "      <th>reviewTime</th>\n",
       "      <th>categories</th>\n",
       "      <th>price</th>\n",
       "      <th>helpful_num</th>\n",
       "      <th>helpful_den</th>\n",
       "      <th>helpfulness</th>\n",
       "      <th>review</th>\n",
       "    </tr>\n",
       "  </thead>\n",
       "  <tbody>\n",
       "    <tr>\n",
       "      <th>0</th>\n",
       "      <td>A12OFS8WQP86O5</td>\n",
       "      <td>0000031887</td>\n",
       "      <td>5.0</td>\n",
       "      <td>2011-02-08</td>\n",
       "      <td>Clothing</td>\n",
       "      <td>0.297137</td>\n",
       "      <td>20</td>\n",
       "      <td>23</td>\n",
       "      <td>4.0</td>\n",
       "      <td>Better than i expected. I looked all over amaz...</td>\n",
       "    </tr>\n",
       "    <tr>\n",
       "      <th>1</th>\n",
       "      <td>A1M7MWBQJEJWLY</td>\n",
       "      <td>0000031887</td>\n",
       "      <td>5.0</td>\n",
       "      <td>2009-12-13</td>\n",
       "      <td>Clothing</td>\n",
       "      <td>0.297137</td>\n",
       "      <td>9</td>\n",
       "      <td>12</td>\n",
       "      <td>4.0</td>\n",
       "      <td>Great Tutu for a Great Price. I'm really happy...</td>\n",
       "    </tr>\n",
       "    <tr>\n",
       "      <th>2</th>\n",
       "      <td>AQ2NZ5X891VX1</td>\n",
       "      <td>0000031887</td>\n",
       "      <td>5.0</td>\n",
       "      <td>2011-01-18</td>\n",
       "      <td>Clothing</td>\n",
       "      <td>0.297137</td>\n",
       "      <td>14</td>\n",
       "      <td>14</td>\n",
       "      <td>5.0</td>\n",
       "      <td>Tutu Cute!. I ordered this tutu for my three y...</td>\n",
       "    </tr>\n",
       "    <tr>\n",
       "      <th>3</th>\n",
       "      <td>A30WLYNJA3B17H</td>\n",
       "      <td>0000589012</td>\n",
       "      <td>5.0</td>\n",
       "      <td>2008-10-23</td>\n",
       "      <td>Movies &amp; TV</td>\n",
       "      <td>0.409665</td>\n",
       "      <td>8</td>\n",
       "      <td>11</td>\n",
       "      <td>4.0</td>\n",
       "      <td>Human Connection and Compassion. There is a tu...</td>\n",
       "    </tr>\n",
       "    <tr>\n",
       "      <th>4</th>\n",
       "      <td>A39VF226GBM1JH</td>\n",
       "      <td>0000589012</td>\n",
       "      <td>1.0</td>\n",
       "      <td>2008-08-11</td>\n",
       "      <td>Movies &amp; TV</td>\n",
       "      <td>0.409665</td>\n",
       "      <td>8</td>\n",
       "      <td>19</td>\n",
       "      <td>2.0</td>\n",
       "      <td>If you are a professional, don't bother!. I pu...</td>\n",
       "    </tr>\n",
       "  </tbody>\n",
       "</table>\n",
       "</div>"
      ],
      "text/plain": [
       "       reviewerID        asin  overall  reviewTime   categories     price  \\\n",
       "0  A12OFS8WQP86O5  0000031887      5.0  2011-02-08     Clothing  0.297137   \n",
       "1  A1M7MWBQJEJWLY  0000031887      5.0  2009-12-13     Clothing  0.297137   \n",
       "2   AQ2NZ5X891VX1  0000031887      5.0  2011-01-18     Clothing  0.297137   \n",
       "3  A30WLYNJA3B17H  0000589012      5.0  2008-10-23  Movies & TV  0.409665   \n",
       "4  A39VF226GBM1JH  0000589012      1.0  2008-08-11  Movies & TV  0.409665   \n",
       "\n",
       "   helpful_num  helpful_den  helpfulness  \\\n",
       "0           20           23          4.0   \n",
       "1            9           12          4.0   \n",
       "2           14           14          5.0   \n",
       "3            8           11          4.0   \n",
       "4            8           19          2.0   \n",
       "\n",
       "                                              review  \n",
       "0  Better than i expected. I looked all over amaz...  \n",
       "1  Great Tutu for a Great Price. I'm really happy...  \n",
       "2  Tutu Cute!. I ordered this tutu for my three y...  \n",
       "3  Human Connection and Compassion. There is a tu...  \n",
       "4  If you are a professional, don't bother!. I pu...  "
      ]
     },
     "execution_count": 143,
     "metadata": {},
     "output_type": "execute_result"
    }
   ],
   "source": [
    "df.head()"
   ]
  },
  {
   "cell_type": "code",
   "execution_count": 146,
   "metadata": {},
   "outputs": [],
   "source": [
    "df.to_csv('./h5_filtered/df_all_filtered_v7.csv.gz', encoding='utf-8', index=False, compression='gzip')"
   ]
  },
  {
   "cell_type": "code",
   "execution_count": null,
   "metadata": {},
   "outputs": [],
   "source": [
    "# this may take approximately 10 minutes\n",
    "df = pd.read_csv('./h5_filtered/df_all_filtered_v7.csv.gz', compression='gzip', parse_dates=['reviewTime'], low_memory=False)"
   ]
  },
  {
   "cell_type": "markdown",
   "metadata": {},
   "source": [
    "## ***** discussion about category distribution"
   ]
  },
  {
   "cell_type": "code",
   "execution_count": 147,
   "metadata": {
    "scrolled": false
   },
   "outputs": [
    {
     "data": {
      "text/plain": [
       "Books                        559801\n",
       "Movies & TV                  158357\n",
       "CDs & Vinyl                  122688\n",
       "Electronics                   94440\n",
       "Video Games                   46438\n",
       "Home & Kitchen                37279\n",
       "Health & Personal Care        35844\n",
       "Sports & Outdoors             22611\n",
       "Tools & Home Improvement      18519\n",
       "Toys & Games                  18353\n",
       "Beauty                        15120\n",
       "Cell Phones & Accessories     14120\n",
       "Office Products               11787\n",
       "Patio                          9762\n",
       "Grocery & Gourmet Food         9423\n",
       "Clothing                       8838\n",
       "Software                       8536\n",
       "Baby                           7591\n",
       "Pet Supplies                   6602\n",
       "Automotive                     6074\n",
       "Musical Instruments            5010\n",
       "Buy a Kindle                   4681\n",
       "Arts                           3481\n",
       "Industrial & Scientific        2259\n",
       "Magazine Subscriptions         1142\n",
       "Digital Music                  1136\n",
       "Appliances                      916\n",
       "Baby Products                   845\n",
       "All Electronics                 724\n",
       "Apps for Android                441\n",
       "                              ...  \n",
       "Miscellaneous                    83\n",
       "Alternative Rock                 79\n",
       "GPS & Navigation                 74\n",
       "Christian                        46\n",
       "Classic Rock                     42\n",
       "Purchase Circles                 40\n",
       "Classical                        40\n",
       "Car Electronics                  40\n",
       "Dance & Electronic               39\n",
       "Camera & Photo                   39\n",
       "Office & School Supplies         36\n",
       "Gospel                           26\n",
       "Davis                            26\n",
       "Collectibles & Fine Art          19\n",
       "Pop                              17\n",
       "Hard Rock & Metal                16\n",
       "International                    14\n",
       "Country                          13\n",
       "Furniture & D&                   11\n",
       "Jazz                             10\n",
       "Rock                             10\n",
       "Blues                             9\n",
       "R&B                               7\n",
       "Folk                              6\n",
       "Wine                              5\n",
       "New Age                           3\n",
       "Broadway & Vocalists              3\n",
       "Rap & Hip                         3\n",
       "Amazon Coins                      3\n",
       "Children                          1\n",
       "Name: categories, Length: 71, dtype: int64"
      ]
     },
     "execution_count": 147,
     "metadata": {},
     "output_type": "execute_result"
    }
   ],
   "source": [
    "cat_ser = df.categories.value_counts()\n",
    "cat_ser"
   ]
  },
  {
   "cell_type": "code",
   "execution_count": 149,
   "metadata": {
    "scrolled": false
   },
   "outputs": [
    {
     "data": {
      "text/plain": [
       "(Books                        559801\n",
       " Movies & TV                  158357\n",
       " CDs & Vinyl                  122688\n",
       " Electronics                   94440\n",
       " Video Games                   46438\n",
       " Home & Kitchen                37279\n",
       " Health & Personal Care        35844\n",
       " Sports & Outdoors             22611\n",
       " Tools & Home Improvement      18519\n",
       " Toys & Games                  18353\n",
       " Beauty                        15120\n",
       " Cell Phones & Accessories     14120\n",
       " Office Products               11787\n",
       " Patio                          9762\n",
       " Grocery & Gourmet Food         9423\n",
       " Clothing                       8838\n",
       " Software                       8536\n",
       " Baby                           7591\n",
       " Pet Supplies                   6602\n",
       " Automotive                     6074\n",
       " Musical Instruments            5010\n",
       " Buy a Kindle                   4681\n",
       " Arts                           3481\n",
       " Industrial & Scientific        2259\n",
       " Magazine Subscriptions         1142\n",
       " Digital Music                  1136\n",
       " Appliances                      916\n",
       " Baby Products                   845\n",
       " All Electronics                 724\n",
       " Apps for Android                441\n",
       " Amazon Instant Video            414\n",
       " Name: categories, dtype: int64, (31,))"
      ]
     },
     "execution_count": 149,
     "metadata": {},
     "output_type": "execute_result"
    }
   ],
   "source": [
    "cat_ser[cat_ser > 400], cat_ser[cat_ser > 400].shape"
   ]
  }
 ],
 "metadata": {
  "kernelspec": {
   "display_name": "Python 3",
   "language": "python",
   "name": "python3"
  },
  "language_info": {
   "codemirror_mode": {
    "name": "ipython",
    "version": 3
   },
   "file_extension": ".py",
   "mimetype": "text/x-python",
   "name": "python",
   "nbconvert_exporter": "python",
   "pygments_lexer": "ipython3",
   "version": "3.6.6"
  }
 },
 "nbformat": 4,
 "nbformat_minor": 2
}
