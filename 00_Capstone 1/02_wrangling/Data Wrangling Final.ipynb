{
 "cells": [
  {
   "cell_type": "markdown",
   "metadata": {},
   "source": [
    "# 1. Data Obtaining\n",
    "Data was found through web search and acquired at the repository of Dr. McAuley, Assistant Professor at UCSD (University of California San Diego) with his permission ([link](http://jmcauley.ucsd.edu/data/amazon/)). Review data is composed of 82 million review information from May 1996 and July 2014 and Metadata includes 9.4 million products' information. Both files were formatted in one-review-per-line loose JSON (list of JSONs). The reason it is loose JSON is unlike normal JSON files, we cannot load file conveniently and directly using json.load() from Python’s json library due to ‘\\n’ (newline character) and double quote - single quote issues.\n",
    "***\n",
    "#### [review data example]\n",
    "<pre>{ \n",
    "   \"reviewerID\": \"A2SUAM1J3GNN3B\", \n",
    "   \"asin\": \"0000013714\",\n",
    "   \"reviewerName\": \"J. McDonald\",\n",
    "   \"helpful\": [2, 3],\n",
    "   \"reviewText\": \"I bought this for my husband who plays the piano.  He is having a wonderful time playing these old hymns.  The music  is at times hard to read because we think the book was published for singing from more than playing from.  Great purchase though!\",\n",
    "  \"overall\": 5.0,\n",
    "  \"summary\": \"Heavenly Highway Hymns\",\n",
    "  \"unixReviewTime\": 1252800000,\n",
    "  \"reviewTime\": \"09 13, 2009\"\n",
    "} \n",
    "</pre>\n",
    "- reviewerID - ID of the reviewer, e.g. A2SUAM1J3GNN3B\n",
    "- asin - ID of the product, e.g. 0000013714\n",
    "- reviewerName - name of the reviewer\n",
    "- helpful - helpfulness rating of the review, e.g. 2/3 (2 people think this review is helpful out of 3 people who participated in voting helpfulness for the product)\n",
    "- reviewText - text of the review\n",
    "- overall - rating of the product\n",
    "- summary - summary of the review\n",
    "- unixReviewTime - time of the review (unix time)\n",
    "- reviewTime - time of the review (raw)\n",
    "***\n",
    "#### [meta data example]\n",
    "<pre>{\n",
    "  \"asin\": \"0000031852\",\n",
    "  \"title\": \"Girls Ballet Tutu Zebra Hot Pink\",\n",
    "  \"price\": 3.17,\n",
    "  \"imUrl\": \"http://ecx.images-amazon.com/images/I/51fAmVkTbyL._SY300_.jpg\",\n",
    "  \"related\":\n",
    "  {\n",
    "    \"also_bought\": [\"B00JHONN1S\", \"B002BZX8Z6\", \"B00D2K1M3O\", \"0000031909\", \"B00613WDTQ\", \"B00D0WDS9A\", \"B00D0GCI8S\", \"0000031895\", \"B003AVKOP2\", \"B003AVEU6G\", \"B003IEDM9Q\", \"B002R0FA24\", \"B00D23MC6W\", \"B00D2K0PA0\", \"B00538F5OK\"],\n",
    "    \"also_viewed\": [\"B002BZX8Z6\", \"B00JHONN1S\", \"B008F0SU0Y\", \"B00D23MC6W\", \"B00AFDOPDA\", \"B00E1YRI4C\", \"B002GZGI4E\", \"B003AVKOP2\", \"B00D9C1WBM\", \"B00CEV8366\", \"B00CEUX0D8\", \"B0079ME3KU\", \"B00CEUWY8K\", \"B004FOEEHC\", \"0000031895\", \"B00BC4GY9Y\", \"B003XRKA7A\", \"B00K18LKX2\", \"B00EM7KAG6\"],\n",
    "    \"bought_together\": [\"B002BZX8Z6\"]\n",
    "  },\n",
    "  \"salesRank\": {\"Toys & Games\": 211836},\n",
    "  \"brand\": \"Coxlures\",\n",
    "  \"categories\": [[\"Sports & Outdoors\", \"Other Sports\", \"Dance\"]]\n",
    "}\n",
    "</pre>\n",
    "- asin - ID of the product, e.g. 0000031852\n",
    "- title - name of the product\n",
    "- price - price in US dollars (at time of crawl)\n",
    "- imUrl - url of the product image\n",
    "- related - related products (also bought, also viewed, bought together, buy after viewing)\n",
    "- salesRank - sales rank information\n",
    "- brand - brand name\n",
    "- categories - list of categories the product belongs to\n",
    "***"
   ]
  },
  {
   "cell_type": "markdown",
   "metadata": {},
   "source": [
    "# 2. Data Importing\n",
    "\n",
    "I referenced the author's guildline for importing loose JSON data into data frame. However, due to the fact that the data itself is too large to import all at once. I \"chunk-ifyied\" data into set of data (splitted into 10 review sub-data frames). \n",
    "\n",
    "<div class=\"alert alert-block alert-danger\">\n",
    "<b>Warning:</b> following this procedure may take quite a long time.\n",
    "</div>\n",
    "\n",
    "### Helper functions"
   ]
  },
  {
   "cell_type": "code",
   "execution_count": 1,
   "metadata": {},
   "outputs": [],
   "source": [
    "# %load wrangling.py\n",
    "import pandas as pd\n",
    "import json\n",
    "from pandas.io.json import json_normalize\n",
    "import numpy as np\n",
    "import gzip\n",
    "\n",
    "def parse(path):\n",
    "    \"\"\"\n",
    "    Helper function to parse the data compressed in .gz format line by line\n",
    "    \n",
    "    Input: path of original file\n",
    "    Output: generator of parsed data. This is used in getMeta(), getDF() functions\n",
    "    \"\"\"\n",
    "    g = gzip.open(path, 'rb')\n",
    "    for l in g:\n",
    "        yield eval(l)\n",
    "\n",
    "def getMeta(path):\n",
    "    \"\"\"\n",
    "    Helper function to read the meta data in loose JSON form into pandas DataFrame\n",
    "    \n",
    "    Input: path of the file\n",
    "    Output: DataFrame of meta data\n",
    "    \"\"\"\n",
    "    i = 0\n",
    "    meta = {}\n",
    "    for d in parse(path):\n",
    "        meta[i] = d\n",
    "        i += 1\n",
    "    return pd.DataFrame.from_dict(meta, orient='index')\n",
    "\n",
    "def getDF(path, ind=0):\n",
    "    \"\"\"\n",
    "    Helper function to read the review data in loose JSON form into pandas DataFrame\n",
    "    \n",
    "    Input: path of the file\n",
    "    Output: DataFrame of review data\n",
    "    \"\"\"\n",
    "    # each time get 1/10 of DF\n",
    "    chunksize = ((82456877 // 100)*10)+10 # 8245690 \n",
    "    i = 0\n",
    "    df = {}\n",
    "    for d in parse(path):\n",
    "        if (i >= ind*chunksize) and (i < (ind+1)*chunksize):\n",
    "            df[i] = d\n",
    "        i += 1\n",
    "        if i == (ind+1)*chunksize:\n",
    "            break\n",
    "    return pd.DataFrame.from_dict(df, orient='index')"
   ]
  },
  {
   "cell_type": "markdown",
   "metadata": {},
   "source": [
    "### 2.a. Spliting original data into 10 review data frames"
   ]
  },
  {
   "cell_type": "code",
   "execution_count": 2,
   "metadata": {},
   "outputs": [],
   "source": [
    "## Reading original data\n",
    "meta_df = getMeta('metadata.json.gz')\n",
    "df_0 = getDF('aggressive_dedup.json.gz', ind=0) \n",
    "df_1 = getDF('aggressive_dedup.json.gz', ind=1) \n",
    "df_2 = getDF('aggressive_dedup.json.gz', ind=2) \n",
    "df_3 = getDF('aggressive_dedup.json.gz', ind=3) \n",
    "df_4 = getDF('aggressive_dedup.json.gz', ind=4)\n",
    "df_5 = getDF('aggressive_dedup.json.gz', ind=5)\n",
    "df_6 = getDF('aggressive_dedup.json.gz', ind=6) \n",
    "df_7 = getDF('aggressive_dedup.json.gz', ind=7)\n",
    "df_8 = getDF('aggressive_dedup.json.gz', ind=8) \n",
    "df_9 = getDF('aggressive_dedup.json.gz', ind=9)"
   ]
  },
  {
   "cell_type": "markdown",
   "metadata": {},
   "source": [
    "# 3. Manipulating/Filtering Data\n",
    "\n",
    "We focus on reviews with more than 9 of helpful denominator and less than 10,000 of helpful denominator, for small number of participants is hard to believe the model prediction is well generalized and more than 10,000 helpful denominator is rare so I regarded those entries as outlier. You can think of helpful denominator as voter population and helpful numerator as number of people who voted for a particular review. \n",
    "\n",
    "<div class=\"alert alert-block alert-warning\">\n",
    "<b>Recall:</b> 'helpful' feature is in such a format as [2, 3] which is equivalent to 2/3 and interpreted as 2 people think this review is helpful out of entire 3 people who participated in voting helpfulness for the product. By construction, I will call 2 <b>\"helpful numerator\"</b> and 3 <b>\"helpful denominator\"</b>. Therefore, helpful [2, 3] is read as 'helpful numerator 2 and helpful denominator 3'. </div>"
   ]
  },
  {
   "cell_type": "code",
   "execution_count": 4,
   "metadata": {},
   "outputs": [],
   "source": [
    "def df_filter(df):\n",
    "    \"\"\"\n",
    "    Filter data so that it can have entries with more than helpful denominator 9 and less than 10,000; \n",
    "    and parse date\n",
    "    \n",
    "    Input: data frame\n",
    "    Output: data frame\n",
    "    \"\"\"\n",
    "    # filter out for data with helpful score (9 ,  10000]\n",
    "    df = df[(df.helpful.map(lambda x: x[1]) > 9) & (df.helpful.map(lambda x: x[1]) < 10000)]\n",
    "    # convert reviewTime from str to datetime\n",
    "    df = df[df.reviewTime.map(lambda x: x[:2]).isin(['01', '02', '03', '04', '05', '06', '07', '08', '09', '10', '11', '12'])]\n",
    "    df['reviewTime'] = pd.to_datetime(df['reviewTime'])\n",
    "\n",
    "    return df"
   ]
  },
  {
   "cell_type": "markdown",
   "metadata": {},
   "source": [
    "### 3.a. Filtering data frames"
   ]
  },
  {
   "cell_type": "code",
   "execution_count": 5,
   "metadata": {},
   "outputs": [],
   "source": [
    "## drop columns unnecessary\n",
    "meta_df = meta_df.drop(['related', 'imUrl'], axis=1) \n",
    "## filter review data frames ith df_filter()\n",
    "df_0 = df_filter(df_0) \n",
    "df_1 = df_filter(df_1)\n",
    "df_2 = df_filter(df_2) \n",
    "df_3 = df_filter(df_3) \n",
    "df_4 = df_filter(df_4) \n",
    "df_5 = df_filter(df_5) \n",
    "df_6 = df_filter(df_6) \n",
    "df_7 = df_filter(df_7) \n",
    "df_8 = df_filter(df_8) \n",
    "df_9 = df_filter(df_9) "
   ]
  },
  {
   "cell_type": "markdown",
   "metadata": {},
   "source": [
    "### 3.b. Merging review data and meta data"
   ]
  },
  {
   "cell_type": "code",
   "execution_count": 6,
   "metadata": {},
   "outputs": [],
   "source": [
    "## concatenate review sub data frames\n",
    "df = pd.concat([df_0, df_1, df_2, df_3, df_4, df_5, df_6, df_7, df_8, df_9], axis=0)"
   ]
  },
  {
   "cell_type": "code",
   "execution_count": 7,
   "metadata": {},
   "outputs": [
    {
     "name": "stdout",
     "output_type": "stream",
     "text": [
      "<class 'pandas.core.frame.DataFrame'>\n",
      "Int64Index: 9430088 entries, 0 to 9430087\n",
      "Data columns (total 7 columns):\n",
      "asin           object\n",
      "salesRank      object\n",
      "categories     object\n",
      "title          object\n",
      "description    object\n",
      "price          float64\n",
      "brand          object\n",
      "dtypes: float64(1), object(6)\n",
      "memory usage: 575.6+ MB\n",
      "<class 'pandas.core.frame.DataFrame'>\n",
      "Int64Index: 4944438 entries, 86 to 82456875\n",
      "Data columns (total 9 columns):\n",
      "reviewerID        object\n",
      "asin              object\n",
      "reviewerName      object\n",
      "helpful           object\n",
      "reviewText        object\n",
      "overall           float64\n",
      "summary           object\n",
      "unixReviewTime    float64\n",
      "reviewTime        datetime64[ns]\n",
      "dtypes: datetime64[ns](1), float64(2), object(6)\n",
      "memory usage: 377.2+ MB\n"
     ]
    }
   ],
   "source": [
    "meta_df.info(), df.info();"
   ]
  },
  {
   "cell_type": "markdown",
   "metadata": {},
   "source": [
    "We can confirm that df and meta_df can be merged on 'asin'"
   ]
  },
  {
   "cell_type": "code",
   "execution_count": 10,
   "metadata": {},
   "outputs": [
    {
     "data": {
      "text/plain": [
       "0425269205    3973\n",
       "1892112000    3498\n",
       "031604461X    3320\n",
       "B000FI73MA    3099\n",
       "B00178630A    2968\n",
       "Name: asin, dtype: int64"
      ]
     },
     "execution_count": 10,
     "metadata": {},
     "output_type": "execute_result"
    }
   ],
   "source": [
    "# Check each item has unique asin\n",
    "df.asin.value_counts().head()"
   ]
  },
  {
   "cell_type": "code",
   "execution_count": 11,
   "metadata": {},
   "outputs": [
    {
     "data": {
      "text/plain": [
       "B004FAIOVI    1\n",
       "B0057B52E6    1\n",
       "B00DJBP570    1\n",
       "B00GMQI9D6    1\n",
       "B000EX337A    1\n",
       "Name: asin, dtype: int64"
      ]
     },
     "execution_count": 11,
     "metadata": {},
     "output_type": "execute_result"
    }
   ],
   "source": [
    "meta_df.asin.value_counts().head()"
   ]
  },
  {
   "cell_type": "markdown",
   "metadata": {},
   "source": [
    "As seen above, product ID (asin) is unique in meta_df unlike that of df's. Therefore, when merging, we should set 'validate' as 'many_to_one' or 'm:1'"
   ]
  },
  {
   "cell_type": "code",
   "execution_count": 12,
   "metadata": {},
   "outputs": [],
   "source": [
    "# merging\n",
    "df = pd.merge(df, meta_df, how='inner', on='asin', validate='many_to_one')"
   ]
  },
  {
   "cell_type": "code",
   "execution_count": 13,
   "metadata": {},
   "outputs": [
    {
     "data": {
      "text/plain": [
       "(4753979, 15)"
      ]
     },
     "execution_count": 13,
     "metadata": {},
     "output_type": "execute_result"
    }
   ],
   "source": [
    "df.shape"
   ]
  },
  {
   "cell_type": "code",
   "execution_count": 14,
   "metadata": {},
   "outputs": [
    {
     "data": {
      "text/html": [
       "<div>\n",
       "<style scoped>\n",
       "    .dataframe tbody tr th:only-of-type {\n",
       "        vertical-align: middle;\n",
       "    }\n",
       "\n",
       "    .dataframe tbody tr th {\n",
       "        vertical-align: top;\n",
       "    }\n",
       "\n",
       "    .dataframe thead th {\n",
       "        text-align: right;\n",
       "    }\n",
       "</style>\n",
       "<table border=\"1\" class=\"dataframe\">\n",
       "  <thead>\n",
       "    <tr style=\"text-align: right;\">\n",
       "      <th></th>\n",
       "      <th>reviewerID</th>\n",
       "      <th>asin</th>\n",
       "      <th>reviewerName</th>\n",
       "      <th>helpful</th>\n",
       "      <th>reviewText</th>\n",
       "      <th>overall</th>\n",
       "      <th>summary</th>\n",
       "      <th>unixReviewTime</th>\n",
       "      <th>reviewTime</th>\n",
       "      <th>salesRank</th>\n",
       "      <th>categories</th>\n",
       "      <th>title</th>\n",
       "      <th>description</th>\n",
       "      <th>price</th>\n",
       "      <th>brand</th>\n",
       "    </tr>\n",
       "  </thead>\n",
       "  <tbody>\n",
       "    <tr>\n",
       "      <th>0</th>\n",
       "      <td>A0001528BGUBOEVR6T5U</td>\n",
       "      <td>B008O5BIWW</td>\n",
       "      <td>igozingo</td>\n",
       "      <td>[4, 14]</td>\n",
       "      <td>The Foscam FI8919W is a great camera. I am a d...</td>\n",
       "      <td>5.0</td>\n",
       "      <td>Foscam FI8919W</td>\n",
       "      <td>1.360714e+09</td>\n",
       "      <td>2013-02-13</td>\n",
       "      <td>{}</td>\n",
       "      <td>[[Electronics, Camera &amp; Photo, Video Surveilla...</td>\n",
       "      <td>Foscam FI8919W Outdoor Pan and Tilt Wireless I...</td>\n",
       "      <td>Foscam Fi8919W Outdoor Pan and Tilt Wireless I...</td>\n",
       "      <td>189.73</td>\n",
       "      <td>Foscam</td>\n",
       "    </tr>\n",
       "    <tr>\n",
       "      <th>1</th>\n",
       "      <td>A1S44FJFOKDV4Q</td>\n",
       "      <td>B008O5BIWW</td>\n",
       "      <td>David</td>\n",
       "      <td>[10, 13]</td>\n",
       "      <td>Purchased this camera direct from Foscam.  The...</td>\n",
       "      <td>1.0</td>\n",
       "      <td>Nothing but problems</td>\n",
       "      <td>1.380758e+09</td>\n",
       "      <td>2013-10-03</td>\n",
       "      <td>{}</td>\n",
       "      <td>[[Electronics, Camera &amp; Photo, Video Surveilla...</td>\n",
       "      <td>Foscam FI8919W Outdoor Pan and Tilt Wireless I...</td>\n",
       "      <td>Foscam Fi8919W Outdoor Pan and Tilt Wireless I...</td>\n",
       "      <td>189.73</td>\n",
       "      <td>Foscam</td>\n",
       "    </tr>\n",
       "    <tr>\n",
       "      <th>2</th>\n",
       "      <td>A20WKTYKTJPRDW</td>\n",
       "      <td>B008O5BIWW</td>\n",
       "      <td>Chris \"CS\"</td>\n",
       "      <td>[10, 13]</td>\n",
       "      <td>This was my 8th or 9th Foscam and my first exp...</td>\n",
       "      <td>1.0</td>\n",
       "      <td>Good technology horrible support camera cannot...</td>\n",
       "      <td>1.373933e+09</td>\n",
       "      <td>2013-07-16</td>\n",
       "      <td>{}</td>\n",
       "      <td>[[Electronics, Camera &amp; Photo, Video Surveilla...</td>\n",
       "      <td>Foscam FI8919W Outdoor Pan and Tilt Wireless I...</td>\n",
       "      <td>Foscam Fi8919W Outdoor Pan and Tilt Wireless I...</td>\n",
       "      <td>189.73</td>\n",
       "      <td>Foscam</td>\n",
       "    </tr>\n",
       "  </tbody>\n",
       "</table>\n",
       "</div>"
      ],
      "text/plain": [
       "             reviewerID        asin reviewerName   helpful  \\\n",
       "0  A0001528BGUBOEVR6T5U  B008O5BIWW     igozingo   [4, 14]   \n",
       "1        A1S44FJFOKDV4Q  B008O5BIWW        David  [10, 13]   \n",
       "2        A20WKTYKTJPRDW  B008O5BIWW   Chris \"CS\"  [10, 13]   \n",
       "\n",
       "                                          reviewText  overall  \\\n",
       "0  The Foscam FI8919W is a great camera. I am a d...      5.0   \n",
       "1  Purchased this camera direct from Foscam.  The...      1.0   \n",
       "2  This was my 8th or 9th Foscam and my first exp...      1.0   \n",
       "\n",
       "                                             summary  unixReviewTime  \\\n",
       "0                                     Foscam FI8919W    1.360714e+09   \n",
       "1                               Nothing but problems    1.380758e+09   \n",
       "2  Good technology horrible support camera cannot...    1.373933e+09   \n",
       "\n",
       "  reviewTime salesRank                                         categories  \\\n",
       "0 2013-02-13        {}  [[Electronics, Camera & Photo, Video Surveilla...   \n",
       "1 2013-10-03        {}  [[Electronics, Camera & Photo, Video Surveilla...   \n",
       "2 2013-07-16        {}  [[Electronics, Camera & Photo, Video Surveilla...   \n",
       "\n",
       "                                               title  \\\n",
       "0  Foscam FI8919W Outdoor Pan and Tilt Wireless I...   \n",
       "1  Foscam FI8919W Outdoor Pan and Tilt Wireless I...   \n",
       "2  Foscam FI8919W Outdoor Pan and Tilt Wireless I...   \n",
       "\n",
       "                                         description   price   brand  \n",
       "0  Foscam Fi8919W Outdoor Pan and Tilt Wireless I...  189.73  Foscam  \n",
       "1  Foscam Fi8919W Outdoor Pan and Tilt Wireless I...  189.73  Foscam  \n",
       "2  Foscam Fi8919W Outdoor Pan and Tilt Wireless I...  189.73  Foscam  "
      ]
     },
     "execution_count": 14,
     "metadata": {},
     "output_type": "execute_result"
    }
   ],
   "source": [
    "df.head(3)"
   ]
  },
  {
   "cell_type": "markdown",
   "metadata": {},
   "source": [
    "It seems all columns are joined well. Also, we notice herein that there is some loss of data after merging"
   ]
  },
  {
   "cell_type": "markdown",
   "metadata": {},
   "source": [
    "# 4. Cleaning Data\n",
    "In this section, I will deal with missing values and simplify categories.\n",
    "### 4.a. Removing duplicated features"
   ]
  },
  {
   "cell_type": "code",
   "execution_count": 15,
   "metadata": {},
   "outputs": [],
   "source": [
    "## We do not need entries without reviewText\n",
    "df = df[~df.reviewText.isnull()]"
   ]
  },
  {
   "cell_type": "code",
   "execution_count": 17,
   "metadata": {},
   "outputs": [
    {
     "data": {
      "text/plain": [
       "reviewerID         0.000000\n",
       "asin               0.000000\n",
       "reviewerName       0.319143\n",
       "helpful            0.000000\n",
       "reviewText         0.000000\n",
       "overall            0.000000\n",
       "summary            0.000000\n",
       "unixReviewTime     0.000000\n",
       "reviewTime         0.000000\n",
       "salesRank         15.842014\n",
       "categories         0.576170\n",
       "title             14.582458\n",
       "description       15.586838\n",
       "price             12.043028\n",
       "brand             75.951619\n",
       "dtype: float64"
      ]
     },
     "execution_count": 17,
     "metadata": {},
     "output_type": "execute_result"
    }
   ],
   "source": [
    "## Investigate missing value percentage\n",
    "df.isnull().sum() / df.shape[0] * 100"
   ]
  },
  {
   "cell_type": "markdown",
   "metadata": {},
   "source": [
    "There are 5 features which have 12+% missings, and 2 features with 0.6-% missings. Especially brand has around 76% missing proportion. We can assume that brand is not meaningful feature and thus drop the column. Also, both unixReviewTime and reviewTime mean the same and the only difference is format. Hence, we drop unixReviewTime column. Finally, we do not need both reviewerName and reviewerId since we can identify a reviewer with his/her ID."
   ]
  },
  {
   "cell_type": "code",
   "execution_count": 18,
   "metadata": {},
   "outputs": [],
   "source": [
    "df = df.drop(columns=['brand', 'unixReviewTime', 'reviewerName'])"
   ]
  },
  {
   "cell_type": "markdown",
   "metadata": {},
   "source": [
    "### 4.b. Handling 'title', 'description' and 'price' columns\n",
    "These 3 columns have rather big proportion of missing vlaues. Let us see if we can filling the missing spots."
   ]
  },
  {
   "cell_type": "code",
   "execution_count": 20,
   "metadata": {},
   "outputs": [],
   "source": [
    "no_title_asin = df[df['title'].isnull()]['asin'].unique()\n",
    "no_description_asin = df[df['description'].isnull()]['asin'].unique()\n",
    "no_price_asin = df[df['price'].isnull()]['asin'].unique()"
   ]
  },
  {
   "cell_type": "code",
   "execution_count": 21,
   "metadata": {},
   "outputs": [
    {
     "name": "stdout",
     "output_type": "stream",
     "text": [
      "1.0\n",
      "1.0\n",
      "1.0\n"
     ]
    }
   ],
   "source": [
    "## hoping that some rows have title of the same product ID (asin)\n",
    "print(df[df['asin'].isin(no_title_asin)]['title'].isnull().sum()/df[df['asin'].isin(no_title_asin)]['title'].shape[0])\n",
    "\n",
    "## Ditto; description\n",
    "print(df[df['asin'].isin(no_description_asin)]['description'].isnull().sum()/df[df['asin'].isin(no_description_asin)]['description'].shape[0])\n",
    "\n",
    "## Ditto; price\n",
    "print(df[df['asin'].isin(no_price_asin)]['price'].isnull().sum()/df[df['asin'].isin(no_price_asin)]['price'].shape[0])"
   ]
  },
  {
   "cell_type": "markdown",
   "metadata": {},
   "source": [
    "It seems that there are no items of same asin (product ID) that preserve 'title', 'description' or 'price'"
   ]
  },
  {
   "cell_type": "code",
   "execution_count": 22,
   "metadata": {},
   "outputs": [
    {
     "data": {
      "text/html": [
       "<div>\n",
       "<style scoped>\n",
       "    .dataframe tbody tr th:only-of-type {\n",
       "        vertical-align: middle;\n",
       "    }\n",
       "\n",
       "    .dataframe tbody tr th {\n",
       "        vertical-align: top;\n",
       "    }\n",
       "\n",
       "    .dataframe thead th {\n",
       "        text-align: right;\n",
       "    }\n",
       "</style>\n",
       "<table border=\"1\" class=\"dataframe\">\n",
       "  <thead>\n",
       "    <tr style=\"text-align: right;\">\n",
       "      <th></th>\n",
       "      <th>asin</th>\n",
       "      <th>helpful</th>\n",
       "      <th>title</th>\n",
       "      <th>description</th>\n",
       "    </tr>\n",
       "  </thead>\n",
       "  <tbody>\n",
       "    <tr>\n",
       "      <th>0</th>\n",
       "      <td>B008O5BIWW</td>\n",
       "      <td>[4, 14]</td>\n",
       "      <td>Foscam FI8919W Outdoor Pan and Tilt Wireless I...</td>\n",
       "      <td>Foscam Fi8919W Outdoor Pan and Tilt Wireless I...</td>\n",
       "    </tr>\n",
       "    <tr>\n",
       "      <th>1</th>\n",
       "      <td>B008O5BIWW</td>\n",
       "      <td>[10, 13]</td>\n",
       "      <td>Foscam FI8919W Outdoor Pan and Tilt Wireless I...</td>\n",
       "      <td>Foscam Fi8919W Outdoor Pan and Tilt Wireless I...</td>\n",
       "    </tr>\n",
       "    <tr>\n",
       "      <th>2</th>\n",
       "      <td>B008O5BIWW</td>\n",
       "      <td>[10, 13]</td>\n",
       "      <td>Foscam FI8919W Outdoor Pan and Tilt Wireless I...</td>\n",
       "      <td>Foscam Fi8919W Outdoor Pan and Tilt Wireless I...</td>\n",
       "    </tr>\n",
       "    <tr>\n",
       "      <th>3</th>\n",
       "      <td>B008O5BIWW</td>\n",
       "      <td>[19, 20]</td>\n",
       "      <td>Foscam FI8919W Outdoor Pan and Tilt Wireless I...</td>\n",
       "      <td>Foscam Fi8919W Outdoor Pan and Tilt Wireless I...</td>\n",
       "    </tr>\n",
       "    <tr>\n",
       "      <th>4</th>\n",
       "      <td>B008O5BIWW</td>\n",
       "      <td>[14, 16]</td>\n",
       "      <td>Foscam FI8919W Outdoor Pan and Tilt Wireless I...</td>\n",
       "      <td>Foscam Fi8919W Outdoor Pan and Tilt Wireless I...</td>\n",
       "    </tr>\n",
       "    <tr>\n",
       "      <th>5</th>\n",
       "      <td>B008O5BIWW</td>\n",
       "      <td>[13, 17]</td>\n",
       "      <td>Foscam FI8919W Outdoor Pan and Tilt Wireless I...</td>\n",
       "      <td>Foscam Fi8919W Outdoor Pan and Tilt Wireless I...</td>\n",
       "    </tr>\n",
       "    <tr>\n",
       "      <th>6</th>\n",
       "      <td>B008O5BIWW</td>\n",
       "      <td>[92, 102]</td>\n",
       "      <td>Foscam FI8919W Outdoor Pan and Tilt Wireless I...</td>\n",
       "      <td>Foscam Fi8919W Outdoor Pan and Tilt Wireless I...</td>\n",
       "    </tr>\n",
       "    <tr>\n",
       "      <th>7</th>\n",
       "      <td>B008O5BIWW</td>\n",
       "      <td>[5, 14]</td>\n",
       "      <td>Foscam FI8919W Outdoor Pan and Tilt Wireless I...</td>\n",
       "      <td>Foscam Fi8919W Outdoor Pan and Tilt Wireless I...</td>\n",
       "    </tr>\n",
       "    <tr>\n",
       "      <th>8</th>\n",
       "      <td>B008O5BIWW</td>\n",
       "      <td>[14, 15]</td>\n",
       "      <td>Foscam FI8919W Outdoor Pan and Tilt Wireless I...</td>\n",
       "      <td>Foscam Fi8919W Outdoor Pan and Tilt Wireless I...</td>\n",
       "    </tr>\n",
       "    <tr>\n",
       "      <th>9</th>\n",
       "      <td>B008O5BIWW</td>\n",
       "      <td>[9, 12]</td>\n",
       "      <td>Foscam FI8919W Outdoor Pan and Tilt Wireless I...</td>\n",
       "      <td>Foscam Fi8919W Outdoor Pan and Tilt Wireless I...</td>\n",
       "    </tr>\n",
       "  </tbody>\n",
       "</table>\n",
       "</div>"
      ],
      "text/plain": [
       "         asin    helpful                                              title  \\\n",
       "0  B008O5BIWW    [4, 14]  Foscam FI8919W Outdoor Pan and Tilt Wireless I...   \n",
       "1  B008O5BIWW   [10, 13]  Foscam FI8919W Outdoor Pan and Tilt Wireless I...   \n",
       "2  B008O5BIWW   [10, 13]  Foscam FI8919W Outdoor Pan and Tilt Wireless I...   \n",
       "3  B008O5BIWW   [19, 20]  Foscam FI8919W Outdoor Pan and Tilt Wireless I...   \n",
       "4  B008O5BIWW   [14, 16]  Foscam FI8919W Outdoor Pan and Tilt Wireless I...   \n",
       "5  B008O5BIWW   [13, 17]  Foscam FI8919W Outdoor Pan and Tilt Wireless I...   \n",
       "6  B008O5BIWW  [92, 102]  Foscam FI8919W Outdoor Pan and Tilt Wireless I...   \n",
       "7  B008O5BIWW    [5, 14]  Foscam FI8919W Outdoor Pan and Tilt Wireless I...   \n",
       "8  B008O5BIWW   [14, 15]  Foscam FI8919W Outdoor Pan and Tilt Wireless I...   \n",
       "9  B008O5BIWW    [9, 12]  Foscam FI8919W Outdoor Pan and Tilt Wireless I...   \n",
       "\n",
       "                                         description  \n",
       "0  Foscam Fi8919W Outdoor Pan and Tilt Wireless I...  \n",
       "1  Foscam Fi8919W Outdoor Pan and Tilt Wireless I...  \n",
       "2  Foscam Fi8919W Outdoor Pan and Tilt Wireless I...  \n",
       "3  Foscam Fi8919W Outdoor Pan and Tilt Wireless I...  \n",
       "4  Foscam Fi8919W Outdoor Pan and Tilt Wireless I...  \n",
       "5  Foscam Fi8919W Outdoor Pan and Tilt Wireless I...  \n",
       "6  Foscam Fi8919W Outdoor Pan and Tilt Wireless I...  \n",
       "7  Foscam Fi8919W Outdoor Pan and Tilt Wireless I...  \n",
       "8  Foscam Fi8919W Outdoor Pan and Tilt Wireless I...  \n",
       "9  Foscam Fi8919W Outdoor Pan and Tilt Wireless I...  "
      ]
     },
     "execution_count": 22,
     "metadata": {},
     "output_type": "execute_result"
    }
   ],
   "source": [
    "df[['asin', 'helpful', 'title', 'description']].head(10)"
   ]
  },
  {
   "cell_type": "markdown",
   "metadata": {},
   "source": [
    "All rows of same product id share title and description, which means it does not have any difference among these rows and it is no use for analysis. Therefore, we drop title and description columns. However, I believe price can have impact on helpfulness score in that if a product is very expensive, more people would like to find helpful reviews and evaluate them. For this reason, I instead dropped rows without price.\n"
   ]
  },
  {
   "cell_type": "code",
   "execution_count": 23,
   "metadata": {},
   "outputs": [],
   "source": [
    "## drop 'description' & 'title' columns\n",
    "df = df.drop(columns=['description', 'title'])\n",
    "\n",
    "## drop rows wihtout price\n",
    "idx = df[df['price'].isnull()].index\n",
    "df = df.drop(idx)"
   ]
  },
  {
   "cell_type": "code",
   "execution_count": 25,
   "metadata": {},
   "outputs": [
    {
     "data": {
      "text/plain": [
       "reviewerID         0\n",
       "asin               0\n",
       "helpful            0\n",
       "reviewText         0\n",
       "overall            0\n",
       "summary            0\n",
       "reviewTime         0\n",
       "salesRank     502905\n",
       "categories     20398\n",
       "price              0\n",
       "dtype: int64"
      ]
     },
     "execution_count": 25,
     "metadata": {},
     "output_type": "execute_result"
    }
   ],
   "source": [
    "df.isnull().sum() "
   ]
  },
  {
   "cell_type": "markdown",
   "metadata": {},
   "source": [
    "We can confirm those 3 columns are dealt with properly"
   ]
  },
  {
   "cell_type": "markdown",
   "metadata": {},
   "source": [
    "### 4.c. Simplifying Categories\n",
    "At first glance, salesRank and categories column includes similar information. Therefore, it is natural to attmept filling missing values in categories column with the help of salesRank. However, after a study, I came to conclusion that salesRank does not help with filling the missing spot in categories column. Furthermore, since categories column's missing rate is very small (~0.6%) and that of salesRank is over 15%. I drop salesRank column and remove rows without categories value."
   ]
  },
  {
   "cell_type": "code",
   "execution_count": 26,
   "metadata": {},
   "outputs": [
    {
     "data": {
      "text/html": [
       "<div>\n",
       "<style scoped>\n",
       "    .dataframe tbody tr th:only-of-type {\n",
       "        vertical-align: middle;\n",
       "    }\n",
       "\n",
       "    .dataframe tbody tr th {\n",
       "        vertical-align: top;\n",
       "    }\n",
       "\n",
       "    .dataframe thead th {\n",
       "        text-align: right;\n",
       "    }\n",
       "</style>\n",
       "<table border=\"1\" class=\"dataframe\">\n",
       "  <thead>\n",
       "    <tr style=\"text-align: right;\">\n",
       "      <th></th>\n",
       "      <th>salesRank</th>\n",
       "      <th>categories</th>\n",
       "    </tr>\n",
       "  </thead>\n",
       "  <tbody>\n",
       "    <tr>\n",
       "      <th>4753974</th>\n",
       "      <td>NaN</td>\n",
       "      <td>[[Electronics, Camera &amp; Photo, Accessories, Ba...</td>\n",
       "    </tr>\n",
       "    <tr>\n",
       "      <th>4753975</th>\n",
       "      <td>{'Music': 123986}</td>\n",
       "      <td>[[CDs &amp; Vinyl, Alternative Rock, Goth &amp; Indust...</td>\n",
       "    </tr>\n",
       "    <tr>\n",
       "      <th>4753976</th>\n",
       "      <td>{'Health &amp; Personal Care': 6766}</td>\n",
       "      <td>[[Health &amp; Personal Care, Vitamins &amp; Dietary S...</td>\n",
       "    </tr>\n",
       "    <tr>\n",
       "      <th>4753977</th>\n",
       "      <td>{'Books': 2583280}</td>\n",
       "      <td>[[Books]]</td>\n",
       "    </tr>\n",
       "    <tr>\n",
       "      <th>4753978</th>\n",
       "      <td>{'Clothing': 5386}</td>\n",
       "      <td>[[Clothing, Shoes &amp; Jewelry, Men, Accessories,...</td>\n",
       "    </tr>\n",
       "  </tbody>\n",
       "</table>\n",
       "</div>"
      ],
      "text/plain": [
       "                                salesRank  \\\n",
       "4753974                               NaN   \n",
       "4753975                 {'Music': 123986}   \n",
       "4753976  {'Health & Personal Care': 6766}   \n",
       "4753977                {'Books': 2583280}   \n",
       "4753978                {'Clothing': 5386}   \n",
       "\n",
       "                                                categories  \n",
       "4753974  [[Electronics, Camera & Photo, Accessories, Ba...  \n",
       "4753975  [[CDs & Vinyl, Alternative Rock, Goth & Indust...  \n",
       "4753976  [[Health & Personal Care, Vitamins & Dietary S...  \n",
       "4753977                                          [[Books]]  \n",
       "4753978  [[Clothing, Shoes & Jewelry, Men, Accessories,...  "
      ]
     },
     "execution_count": 26,
     "metadata": {},
     "output_type": "execute_result"
    }
   ],
   "source": [
    "df[['salesRank', 'categories']].tail()"
   ]
  },
  {
   "cell_type": "code",
   "execution_count": 27,
   "metadata": {},
   "outputs": [],
   "source": [
    "# drop salesRank column\n",
    "df = df.drop(['salesRank'], axis=1)\n",
    "\n",
    "# fill missing values with column's default missing value\n",
    "df['categories'] = df['categories'].fillna(\"[['']]\")"
   ]
  },
  {
   "cell_type": "markdown",
   "metadata": {},
   "source": [
    "One might noticed that categories column has too many items in one cell, and if you see the list closely, more general categories come before less general ones. For this reason, I extract the first category in the list"
   ]
  },
  {
   "cell_type": "code",
   "execution_count": 43,
   "metadata": {
    "scrolled": true
   },
   "outputs": [],
   "source": [
    "## extract first category in categories column and update the column with the value\n",
    "df['categories'] = df['categories'].map(lambda x: x[0][0])"
   ]
  },
  {
   "cell_type": "code",
   "execution_count": 48,
   "metadata": {},
   "outputs": [
    {
     "data": {
      "text/plain": [
       "(array(['Electronics', 'Tools & Home Improvement', 'Movies & TV', 'Books',\n",
       "        'Video Games', 'Automotive', 'Pet Supplies',\n",
       "        'Health & Personal Care', 'Home & Kitchen', 'Toys & Games',\n",
       "        'Arts, Crafts & Sewing', 'CDs & Vinyl', 'Baby',\n",
       "        'Sports & Outdoors', 'Gift Cards', 'Office Products',\n",
       "        'Cell Phones & Accessories', 'Beauty', 'Clothing, Shoes & Jewelry',\n",
       "        'Software', 'Industrial & Scientific', '', 'Patio, Lawn & Garden',\n",
       "        'Grocery & Gourmet Food', 'Musical Instruments', 'Amazon Fashion',\n",
       "        'Appliances', 'MP3 Players & Accessories', 'All Electronics',\n",
       "        'Kindle Store', 'Digital Music', 'Apps for Android', '[',\n",
       "        'Buy a Kindle', 'Amazon Instant Video', 'Magazine Subscriptions',\n",
       "        'All Beauty', 'Baby Products', 'Purchase Circles', 'Classical',\n",
       "        'Computers', 'Luxury Beauty', 'Rap & Hip-Hop', 'Rock',\n",
       "        'Kitchen & Dining', 'Celebrate your Birthday with Nickelodeon',\n",
       "        'Classic Rock', 'Home Improvement', 'Office & School Supplies',\n",
       "        'Christian', 'International', 'Alternative Rock',\n",
       "        'GPS & Navigation', 'Dance & Electronic', 'Gift Cards Store',\n",
       "        'Camera & Photo', 'Miscellaneous', 'Collectibles & Fine Art',\n",
       "        'Country', '#508510', 'Davis', 'R&B', 'Hard Rock & Metal',\n",
       "        'Furniture & D&#233;cor', 'Car Electronics', 'Pop',\n",
       "        'Broadway & Vocalists', 'Folk', 'Gospel', 'Jazz', 'Amazon Coins',\n",
       "        'New Age', \"Children's Music\", 'Wine', 'Blues'], dtype=object), 75)"
      ]
     },
     "execution_count": 48,
     "metadata": {},
     "output_type": "execute_result"
    }
   ],
   "source": [
    "df['categories'].unique(), len(df['categories'].unique())"
   ]
  },
  {
   "cell_type": "markdown",
   "metadata": {},
   "source": [
    "Missing values are respresented as ''. I will delete weird names ('\\[', '#508510') and change 'Furniture & D# 233;cor' to 'Furniture' "
   ]
  },
  {
   "cell_type": "code",
   "execution_count": 52,
   "metadata": {},
   "outputs": [],
   "source": [
    "## drop missing value and weird name rows\n",
    "dropnames = ['', '[', '#508510']\n",
    "df = df[~df['categories'].isin(dropnames)]"
   ]
  },
  {
   "cell_type": "code",
   "execution_count": 59,
   "metadata": {},
   "outputs": [],
   "source": [
    "## replace name to Furniture\n",
    "df['categories'] = df['categories'].replace({'Furniture & D&#233;cor': 'Furniture'})"
   ]
  },
  {
   "cell_type": "code",
   "execution_count": 61,
   "metadata": {},
   "outputs": [
    {
     "data": {
      "text/plain": [
       "reviewerID    0\n",
       "asin          0\n",
       "helpful       0\n",
       "reviewText    0\n",
       "overall       0\n",
       "summary       0\n",
       "reviewTime    0\n",
       "categories    0\n",
       "price         0\n",
       "dtype: int64"
      ]
     },
     "execution_count": 61,
     "metadata": {},
     "output_type": "execute_result"
    }
   ],
   "source": [
    "df.isnull().sum()"
   ]
  },
  {
   "cell_type": "markdown",
   "metadata": {},
   "source": [
    "Now data frame is free from missing values"
   ]
  },
  {
   "cell_type": "markdown",
   "metadata": {},
   "source": [
    "# 5. Converting Certain Columns\n",
    "\n",
    "As you know overall rating is on a scale of 0 to 5 and helpfulness is in such a format as \\[4, 14]. This is difficult to utilize to our end and therefore, I converted this metric to 0-5 rating metric same as overall rating. After this procedure, I will combine summary and reviewText together."
   ]
  },
  {
   "cell_type": "markdown",
   "metadata": {},
   "source": [
    "### 5.a. Transforming and scaling halpfulness\n",
    "Let's convert helpfulness score to 0-5 scale rating as is overall rating <br><br>\n",
    "$$ helpful\\_num : helpful\\_den = rating : 5 $$ <br>\n",
    "$$ \\therefore rating = 5 \\times \\frac{helpful\\_num}{helpful\\_den} $$"
   ]
  },
  {
   "cell_type": "code",
   "execution_count": 67,
   "metadata": {},
   "outputs": [
    {
     "data": {
      "text/plain": [
       "0     [4, 14]\n",
       "1    [10, 13]\n",
       "2    [10, 13]\n",
       "3    [19, 20]\n",
       "4    [14, 16]\n",
       "Name: helpful, dtype: object"
      ]
     },
     "execution_count": 67,
     "metadata": {},
     "output_type": "execute_result"
    }
   ],
   "source": [
    "df['helpful'].head()"
   ]
  },
  {
   "cell_type": "code",
   "execution_count": 70,
   "metadata": {},
   "outputs": [],
   "source": [
    "## Extract 'helpful numerator' out of 'helpful' column\n",
    "df['helpful_num'] = df['helpful'].map(lambda x: x[0])\n",
    "\n",
    "## Extract 'helpful denominator' out of 'helpful' column\n",
    "df['helpful_den'] = df['helpful'].map(lambda x: x[1])\n",
    "\n",
    "## drop 'helpful' column\n",
    "df = df.drop(columns=['helpful'])"
   ]
  },
  {
   "cell_type": "code",
   "execution_count": 73,
   "metadata": {},
   "outputs": [],
   "source": [
    "## make helpfulness rating of 0-5 scale\n",
    "df['helpfulness'] = df[['helpful_num', 'helpful_den']].apply(lambda x: 5*x['helpful_num']/x['helpful_den'], axis=1)"
   ]
  },
  {
   "cell_type": "code",
   "execution_count": 74,
   "metadata": {},
   "outputs": [
    {
     "data": {
      "text/plain": [
       "5.0    1860595\n",
       "1.0     943340\n",
       "4.0     559808\n",
       "3.0     403734\n",
       "2.0     385529\n",
       "Name: overall, dtype: int64"
      ]
     },
     "execution_count": 74,
     "metadata": {},
     "output_type": "execute_result"
    }
   ],
   "source": [
    "## show value counts of 'overall' (rating)\n",
    "df['overall'].value_counts()"
   ]
  },
  {
   "cell_type": "markdown",
   "metadata": {},
   "source": [
    "As seen above, overall rating is descrete numbers from 0 to 5. Let's take a further step to transform helpfulness rating by rounding."
   ]
  },
  {
   "cell_type": "code",
   "execution_count": 75,
   "metadata": {},
   "outputs": [
    {
     "data": {
      "text/plain": [
       "5.0    1547985\n",
       "4.0    1211216\n",
       "3.0     461126\n",
       "2.0     408169\n",
       "1.0     318604\n",
       "0.0     205906\n",
       "Name: helpfulness, dtype: int64"
      ]
     },
     "execution_count": 75,
     "metadata": {},
     "output_type": "execute_result"
    }
   ],
   "source": [
    "df['helpfulness'] = df['helpfulness'].map(np.round)\n",
    "## show value counts\n",
    "df['helpfulness'].value_counts()"
   ]
  },
  {
   "cell_type": "markdown",
   "metadata": {},
   "source": [
    "### 5.b. Combining summary and reviewText\n",
    "As I checked at Amazon website, and from this data, summary and reviewText are written up in seperate boxes. Therefore, I regarded summary as part of review and combined them together in the fashion that summary is the first sentence(s) and I created new column “review” and dropped the two columns."
   ]
  },
  {
   "cell_type": "code",
   "execution_count": 76,
   "metadata": {},
   "outputs": [
    {
     "name": "stdout",
     "output_type": "stream",
     "text": [
      "special offers???\n",
      "i have not purchased this yet.... i know i will be, however, the special offers. Can they be turned off? i cannot belive to purchaase the kindle touch without \"special offers\" is $40 more!?!?!? Does anyone know if they can be turned off?\n"
     ]
    }
   ],
   "source": [
    "## example\n",
    "print(df['summary'].iloc[50000])\n",
    "print(df['reviewText'].iloc[50000])"
   ]
  },
  {
   "cell_type": "code",
   "execution_count": 81,
   "metadata": {},
   "outputs": [],
   "source": [
    "## combining 'summary' and 'reviewText' \n",
    "df['review'] = df[['summary', 'reviewText']].apply(lambda x: '. '.join(x), axis=1)\n",
    "\n",
    "# ## drop 'summary' and 'reviewText' columns\n",
    "# df = df.drop(columns=['summary', 'reviewText'])"
   ]
  },
  {
   "cell_type": "code",
   "execution_count": 83,
   "metadata": {},
   "outputs": [],
   "source": [
    "## drop 'summary' and 'reviewText' columns\n",
    "df = df.drop(columns=['summary', 'reviewText'])"
   ]
  },
  {
   "cell_type": "code",
   "execution_count": 84,
   "metadata": {
    "scrolled": true
   },
   "outputs": [
    {
     "name": "stdout",
     "output_type": "stream",
     "text": [
      "(4152941, 10)\n"
     ]
    },
    {
     "data": {
      "text/html": [
       "<div>\n",
       "<style scoped>\n",
       "    .dataframe tbody tr th:only-of-type {\n",
       "        vertical-align: middle;\n",
       "    }\n",
       "\n",
       "    .dataframe tbody tr th {\n",
       "        vertical-align: top;\n",
       "    }\n",
       "\n",
       "    .dataframe thead th {\n",
       "        text-align: right;\n",
       "    }\n",
       "</style>\n",
       "<table border=\"1\" class=\"dataframe\">\n",
       "  <thead>\n",
       "    <tr style=\"text-align: right;\">\n",
       "      <th></th>\n",
       "      <th>reviewerID</th>\n",
       "      <th>asin</th>\n",
       "      <th>overall</th>\n",
       "      <th>reviewTime</th>\n",
       "      <th>categories</th>\n",
       "      <th>price</th>\n",
       "      <th>helpful_num</th>\n",
       "      <th>helpful_den</th>\n",
       "      <th>helpfulness</th>\n",
       "      <th>review</th>\n",
       "    </tr>\n",
       "  </thead>\n",
       "  <tbody>\n",
       "    <tr>\n",
       "      <th>0</th>\n",
       "      <td>A0001528BGUBOEVR6T5U</td>\n",
       "      <td>B008O5BIWW</td>\n",
       "      <td>5.0</td>\n",
       "      <td>2013-02-13</td>\n",
       "      <td>Electronics</td>\n",
       "      <td>189.73</td>\n",
       "      <td>4</td>\n",
       "      <td>14</td>\n",
       "      <td>1.0</td>\n",
       "      <td>Foscam FI8919W. The Foscam FI8919W is a great ...</td>\n",
       "    </tr>\n",
       "    <tr>\n",
       "      <th>1</th>\n",
       "      <td>A1S44FJFOKDV4Q</td>\n",
       "      <td>B008O5BIWW</td>\n",
       "      <td>1.0</td>\n",
       "      <td>2013-10-03</td>\n",
       "      <td>Electronics</td>\n",
       "      <td>189.73</td>\n",
       "      <td>10</td>\n",
       "      <td>13</td>\n",
       "      <td>4.0</td>\n",
       "      <td>Nothing but problems. Purchased this camera di...</td>\n",
       "    </tr>\n",
       "    <tr>\n",
       "      <th>2</th>\n",
       "      <td>A20WKTYKTJPRDW</td>\n",
       "      <td>B008O5BIWW</td>\n",
       "      <td>1.0</td>\n",
       "      <td>2013-07-16</td>\n",
       "      <td>Electronics</td>\n",
       "      <td>189.73</td>\n",
       "      <td>10</td>\n",
       "      <td>13</td>\n",
       "      <td>4.0</td>\n",
       "      <td>Good technology horrible support camera cannot...</td>\n",
       "    </tr>\n",
       "  </tbody>\n",
       "</table>\n",
       "</div>"
      ],
      "text/plain": [
       "             reviewerID        asin  overall reviewTime   categories   price  \\\n",
       "0  A0001528BGUBOEVR6T5U  B008O5BIWW      5.0 2013-02-13  Electronics  189.73   \n",
       "1        A1S44FJFOKDV4Q  B008O5BIWW      1.0 2013-10-03  Electronics  189.73   \n",
       "2        A20WKTYKTJPRDW  B008O5BIWW      1.0 2013-07-16  Electronics  189.73   \n",
       "\n",
       "   helpful_num  helpful_den  helpfulness  \\\n",
       "0            4           14          1.0   \n",
       "1           10           13          4.0   \n",
       "2           10           13          4.0   \n",
       "\n",
       "                                              review  \n",
       "0  Foscam FI8919W. The Foscam FI8919W is a great ...  \n",
       "1  Nothing but problems. Purchased this camera di...  \n",
       "2  Good technology horrible support camera cannot...  "
      ]
     },
     "execution_count": 84,
     "metadata": {},
     "output_type": "execute_result"
    }
   ],
   "source": [
    "## Show current looking of data\n",
    "print(df.shape)\n",
    "df.head(3)"
   ]
  },
  {
   "cell_type": "markdown",
   "metadata": {},
   "source": [
    "# 6. Appeasing Data Skewness\n",
    "A dataset may sometimes contain at least one feature whose values tend to lie near a single number, but will also have a non-trivial number of vastly larger or smaller values than that single number. Algorithms can be sensitive to such distributions of values and can underperform if the range is not properly normalized.\n",
    "\n",
    "### 6.a. Appeasing skewness in Helpfulness\n",
    "Helpfulness is our target column and therefore we should check its distribution first."
   ]
  },
  {
   "cell_type": "code",
   "execution_count": 85,
   "metadata": {},
   "outputs": [
    {
     "data": {
      "image/png": "[encoded data removed]",
      "text/plain": [
       "<Figure size 576x432 with 1 Axes>"
      ]
     },
     "metadata": {},
     "output_type": "display_data"
    }
   ],
   "source": [
    "%matplotlib inline\n",
    "import matplotlib.pyplot as plt\n",
    "import seaborn as sns\n",
    "sns.set(style=\"ticks\")\n",
    "\n",
    "## Visualize helpfulnee distribution\n",
    "hp = df['helpfulness'].value_counts().reset_index()\n",
    "hp = hp.rename(columns={'index': 'Helpfulness', 'helpfulness': 'Count'})\n",
    "plt.figure(figsize=(8,6))\n",
    "sns.barplot(x='Helpfulness', y='Count', data=hp);"
   ]
  },
  {
   "cell_type": "markdown",
   "metadata": {},
   "source": [
    "We can tell helpfulness is left-skewed. Still, 0 count and 5 count ratio is not very severe to intimidate the quality of model. However, for operation, I will reduce size to 0.3."
   ]
  },
  {
   "cell_type": "code",
   "execution_count": 86,
   "metadata": {},
   "outputs": [
    {
     "data": {
      "text/html": [
       "<div>\n",
       "<style scoped>\n",
       "    .dataframe tbody tr th:only-of-type {\n",
       "        vertical-align: middle;\n",
       "    }\n",
       "\n",
       "    .dataframe tbody tr th {\n",
       "        vertical-align: top;\n",
       "    }\n",
       "\n",
       "    .dataframe thead th {\n",
       "        text-align: right;\n",
       "    }\n",
       "</style>\n",
       "<table border=\"1\" class=\"dataframe\">\n",
       "  <thead>\n",
       "    <tr style=\"text-align: right;\">\n",
       "      <th></th>\n",
       "      <th>Helpfulness</th>\n",
       "      <th>Count</th>\n",
       "    </tr>\n",
       "  </thead>\n",
       "  <tbody>\n",
       "    <tr>\n",
       "      <th>0</th>\n",
       "      <td>5.0</td>\n",
       "      <td>1547970</td>\n",
       "    </tr>\n",
       "    <tr>\n",
       "      <th>1</th>\n",
       "      <td>4.0</td>\n",
       "      <td>1211207</td>\n",
       "    </tr>\n",
       "    <tr>\n",
       "      <th>2</th>\n",
       "      <td>3.0</td>\n",
       "      <td>461121</td>\n",
       "    </tr>\n",
       "    <tr>\n",
       "      <th>3</th>\n",
       "      <td>2.0</td>\n",
       "      <td>408161</td>\n",
       "    </tr>\n",
       "    <tr>\n",
       "      <th>4</th>\n",
       "      <td>1.0</td>\n",
       "      <td>318596</td>\n",
       "    </tr>\n",
       "    <tr>\n",
       "      <th>5</th>\n",
       "      <td>0.0</td>\n",
       "      <td>205886</td>\n",
       "    </tr>\n",
       "  </tbody>\n",
       "</table>\n",
       "</div>"
      ],
      "text/plain": [
       "   Helpfulness    Count\n",
       "0          5.0  1547970\n",
       "1          4.0  1211207\n",
       "2          3.0   461121\n",
       "3          2.0   408161\n",
       "4          1.0   318596\n",
       "5          0.0   205886"
      ]
     },
     "execution_count": 86,
     "metadata": {},
     "output_type": "execute_result"
    }
   ],
   "source": [
    "## value counts of helpfulness ratings\n",
    "hp"
   ]
  },
  {
   "cell_type": "code",
   "execution_count": 87,
   "metadata": {},
   "outputs": [],
   "source": [
    "## in each helpfulness class, randomly sample 206000 rows\n",
    "hp0 = df[df['helpfulness']==0].sample(frac=0.3, random_state=614)\n",
    "hp1 = df[df['helpfulness']==1].sample(frac=0.3, random_state=614)\n",
    "hp2 = df[df['helpfulness']==2].sample(frac=0.3, random_state=614)\n",
    "hp3 = df[df['helpfulness']==3].sample(frac=0.3, random_state=614)\n",
    "hp4 = df[df['helpfulness']==4].sample(frac=0.3, random_state=614)\n",
    "hp5 = df[df['helpfulness']==5].sample(frac=0.3, random_state=614)"
   ]
  },
  {
   "cell_type": "code",
   "execution_count": 90,
   "metadata": {},
   "outputs": [],
   "source": [
    "## concatenate dataframes\n",
    "df = pd.concat([hp0, hp1, hp2, hp3, hp4, hp5], axis=0)\n",
    "\n",
    "## sort data frame by product id (asin)\n",
    "df = df.sort_values(by='asin')\n",
    "\n",
    "## reset index\n",
    "df = df.reset_index(drop=True)"
   ]
  },
  {
   "cell_type": "code",
   "execution_count": 91,
   "metadata": {},
   "outputs": [
    {
     "data": {
      "image/png": "[encoded data removed]",
      "text/plain": [
       "<Figure size 576x432 with 1 Axes>"
      ]
     },
     "metadata": {
      "needs_background": "light"
     },
     "output_type": "display_data"
    }
   ],
   "source": [
    "## Visualize distribution of helpfulness ratings after random stratified sampling\n",
    "hp = df['helpfulness'].value_counts().reset_index()\n",
    "hp = hp.rename(columns={'index': 'Helpfulness', 'helpfulness': 'Count'})\n",
    "plt.figure(figsize=(8,6))\n",
    "sns.barplot(x='Helpfulness', y='Count', data=hp);"
   ]
  },
  {
   "cell_type": "markdown",
   "metadata": {},
   "source": [
    "Now, data is distributed in the same manner but our data size is reduced from 4.15M rows to about 1.24M rows"
   ]
  },
  {
   "cell_type": "markdown",
   "metadata": {},
   "source": [
    "### 6.b. Appeasing skewness in Helpfulness\n",
    "We may as well check price distribution because price can vary a lot. "
   ]
  },
  {
   "cell_type": "code",
   "execution_count": 92,
   "metadata": {},
   "outputs": [
    {
     "data": {
      "image/png": "[encoded data removed]",
      "text/plain": [
       "<Figure size 576x432 with 1 Axes>"
      ]
     },
     "metadata": {
      "needs_background": "light"
     },
     "output_type": "display_data"
    }
   ],
   "source": [
    "ax = df.price.plot(kind='hist', bins=25, figsize=(8, 6))\n",
    "ax.set_title(\"price distribution before transoformation\", fontsize=14)\n",
    "ax.set_ylim((0, 150000))\n",
    "ax.set_yticks([0, 50000, 100000, 150000])\n",
    "ax.set_yticklabels([0, 50000, 100000, \"> 150000\"]);"
   ]
  },
  {
   "cell_type": "markdown",
   "metadata": {},
   "source": [
    "We can tell price is highly right skewed. According to [wikipedia][1], when there is evidence of substantial skew in the data, it is common to transform the data to a symmetric distribution. Using logarithmic transformations will help the data spread more evenly and the very large and very small values do not negatively affect the performance of a learning algorithm. Using a logarithmic transformation significantly reduces the range of values caused by outliers. Care must be taken when applying this transformation however: The logarithm of 0 is undefined, so I translate the values by a small amount above 0 to apply the the logarithm successfully. \n",
    "\n",
    "[1]: https://en.wikipedia.org/wiki/Data_transformation_(statistics)"
   ]
  },
  {
   "cell_type": "code",
   "execution_count": 93,
   "metadata": {},
   "outputs": [
    {
     "data": {
      "image/png": "[encoded data removed]",
      "text/plain": [
       "<Figure size 576x432 with 1 Axes>"
      ]
     },
     "metadata": {
      "needs_background": "light"
     },
     "output_type": "display_data"
    }
   ],
   "source": [
    "## to prevent log0 case, let us add 1\n",
    "df['price'] = df['price'].apply(lambda x: np.log(x + 1))\n",
    "\n",
    "## Visualize distribution after loogarithmic transformation\n",
    "ax = df['price'].plot(kind='hist', bins=25, figsize=(8, 6))\n",
    "ax.set_title(\"price distribution after logarithmic transformation\", fontsize=14)\n",
    "ax.set_ylim((0, 150000))\n",
    "ax.set_yticks([0, 50000, 100000, 150000])\n",
    "ax.set_yticklabels([0, 50000, 100000, \"> 150000\"]);"
   ]
  },
  {
   "cell_type": "markdown",
   "metadata": {},
   "source": [
    "Price is now distributed more symmetrically."
   ]
  },
  {
   "cell_type": "code",
   "execution_count": 94,
   "metadata": {},
   "outputs": [
    {
     "name": "stdout",
     "output_type": "stream",
     "text": [
      "(1245882, 10)\n"
     ]
    },
    {
     "data": {
      "text/html": [
       "<div>\n",
       "<style scoped>\n",
       "    .dataframe tbody tr th:only-of-type {\n",
       "        vertical-align: middle;\n",
       "    }\n",
       "\n",
       "    .dataframe tbody tr th {\n",
       "        vertical-align: top;\n",
       "    }\n",
       "\n",
       "    .dataframe thead th {\n",
       "        text-align: right;\n",
       "    }\n",
       "</style>\n",
       "<table border=\"1\" class=\"dataframe\">\n",
       "  <thead>\n",
       "    <tr style=\"text-align: right;\">\n",
       "      <th></th>\n",
       "      <th>reviewerID</th>\n",
       "      <th>asin</th>\n",
       "      <th>overall</th>\n",
       "      <th>reviewTime</th>\n",
       "      <th>categories</th>\n",
       "      <th>price</th>\n",
       "      <th>helpful_num</th>\n",
       "      <th>helpful_den</th>\n",
       "      <th>helpfulness</th>\n",
       "      <th>review</th>\n",
       "    </tr>\n",
       "  </thead>\n",
       "  <tbody>\n",
       "    <tr>\n",
       "      <th>0</th>\n",
       "      <td>A1TADCM7YWPQ8M</td>\n",
       "      <td>0000000868</td>\n",
       "      <td>4.0</td>\n",
       "      <td>2002-09-11</td>\n",
       "      <td>Books</td>\n",
       "      <td>3.128951</td>\n",
       "      <td>10</td>\n",
       "      <td>10</td>\n",
       "      <td>5.0</td>\n",
       "      <td>Not a Bad Translation. I'll be honest. I work ...</td>\n",
       "    </tr>\n",
       "    <tr>\n",
       "      <th>1</th>\n",
       "      <td>A3H1W0DWLW5DLH</td>\n",
       "      <td>0000031887</td>\n",
       "      <td>5.0</td>\n",
       "      <td>2010-10-10</td>\n",
       "      <td>Clothing, Shoes &amp; Jewelry</td>\n",
       "      <td>2.052841</td>\n",
       "      <td>26</td>\n",
       "      <td>28</td>\n",
       "      <td>5.0</td>\n",
       "      <td>Very happy customer. I bought this as part of ...</td>\n",
       "    </tr>\n",
       "    <tr>\n",
       "      <th>2</th>\n",
       "      <td>A2MPIVS0KSY8O0</td>\n",
       "      <td>0000032034</td>\n",
       "      <td>5.0</td>\n",
       "      <td>2013-09-10</td>\n",
       "      <td>Sports &amp; Outdoors</td>\n",
       "      <td>2.182675</td>\n",
       "      <td>11</td>\n",
       "      <td>12</td>\n",
       "      <td>5.0</td>\n",
       "      <td>Tutus. Purchased and wore these tutus for the ...</td>\n",
       "    </tr>\n",
       "  </tbody>\n",
       "</table>\n",
       "</div>"
      ],
      "text/plain": [
       "       reviewerID        asin  overall reviewTime                 categories  \\\n",
       "0  A1TADCM7YWPQ8M  0000000868      4.0 2002-09-11                      Books   \n",
       "1  A3H1W0DWLW5DLH  0000031887      5.0 2010-10-10  Clothing, Shoes & Jewelry   \n",
       "2  A2MPIVS0KSY8O0  0000032034      5.0 2013-09-10          Sports & Outdoors   \n",
       "\n",
       "      price  helpful_num  helpful_den  helpfulness  \\\n",
       "0  3.128951           10           10          5.0   \n",
       "1  2.052841           26           28          5.0   \n",
       "2  2.182675           11           12          5.0   \n",
       "\n",
       "                                              review  \n",
       "0  Not a Bad Translation. I'll be honest. I work ...  \n",
       "1  Very happy customer. I bought this as part of ...  \n",
       "2  Tutus. Purchased and wore these tutus for the ...  "
      ]
     },
     "execution_count": 94,
     "metadata": {},
     "output_type": "execute_result"
    }
   ],
   "source": [
    "## Show current looking of data\n",
    "print(df.shape)\n",
    "df.head(3)"
   ]
  },
  {
   "cell_type": "markdown",
   "metadata": {},
   "source": [
    "### 7. Normalizing Numerical Features\n",
    "In addition to performing transformations on features that are highly skewed, it is often good practice to perform some type of scaling on numerical features. Applying a scaling to the data does not change the shape of each feature's distribution. However, normalization ensures that each feature is treated equally when applying supervised learners. For these reasons, I normalized price.  Note that once scaling is applied, observing the data in its raw form will no longer have the same original meaning."
   ]
  },
  {
   "cell_type": "code",
   "execution_count": 95,
   "metadata": {},
   "outputs": [],
   "source": [
    "from sklearn.preprocessing import MinMaxScaler\n",
    "\n",
    "ser = df[['price']].copy()\n",
    "\n",
    "# scale to [0, 1] using sklearn MinMaxScaler() function\n",
    "scaler = MinMaxScaler()\n",
    "ser = scaler.fit_transform(ser)\n",
    "\n",
    "df['price'] = ser"
   ]
  },
  {
   "cell_type": "code",
   "execution_count": 96,
   "metadata": {},
   "outputs": [
    {
     "data": {
      "image/png": "[encoded data removed]",
      "text/plain": [
       "<Figure size 576x432 with 1 Axes>"
      ]
     },
     "metadata": {
      "needs_background": "light"
     },
     "output_type": "display_data"
    }
   ],
   "source": [
    "## Visualization \n",
    "ax = df['price'].plot(kind='hist', bins=25, figsize=(8, 6))\n",
    "ax.set_title(\"price distribution after normalization\", fontsize=14)\n",
    "ax.set_ylim((0, 150000))\n",
    "ax.set_yticks([0, 50000, 100000, 150000])\n",
    "ax.set_yticklabels([0, 50000, 100000, \"> 150000\"]);"
   ]
  },
  {
   "cell_type": "markdown",
   "metadata": {},
   "source": [
    "# 8. Finalizing Data\n",
    "In this section, we discuss whether we should keep help_num and helpful_den columns and category distribution\n",
    "\n",
    "### 8.a. Checking correlation among 'helpful_num', 'helpful_den', and 'helpfulness'"
   ]
  },
  {
   "cell_type": "code",
   "execution_count": 97,
   "metadata": {},
   "outputs": [
    {
     "data": {
      "image/png": "[encoded data removed]",
      "text/plain": [
       "<Figure size 432x288 with 2 Axes>"
      ]
     },
     "metadata": {
      "needs_background": "light"
     },
     "output_type": "display_data"
    }
   ],
   "source": [
    "sns.heatmap(df[['helpful_den', 'helpful_num', 'helpfulness']].corr(), annot=True, cmap='YlGnBu');"
   ]
  },
  {
   "cell_type": "markdown",
   "metadata": {},
   "source": [
    "Heatmap shows that helpful_num has 0.18 correlation to helpfulness and on the other hand, helpful_den has rather low correlation which is 0.037. This seems natural outcome because no matter how many people voted, it does not change the groundtruth - to get higher helpfulness rating, more people need to vote for the review. So we keep helpful_num and drop helpful_den."
   ]
  },
  {
   "cell_type": "code",
   "execution_count": 98,
   "metadata": {},
   "outputs": [],
   "source": [
    "## drop 'helpful_num' column\n",
    "df = df.drop(columns=['helpful_den'])"
   ]
  },
  {
   "cell_type": "markdown",
   "metadata": {},
   "source": [
    "### 8.b. Finalizing category\n",
    "From earlier steps, we learned that there are 72 categories. If there are many categories, it gets cumbersome when we later process and we do not want to learn our model on small size categories. Like how we did at Step 3. Filtering Data. I will cut categories off at 400 because some categories only have 1, 3, or small number of products."
   ]
  },
  {
   "cell_type": "code",
   "execution_count": 99,
   "metadata": {},
   "outputs": [
    {
     "data": {
      "text/plain": [
       "(71,)"
      ]
     },
     "execution_count": 99,
     "metadata": {},
     "output_type": "execute_result"
    }
   ],
   "source": [
    "df['categories'].unique().shape"
   ]
  },
  {
   "cell_type": "code",
   "execution_count": 100,
   "metadata": {},
   "outputs": [
    {
     "name": "stdout",
     "output_type": "stream",
     "text": [
      "Books                       558400\n",
      "Movies & TV                 125968\n",
      "CDs & Vinyl                 111716\n",
      "Electronics                 102527\n",
      "Home & Kitchen               50224\n",
      "Health & Personal Care       40612\n",
      "Video Games                  34267\n",
      "Sports & Outdoors            27100\n",
      "Tools & Home Improvement     23793\n",
      "Toys & Games                 20951\n",
      "Name: categories, dtype: int64\n",
      "Country                 9\n",
      "New Age                 8\n",
      "R&B                     7\n",
      "Folk                    7\n",
      "Blues                   5\n",
      "Wine                    5\n",
      "Amazon Coins            3\n",
      "Broadway & Vocalists    3\n",
      "Rap & Hip-Hop           2\n",
      "Children's Music        1\n",
      "Name: categories, dtype: int64\n"
     ]
    }
   ],
   "source": [
    "## See head and tail of counts of categories \n",
    "cat_ser = df.categories.value_counts()\n",
    "\n",
    "## show top, bottom 10\n",
    "print(cat_ser.head(10)) \n",
    "print(cat_ser.tail(10))"
   ]
  },
  {
   "cell_type": "code",
   "execution_count": 101,
   "metadata": {},
   "outputs": [
    {
     "name": "stdout",
     "output_type": "stream",
     "text": [
      "30\n"
     ]
    },
    {
     "data": {
      "text/plain": [
       "Books                        558400\n",
       "Movies & TV                  125968\n",
       "CDs & Vinyl                  111716\n",
       "Electronics                  102527\n",
       "Home & Kitchen                50224\n",
       "Health & Personal Care        40612\n",
       "Video Games                   34267\n",
       "Sports & Outdoors             27100\n",
       "Tools & Home Improvement      23793\n",
       "Toys & Games                  20951\n",
       "Beauty                        18817\n",
       "Cell Phones & Accessories     16996\n",
       "Office Products               16338\n",
       "Patio, Lawn & Garden          13033\n",
       "Clothing, Shoes & Jewelry     12806\n",
       "Grocery & Gourmet Food        10446\n",
       "Software                      10049\n",
       "Pet Supplies                   9729\n",
       "Baby                           9124\n",
       "Automotive                     7291\n",
       "Musical Instruments            5673\n",
       "Arts, Crafts & Sewing          5118\n",
       "Buy a Kindle                   3016\n",
       "Industrial & Scientific        2777\n",
       "Appliances                     1286\n",
       "Magazine Subscriptions         1148\n",
       "Baby Products                   999\n",
       "Digital Music                   985\n",
       "All Electronics                 851\n",
       "Apps for Android                506\n",
       "Name: categories, dtype: int64"
      ]
     },
     "execution_count": 101,
     "metadata": {},
     "output_type": "execute_result"
    }
   ],
   "source": [
    "print(cat_ser[cat_ser > 400].shape[0])\n",
    "cat_ser[cat_ser > 400]"
   ]
  },
  {
   "cell_type": "markdown",
   "metadata": {},
   "source": [
    "Cutting off at 400, we ended up with 31 categories"
   ]
  },
  {
   "cell_type": "code",
   "execution_count": 102,
   "metadata": {},
   "outputs": [
    {
     "name": "stdout",
     "output_type": "stream",
     "text": [
      "0.26776211551334717\n"
     ]
    }
   ],
   "source": [
    "## to check how much data we lost\n",
    "before = df.shape[0]\n",
    "\n",
    "## filter out\n",
    "df = df[df['categories'].isin(cat_ser[cat_ser > 400].index)]\n",
    "\n",
    "## loss proportion\n",
    "after = df.shape[0]\n",
    "print((before - after) / before * 100)"
   ]
  },
  {
   "cell_type": "code",
   "execution_count": 108,
   "metadata": {
    "scrolled": false
   },
   "outputs": [
    {
     "name": "stdout",
     "output_type": "stream",
     "text": [
      "(1242546, 9)\n"
     ]
    },
    {
     "data": {
      "text/html": [
       "<div>\n",
       "<style scoped>\n",
       "    .dataframe tbody tr th:only-of-type {\n",
       "        vertical-align: middle;\n",
       "    }\n",
       "\n",
       "    .dataframe tbody tr th {\n",
       "        vertical-align: top;\n",
       "    }\n",
       "\n",
       "    .dataframe thead th {\n",
       "        text-align: right;\n",
       "    }\n",
       "</style>\n",
       "<table border=\"1\" class=\"dataframe\">\n",
       "  <thead>\n",
       "    <tr style=\"text-align: right;\">\n",
       "      <th></th>\n",
       "      <th>reviewerID</th>\n",
       "      <th>asin</th>\n",
       "      <th>overall</th>\n",
       "      <th>reviewTime</th>\n",
       "      <th>categories</th>\n",
       "      <th>price</th>\n",
       "      <th>helpful_num</th>\n",
       "      <th>helpfulness</th>\n",
       "      <th>review</th>\n",
       "    </tr>\n",
       "  </thead>\n",
       "  <tbody>\n",
       "    <tr>\n",
       "      <th>0</th>\n",
       "      <td>A1TADCM7YWPQ8M</td>\n",
       "      <td>0000000868</td>\n",
       "      <td>4.0</td>\n",
       "      <td>2002-09-11</td>\n",
       "      <td>Books</td>\n",
       "      <td>0.452897</td>\n",
       "      <td>10</td>\n",
       "      <td>5.0</td>\n",
       "      <td>Not a Bad Translation. I'll be honest. I work ...</td>\n",
       "    </tr>\n",
       "    <tr>\n",
       "      <th>1</th>\n",
       "      <td>A3H1W0DWLW5DLH</td>\n",
       "      <td>0000031887</td>\n",
       "      <td>5.0</td>\n",
       "      <td>2010-10-10</td>\n",
       "      <td>Clothing, Shoes &amp; Jewelry</td>\n",
       "      <td>0.297137</td>\n",
       "      <td>26</td>\n",
       "      <td>5.0</td>\n",
       "      <td>Very happy customer. I bought this as part of ...</td>\n",
       "    </tr>\n",
       "    <tr>\n",
       "      <th>2</th>\n",
       "      <td>A2MPIVS0KSY8O0</td>\n",
       "      <td>0000032034</td>\n",
       "      <td>5.0</td>\n",
       "      <td>2013-09-10</td>\n",
       "      <td>Sports &amp; Outdoors</td>\n",
       "      <td>0.315929</td>\n",
       "      <td>11</td>\n",
       "      <td>5.0</td>\n",
       "      <td>Tutus. Purchased and wore these tutus for the ...</td>\n",
       "    </tr>\n",
       "    <tr>\n",
       "      <th>3</th>\n",
       "      <td>A30WLYNJA3B17H</td>\n",
       "      <td>0000589012</td>\n",
       "      <td>5.0</td>\n",
       "      <td>2008-10-23</td>\n",
       "      <td>Movies &amp; TV</td>\n",
       "      <td>0.409665</td>\n",
       "      <td>8</td>\n",
       "      <td>4.0</td>\n",
       "      <td>Human Connection and Compassion. There is a tu...</td>\n",
       "    </tr>\n",
       "    <tr>\n",
       "      <th>4</th>\n",
       "      <td>A3LDEBLV6MVUBE</td>\n",
       "      <td>0000589012</td>\n",
       "      <td>5.0</td>\n",
       "      <td>2008-04-24</td>\n",
       "      <td>Movies &amp; TV</td>\n",
       "      <td>0.409665</td>\n",
       "      <td>10</td>\n",
       "      <td>5.0</td>\n",
       "      <td>Why don't They Just Quit. The best book ever t...</td>\n",
       "    </tr>\n",
       "    <tr>\n",
       "      <th>5</th>\n",
       "      <td>A2SLVVXPRB60JC</td>\n",
       "      <td>0000913154</td>\n",
       "      <td>5.0</td>\n",
       "      <td>2000-11-19</td>\n",
       "      <td>Books</td>\n",
       "      <td>0.461564</td>\n",
       "      <td>12</td>\n",
       "      <td>5.0</td>\n",
       "      <td>A classic book on technology. One of a kind bo...</td>\n",
       "    </tr>\n",
       "    <tr>\n",
       "      <th>6</th>\n",
       "      <td>A2052JNVUPRTMT</td>\n",
       "      <td>000100039X</td>\n",
       "      <td>5.0</td>\n",
       "      <td>2000-11-10</td>\n",
       "      <td>Books</td>\n",
       "      <td>0.232667</td>\n",
       "      <td>97</td>\n",
       "      <td>5.0</td>\n",
       "      <td>Pure Wisdom. Gibran gets right down to the bed...</td>\n",
       "    </tr>\n",
       "    <tr>\n",
       "      <th>7</th>\n",
       "      <td>AJG3H9IGTOALP</td>\n",
       "      <td>000100039X</td>\n",
       "      <td>5.0</td>\n",
       "      <td>2002-02-13</td>\n",
       "      <td>Books</td>\n",
       "      <td>0.232667</td>\n",
       "      <td>11</td>\n",
       "      <td>4.0</td>\n",
       "      <td>One Of The Deepest Human Thoughts Ever Written...</td>\n",
       "    </tr>\n",
       "    <tr>\n",
       "      <th>8</th>\n",
       "      <td>AHD101501WCN1</td>\n",
       "      <td>000100039X</td>\n",
       "      <td>4.0</td>\n",
       "      <td>2006-04-26</td>\n",
       "      <td>Books</td>\n",
       "      <td>0.232667</td>\n",
       "      <td>9</td>\n",
       "      <td>3.0</td>\n",
       "      <td>Mixed feelings Inspiring poetry or vague senti...</td>\n",
       "    </tr>\n",
       "    <tr>\n",
       "      <th>9</th>\n",
       "      <td>A2ZB1G1KUE6OS6</td>\n",
       "      <td>000100039X</td>\n",
       "      <td>2.0</td>\n",
       "      <td>2009-05-03</td>\n",
       "      <td>Books</td>\n",
       "      <td>0.232667</td>\n",
       "      <td>0</td>\n",
       "      <td>0.0</td>\n",
       "      <td>Unexpected purchase. I evidently misread the w...</td>\n",
       "    </tr>\n",
       "  </tbody>\n",
       "</table>\n",
       "</div>"
      ],
      "text/plain": [
       "       reviewerID        asin  overall reviewTime                 categories  \\\n",
       "0  A1TADCM7YWPQ8M  0000000868      4.0 2002-09-11                      Books   \n",
       "1  A3H1W0DWLW5DLH  0000031887      5.0 2010-10-10  Clothing, Shoes & Jewelry   \n",
       "2  A2MPIVS0KSY8O0  0000032034      5.0 2013-09-10          Sports & Outdoors   \n",
       "3  A30WLYNJA3B17H  0000589012      5.0 2008-10-23                Movies & TV   \n",
       "4  A3LDEBLV6MVUBE  0000589012      5.0 2008-04-24                Movies & TV   \n",
       "5  A2SLVVXPRB60JC  0000913154      5.0 2000-11-19                      Books   \n",
       "6  A2052JNVUPRTMT  000100039X      5.0 2000-11-10                      Books   \n",
       "7   AJG3H9IGTOALP  000100039X      5.0 2002-02-13                      Books   \n",
       "8   AHD101501WCN1  000100039X      4.0 2006-04-26                      Books   \n",
       "9  A2ZB1G1KUE6OS6  000100039X      2.0 2009-05-03                      Books   \n",
       "\n",
       "      price  helpful_num  helpfulness  \\\n",
       "0  0.452897           10          5.0   \n",
       "1  0.297137           26          5.0   \n",
       "2  0.315929           11          5.0   \n",
       "3  0.409665            8          4.0   \n",
       "4  0.409665           10          5.0   \n",
       "5  0.461564           12          5.0   \n",
       "6  0.232667           97          5.0   \n",
       "7  0.232667           11          4.0   \n",
       "8  0.232667            9          3.0   \n",
       "9  0.232667            0          0.0   \n",
       "\n",
       "                                              review  \n",
       "0  Not a Bad Translation. I'll be honest. I work ...  \n",
       "1  Very happy customer. I bought this as part of ...  \n",
       "2  Tutus. Purchased and wore these tutus for the ...  \n",
       "3  Human Connection and Compassion. There is a tu...  \n",
       "4  Why don't They Just Quit. The best book ever t...  \n",
       "5  A classic book on technology. One of a kind bo...  \n",
       "6  Pure Wisdom. Gibran gets right down to the bed...  \n",
       "7  One Of The Deepest Human Thoughts Ever Written...  \n",
       "8  Mixed feelings Inspiring poetry or vague senti...  \n",
       "9  Unexpected purchase. I evidently misread the w...  "
      ]
     },
     "execution_count": 108,
     "metadata": {},
     "output_type": "execute_result"
    }
   ],
   "source": [
    "## Show shape and head of data\n",
    "print(df.shape)\n",
    "df.head(10)"
   ]
  },
  {
   "cell_type": "markdown",
   "metadata": {},
   "source": [
    "we only lost 0.27%"
   ]
  },
  {
   "cell_type": "code",
   "execution_count": 109,
   "metadata": {},
   "outputs": [],
   "source": [
    "df.to_csv('./h5_filtered/df_clean_final.csv.gz', encoding='utf-8', index=False, compression='gzip')"
   ]
  }
 ],
 "metadata": {
  "kernelspec": {
   "display_name": "Python 3",
   "language": "python",
   "name": "python3"
  },
  "language_info": {
   "codemirror_mode": {
    "name": "ipython",
    "version": 3
   },
   "file_extension": ".py",
   "mimetype": "text/x-python",
   "name": "python",
   "nbconvert_exporter": "python",
   "pygments_lexer": "ipython3",
   "version": "3.6.6"
  }
 },
 "nbformat": 4,
 "nbformat_minor": 2
}
