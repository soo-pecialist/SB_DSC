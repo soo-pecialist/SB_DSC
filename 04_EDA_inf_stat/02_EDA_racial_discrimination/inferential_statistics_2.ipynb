{
 "cells": [
  {
   "cell_type": "markdown",
   "metadata": {},
   "source": [
    "# Examining Racial Discrimination in the US Job Market\n",
    "\n",
    "### Background\n",
    "Racial discrimination continues to be pervasive in cultures throughout the world. Researchers examined the level of racial discrimination in the United States labor market by randomly assigning identical résumés to black-sounding or white-sounding names and observing the impact on requests for interviews from employers.\n",
    "\n",
    "### Data\n",
    "In the dataset provided, each row represents a resume. The 'race' column has two values, 'b' and 'w', indicating black-sounding and white-sounding. The column 'call' has two values, 1 and 0, indicating whether the resume received a call from employers or not.\n",
    "\n",
    "Note that the 'b' and 'w' values in race are assigned randomly to the resumes when presented to the employer."
   ]
  },
  {
   "cell_type": "markdown",
   "metadata": {},
   "source": [
    "### Exercises\n",
    "You will perform a statistical analysis to establish whether race has a significant impact on the rate of callbacks for resumes.\n",
    "\n",
    "Answer the following questions **in this notebook below and submit to your Github account**. \n",
    "\n",
    "   1. What test is appropriate for this problem? Does CLT apply?\n",
    "   2. What are the null and alternate hypotheses?\n",
    "   3. Compute margin of error, confidence interval, and p-value. Try using both the bootstrapping and the frequentist statistical approaches.\n",
    "   4. Write a story describing the statistical significance in the context or the original problem.\n",
    "   5. Does your analysis mean that race/name is the most important factor in callback success? Why or why not? If not, how would you amend your analysis?\n",
    "\n",
    "You can include written notes in notebook cells using Markdown: \n",
    "   - In the control panel at the top, choose Cell > Cell Type > Markdown\n",
    "   - Markdown syntax: http://nestacms.com/docs/creating-content/markdown-cheat-sheet\n",
    "\n",
    "#### Resources\n",
    "+ Experiment information and data source: http://www.povertyactionlab.org/evaluation/discrimination-job-market-united-states\n",
    "+ Scipy statistical methods: http://docs.scipy.org/doc/scipy/reference/stats.html \n",
    "+ Markdown syntax: http://nestacms.com/docs/creating-content/markdown-cheat-sheet\n",
    "+ Formulas for the Bernoulli distribution: https://en.wikipedia.org/wiki/Bernoulli_distribution"
   ]
  },
  {
   "cell_type": "code",
   "execution_count": 1,
   "metadata": {},
   "outputs": [],
   "source": [
    "%matplotlib inline\n",
    "import matplotlib.pyplot as plt\n",
    "import seaborn as sns\n",
    "import pandas as pd\n",
    "import numpy as np\n",
    "from scipy import stats\n",
    "import gc # memory control\n",
    "\n",
    "sns.set(style=\"whitegrid\")\n",
    "plt.style.use('seaborn')"
   ]
  },
  {
   "cell_type": "code",
   "execution_count": 2,
   "metadata": {},
   "outputs": [],
   "source": [
    "## import data\n",
    "data = pd.io.stata.read_stata('data/us_job_market_discrimination.dta')"
   ]
  },
  {
   "cell_type": "code",
   "execution_count": 3,
   "metadata": {},
   "outputs": [
    {
     "name": "stdout",
     "output_type": "stream",
     "text": [
      "sample size is: 4870\n"
     ]
    },
    {
     "data": {
      "text/html": [
       "<div>\n",
       "<style scoped>\n",
       "    .dataframe tbody tr th:only-of-type {\n",
       "        vertical-align: middle;\n",
       "    }\n",
       "\n",
       "    .dataframe tbody tr th {\n",
       "        vertical-align: top;\n",
       "    }\n",
       "\n",
       "    .dataframe thead th {\n",
       "        text-align: right;\n",
       "    }\n",
       "</style>\n",
       "<table border=\"1\" class=\"dataframe\">\n",
       "  <thead>\n",
       "    <tr style=\"text-align: right;\">\n",
       "      <th></th>\n",
       "      <th>firstname</th>\n",
       "      <th>race</th>\n",
       "      <th>call</th>\n",
       "    </tr>\n",
       "  </thead>\n",
       "  <tbody>\n",
       "    <tr>\n",
       "      <th>0</th>\n",
       "      <td>Allison</td>\n",
       "      <td>w</td>\n",
       "      <td>0.0</td>\n",
       "    </tr>\n",
       "    <tr>\n",
       "      <th>1</th>\n",
       "      <td>Kristen</td>\n",
       "      <td>w</td>\n",
       "      <td>0.0</td>\n",
       "    </tr>\n",
       "    <tr>\n",
       "      <th>2</th>\n",
       "      <td>Lakisha</td>\n",
       "      <td>b</td>\n",
       "      <td>0.0</td>\n",
       "    </tr>\n",
       "    <tr>\n",
       "      <th>3</th>\n",
       "      <td>Latonya</td>\n",
       "      <td>b</td>\n",
       "      <td>0.0</td>\n",
       "    </tr>\n",
       "    <tr>\n",
       "      <th>4</th>\n",
       "      <td>Carrie</td>\n",
       "      <td>w</td>\n",
       "      <td>0.0</td>\n",
       "    </tr>\n",
       "  </tbody>\n",
       "</table>\n",
       "</div>"
      ],
      "text/plain": [
       "  firstname race  call\n",
       "0   Allison    w   0.0\n",
       "1   Kristen    w   0.0\n",
       "2   Lakisha    b   0.0\n",
       "3   Latonya    b   0.0\n",
       "4    Carrie    w   0.0"
      ]
     },
     "execution_count": 3,
     "metadata": {},
     "output_type": "execute_result"
    }
   ],
   "source": [
    "## Extract needed columns\n",
    "## race: whether name sounds white or black\n",
    "## call: whether the resume receives a call from employers\n",
    "## firstnmae: firstname\n",
    "cols = ['firstname', 'race', 'call']\n",
    "df = data[cols].copy()\n",
    "\n",
    "print(\"sample size is:\", df.shape[0])\n",
    "df.head()"
   ]
  },
  {
   "cell_type": "code",
   "execution_count": 4,
   "metadata": {},
   "outputs": [
    {
     "data": {
      "text/plain": [
       "race\n",
       "b    157.0\n",
       "w    235.0\n",
       "Name: call, dtype: float32"
      ]
     },
     "execution_count": 4,
     "metadata": {},
     "output_type": "execute_result"
    }
   ],
   "source": [
    "## number of callbacks for black-sounding names and white-sounding names\n",
    "df.groupby('race')['call'].sum()"
   ]
  },
  {
   "cell_type": "code",
   "execution_count": 5,
   "metadata": {},
   "outputs": [
    {
     "data": {
      "text/plain": [
       "(2435, 2435)"
      ]
     },
     "execution_count": 5,
     "metadata": {},
     "output_type": "execute_result"
    }
   ],
   "source": [
    "## split into sub-samples based on race\n",
    "wdf = df[df.race=='w']\n",
    "bdf = df[df.race=='b']\n",
    "\n",
    "## array of values of sub-samples\n",
    "awdf = wdf['call'].values\n",
    "abdf = bdf['call'].values\n",
    "\n",
    "## length of arrays\n",
    "len(awdf), len(abdf)"
   ]
  },
  {
   "cell_type": "markdown",
   "metadata": {
    "collapsed": true
   },
   "source": [
    "# Q1 & Q2. What test is appropriate for this problem? Does CLT apply? What are the null and alternate hypothesis? \n",
    " \n",
    "Sample size is 4870 and is larger than 30 which is commonly accepted as threshold number for CLT. Therefore, __we can apply CLT__. As to the assessment of the problem, this is where __siginificance tests__ can play a role. Because by definition, significance tests tell us whether an observed effect, such as difference between two means or a correlation between two variables, could reasonably __occur \"just by chance\"__ in selecting a random sample. If not, we have evidence that the effect observed in the sample reflects an effect that is present in the population. We can perform this test with __permutation tests__. However, to apply this method, we need an important assumption that the observations are exchangeable under the null hypothesis. In light of our case, __null hypothesis (H$_o$) is: there is NO significant racial discrimination in the job market__. and __alternative hypothesis (H$_a$) is: \"there is significant racial discrimination in the job market__. Back to the theoretical side, under our null hypothesis, that is if we remove race tag, all observations are exchangeable; thus letting us use permutation test. To begine with, we need to set a statistic that measures the effect of discrimination. This case, it will be \"proportion\" of call within a racial group.\n",
    "\n",
    "With the same spirit, we can perform __chi-squared test__ to test null hypothesis. The chi-squared test is used to determine whether there is a significant difference between the expected frequencies and the observed frequencies in one or more categories. The purpose of the test is to evaluate how likely the observations that are made would be, assuming the null hypothesis is true."
   ]
  },
  {
   "cell_type": "markdown",
   "metadata": {
    "collapsed": true
   },
   "source": [
    "# Q3. Compute margin of error, confidence interval, and p-value. \n",
    "\n",
    "### Permutation test\n",
    "Before we start, let me clear one terminology. The margin of error for a particular statistic of interest is usually defined as the radius (or half the width) of the confidence interval for that statistic."
   ]
  },
  {
   "cell_type": "code",
   "execution_count": 6,
   "metadata": {},
   "outputs": [],
   "source": [
    "## helpfer function\n",
    "def draw_perm_reps(obs1, obs2, size=1):\n",
    "    \"\"\"Draw permutation replicates by given function\n",
    "    Input: 1) obs1: observations of 1d array or list of first group ('w')\n",
    "           2) obs2: observations of 1d array or list of second group ('b')\n",
    "           3) size: size of return array of replicates\n",
    "    Output: 1d array of repllicates\n",
    "    \"\"\"\n",
    "    ## helpfer function that generates replicate of a sample\n",
    "    def permutation_sample(obs1, obs2):\n",
    "        \"\"\"Generate a permutation sample from two data sets.\n",
    "        Input: two arrays of differnt groups ('w', 'b')\n",
    "        output: permuted data arrays\n",
    "        \"\"\"\n",
    "        ## concatenate the data sets: data\n",
    "        data = np.concatenate([obs1, obs2])\n",
    "        ## permute the concatenated array: permuted_data\n",
    "        permuted_data = np.random.permutation(data)\n",
    "        # Split the permuted array into two: perm_sample_1, perm_sample_2\n",
    "        perm_sample_1 = permuted_data[:len(obs1)]\n",
    "        perm_sample_2 = permuted_data[len(obs1):]\n",
    "\n",
    "        return perm_sample_1, perm_sample_2\n",
    "    \n",
    "    ## initialize array of replicates of size\n",
    "    perm_replicates = np.empty(size)\n",
    "    \n",
    "    ## generate replicates\n",
    "    for i in range(size):\n",
    "        ## permuted sample\n",
    "        perm_w, perm_b = permutation_sample(obs1, obs2)\n",
    "        ## difference of proportion between racial group\n",
    "        perm_replicates[i] = np.mean(perm_w) - np.mean(perm_b)\n",
    "    \n",
    "    return perm_replicates"
   ]
  },
  {
   "cell_type": "code",
   "execution_count": 7,
   "metadata": {},
   "outputs": [
    {
     "name": "stdout",
     "output_type": "stream",
     "text": [
      "p-value: 8e-05\n",
      "The null hypothesis can be rejected: there is likely significant racial discrimination in the job market\n",
      "95% confidence interval of permutation distribution is [-0.016, 0.016]\n",
      "Margin of error at 95% confidence is: 0.016\n"
     ]
    },
    {
     "data": {
      "image/png": "[encoded data removed]",
      "text/plain": [
       "<Figure size 1080x576 with 1 Axes>"
      ]
     },
     "metadata": {
      "needs_background": "light"
     },
     "output_type": "display_data"
    }
   ],
   "source": [
    "## Observed difference\n",
    "observed = np.mean(awdf) - np.mean(abdf)\n",
    "\n",
    "## permute the sample of 50,000 times and calculate the difference of proportion of call\n",
    "perm_replicates = draw_perm_reps(awdf, abdf, size=50000)\n",
    "\n",
    "## define significance level: 0.05\n",
    "alpha = 0.05\n",
    "## calculate the p_value\n",
    "p_value = np.sum(perm_replicates > observed) / len(perm_replicates)\n",
    "\n",
    "## null hypothesis: there is NO significant racial discrimination in the job market\n",
    "print(\"p-value:\", p_value)\n",
    "if p_value < alpha:\n",
    "    print(\"The null hypothesis can be rejected: there is likely significant racial discrimination in the job market\")\n",
    "else:\n",
    "    print(\"the null hypothesis cannot be rejected: there is NOT likely significant racial discrimination in the job market\")\n",
    "\n",
    "## calculate 95% confidence interval of permutation distribution\n",
    "left, right = np.percentile(perm_replicates, [2.5, 97.5])\n",
    "print(\"95% confidence interval of permutation distribution is [{:.3f}, {:.3f}]\".format(left, right))\n",
    "\n",
    "## calculate margine of error: me\n",
    "me = (right - left) / 2\n",
    "print(\"Margin of error at 95% confidence is: {:.3f}\".format(me))\n",
    "\n",
    "## visualization\n",
    "plt.figure(figsize=(15, 8))\n",
    "sns.set(style=\"whitegrid\", font_scale=1.1)\n",
    "\n",
    "## distribution plot\n",
    "ax = sns.distplot(perm_replicates, bins=20, color = 'purple', hist_kws=dict(alpha=0.3))\n",
    "\n",
    "plt.title(r'Permutation Distribution ($\\mu: {:.2f}, \\sigma: {:.3f}, \\alpha: 0.05$)'.format(np.mean(perm_replicates), np.std(perm_replicates)), fontsize=20)\n",
    "plt.xlabel('Difference of Samples')\n",
    "plt.ylabel('Frequency')\n",
    "ax.yaxis.set_ticklabels([])\n",
    "\n",
    "y = ax.get_ylim()[1]\n",
    "ax.fill_between([min(perm_replicates)-0.005, left], 0, y, facecolor='green', alpha=0.1)\n",
    "ax.fill_between([right, max(perm_replicates)+0.005], 0, y, facecolor='green', alpha=0.1)\n",
    "\n",
    "ax.text(0.06, 0.72, 'rejection area (<{:.3f})'.format(left), \n",
    "         transform=ax.transAxes, color='#0f841b', fontsize=14);\n",
    "ax.text(0.76, 0.72, 'rejection area (>{:.3f})'.format(right), \n",
    "         transform=ax.transAxes, color='#0f841b', fontsize=14);\n",
    "\n",
    "ax.vlines(observed, 0,0.5, transform=ax.get_xaxis_transform(), alpha=0.7, color='red', linewidth=2)\n",
    "ax.text(0.85, 0.51, \"observed\\ndifference:\\n  {:.3f}\".format(observed), \n",
    "        transform=ax.transAxes, color=\"#f44242\", fontsize=14)\n",
    "\n",
    "sns.despine(right=True, top=True, left=True)\n",
    "ax.grid(color=\"grey\", linestyle=(0, (3.5, 1.5, 1, 5)), alpha=0.6)\n",
    "ax.yaxis.grid(False)\n",
    "ax.margins(0.02)"
   ]
  },
  {
   "cell_type": "markdown",
   "metadata": {},
   "source": [
    "According to permutation test, p-value is very negligible which means we reject the null hyothesis and implies there is likely significant racial discrimination in the job market. "
   ]
  },
  {
   "cell_type": "markdown",
   "metadata": {},
   "source": [
    "### Chi-squared test\n",
    "I use chi-squred test only to compare the result with that of permutation test, and will use scipy.stat.chi2_contingency. For detailed explanation for Chi-squared test, follow this [link][1] and reference this [examples][2]. \n",
    "\n",
    "[1]: https://en.wikipedia.org/wiki/Chi-squared_test\n",
    "[2]: http://math.hws.edu/javamath/ryan/ChiSquare.html"
   ]
  },
  {
   "cell_type": "code",
   "execution_count": 8,
   "metadata": {},
   "outputs": [
    {
     "data": {
      "text/html": [
       "<div>\n",
       "<style scoped>\n",
       "    .dataframe tbody tr th:only-of-type {\n",
       "        vertical-align: middle;\n",
       "    }\n",
       "\n",
       "    .dataframe tbody tr th {\n",
       "        vertical-align: top;\n",
       "    }\n",
       "\n",
       "    .dataframe thead th {\n",
       "        text-align: right;\n",
       "    }\n",
       "</style>\n",
       "<table border=\"1\" class=\"dataframe\">\n",
       "  <thead>\n",
       "    <tr style=\"text-align: right;\">\n",
       "      <th>race</th>\n",
       "      <th>b</th>\n",
       "      <th>w</th>\n",
       "    </tr>\n",
       "    <tr>\n",
       "      <th>call</th>\n",
       "      <th></th>\n",
       "      <th></th>\n",
       "    </tr>\n",
       "  </thead>\n",
       "  <tbody>\n",
       "    <tr>\n",
       "      <th>0.0</th>\n",
       "      <td>2278</td>\n",
       "      <td>2200</td>\n",
       "    </tr>\n",
       "    <tr>\n",
       "      <th>1.0</th>\n",
       "      <td>157</td>\n",
       "      <td>235</td>\n",
       "    </tr>\n",
       "  </tbody>\n",
       "</table>\n",
       "</div>"
      ],
      "text/plain": [
       "race     b     w\n",
       "call            \n",
       "0.0   2278  2200\n",
       "1.0    157   235"
      ]
     },
     "execution_count": 8,
     "metadata": {},
     "output_type": "execute_result"
    }
   ],
   "source": [
    "## compute a frequency table of call and race\n",
    "table = pd.crosstab(index=df['call'], columns=df['race'])\n",
    "\n",
    "table"
   ]
  },
  {
   "cell_type": "code",
   "execution_count": 9,
   "metadata": {},
   "outputs": [
    {
     "name": "stdout",
     "output_type": "stream",
     "text": [
      "Chi-sqared value: 16.449\n",
      "p-value: 4.997578389963255e-05\n",
      "degrees of freedom: 1\n"
     ]
    }
   ],
   "source": [
    "## chi: the test statistic\n",
    "## p: the p-value of the test\n",
    "## dof: degrees of freedom (ref: observed.size - sum(observed.shape) + observed.ndim - 1)\n",
    "## expected: the expected frequencies, based on the marginal sums of the table\n",
    "chi, p, dof, expected = stats.chi2_contingency(table)\n",
    "\n",
    "print(\"Chi-sqared value: {:.3f}\".format(chi))\n",
    "print(\"p-value:\", p)\n",
    "print(\"degrees of freedom:\", dof)"
   ]
  },
  {
   "cell_type": "markdown",
   "metadata": {},
   "source": [
    "With 1 degree of freedom and a chi-square statistic of 16.5, looking these values up on the chi square chart yields a p-value of approx 5e-5. This is substantially less than 0, meaning we still reject the null hypothesis that there is no significant racial discrimination in the job market. The Chi-square test confirms what we derived using permutation test.\n",
    "\n",
    "# Q4. Wrtie a story describing the statistical significance in the context or the original problem.\n",
    "As the original problem argued, many people have been claiming that Americans are as racist as they were back in the late 1980s in the job market. For example, researchers at Northwestern University, Harvard, and the Institute for Social Research in Norway, looked at every available field experiment on hiring discrimination from 1989 through 2015. The researchers found that anti-black racism in hiring is unchanged since at least 1989. They concluded that, on average, \"white applicants receive 36% more callbacks than equally qualified African Americans.\"\n",
    "\n",
    "The original problem is in line with these argument of racism in the job market. In order to determine whether race has a significant impact on the rate of callbacks for resumes. From the tests above, it is clear that a black sounding name negativetly influences whether or not that person receives a callback. In short, statisitcally, there is a chance that there exists significant racial discrimination in the job market."
   ]
  },
  {
   "cell_type": "markdown",
   "metadata": {},
   "source": [
    "# Q5. Does your analysis mean that race/name is the most important factor in callback success? Why or why not? If not, how would you amend your analysis?\n",
    "\n",
    "The analysis does not mean that race/name is the most important factor in callback success. All it means is that race, plays enough of a role to be statistically significant. Said another way, race has some influence on the outcome of the callback variable. More data is needed to determine if/what other factors may be influencing the outcome. That is, multivariate analysis must be performed on all supplied variables, as some may weigh more heavy on the resulting statistics than only race."
   ]
  }
 ],
 "metadata": {
  "kernelspec": {
   "display_name": "Python 3",
   "language": "python",
   "name": "python3"
  },
  "language_info": {
   "codemirror_mode": {
    "name": "ipython",
    "version": 3
   },
   "file_extension": ".py",
   "mimetype": "text/x-python",
   "name": "python",
   "nbconvert_exporter": "python",
   "pygments_lexer": "ipython3",
   "version": "3.6.6"
  }
 },
 "nbformat": 4,
 "nbformat_minor": 1
}
